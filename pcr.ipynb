{
  "nbformat": 4,
  "nbformat_minor": 5,
  "metadata": {
    "kernelspec": {
      "display_name": "Python 3",
      "language": "python",
      "name": "python3"
    },
    "language_info": {
      "codemirror_mode": {
        "name": "ipython",
        "version": 3
      },
      "file_extension": ".py",
      "mimetype": "text/x-python",
      "name": "python",
      "nbconvert_exporter": "python",
      "pygments_lexer": "ipython3",
      "version": "3.8.5"
    },
    "colab": {
      "name": "pcr.ipynb",
      "provenance": [],
      "collapsed_sections": [],
      "toc_visible": true,
      "include_colab_link": true
    }
  },
  "cells": [
    {
      "cell_type": "markdown",
      "metadata": {
        "id": "view-in-github",
        "colab_type": "text"
      },
      "source": [
        "<a href=\"https://colab.research.google.com/github/yatowoo/Priconne/blob/main/pcr.ipynb\" target=\"_parent\"><img src=\"https://colab.research.google.com/assets/colab-badge.svg\" alt=\"Open In Colab\"/></a>"
      ]
    },
    {
      "cell_type": "markdown",
      "metadata": {
        "id": "gaSMmfPclzx-"
      },
      "source": [
        "## Global data"
      ],
      "id": "gaSMmfPclzx-"
    },
    {
      "cell_type": "code",
      "metadata": {
        "id": "XW4InokTPggl"
      },
      "source": [
        "from math import *\n",
        "from random import uniform as rng\n",
        "import numpy as np\n",
        "import matplotlib.pyplot as plt\n",
        "from copy import deepcopy as cp_dict"
      ],
      "id": "XW4InokTPggl",
      "execution_count": null,
      "outputs": []
    },
    {
      "cell_type": "code",
      "metadata": {
        "id": "VXAF_spQlzyA"
      },
      "source": [
        "LV_MAX = 205\n",
        "HIT_DAMAGE_LIMIT = 999999"
      ],
      "id": "VXAF_spQlzyA",
      "execution_count": null,
      "outputs": []
    },
    {
      "cell_type": "markdown",
      "metadata": {
        "id": "XeWPW48qlzyB"
      },
      "source": [
        "### Character properties"
      ],
      "id": "XeWPW48qlzyB"
    },
    {
      "cell_type": "code",
      "metadata": {
        "id": "oZf731YYlzyB"
      },
      "source": [
        "# Properties of Luna\n",
        " \n",
        "LUNA = {\n",
        "    'attack': 17267 + (240 + 15 * LV_MAX),\n",
        "    'critical': 1392,\n",
        "    'defence_phys': 227,\n",
        "    'defence_magic': 331,\n",
        "    'hp': 24563,\n",
        "    'tp_boost': 32,\n",
        "    'tp_retain': 29\n",
        "}\n",
        " \n",
        "LUNA_4 = {\n",
        "    'attack': 16679 + (15 + 15 * LV_MAX),\n",
        "    'critical': 1392,\n",
        "    'defence_phys': 201,\n",
        "    'defence_magic': 305,\n",
        "    'hp': 20912,\n",
        "    'tp_boost': 32,\n",
        "    'tp_retain': 29\n",
        "}\n",
        " \n",
        "LUNA_3 = {\n",
        "    'attack': 16089 + (15 + 15 * LV_MAX),\n",
        "    'critical': 1392,\n",
        "    'defence_phys': 174,\n",
        "    'defence_magic': 278,\n",
        "    'hp': 17259,\n",
        "    'tp_boost': 32,\n",
        "    'tp_retain': 29\n",
        "}\n",
        " \n",
        " \n",
        "# Properties of Nyaru\n",
        " # Rank21-4\n",
        "NYARU = {\n",
        "    'attack': 17839 + (240 + 15 * LV_MAX),\n",
        "    'critical': 1602,\n",
        "    'defence_phys': 241,\n",
        "    'defence_magic': 302,\n",
        "    'hp': 24319,\n",
        "    'tp_boost': 32,\n",
        "    'tp_retain': 17\n",
        "}\n",
        " \n",
        "NYARU_4 = {\n",
        "    'attack': 17237 + (15 + 15 * LV_MAX),\n",
        "    'critical': 1602,\n",
        "    'defence_phys': 213,\n",
        "    'defence_magic': 281,\n",
        "    'hp': 20724,\n",
        "    'tp_boost': 32,\n",
        "    'tp_retain': 17\n",
        "}\n",
        " \n",
        "NYARU_3 = {\n",
        "    'attack': 16636 + (15 + 15 * LV_MAX),\n",
        "    'critical': 1602,\n",
        "    'defence_phys': 183,\n",
        "    'defence_magic': 258,\n",
        "    'hp': 17126,\n",
        "    'tp_boost': 32,\n",
        "    'tp_retain': 17\n",
        "}\n",
        " \n",
        "# Nuneka\n",
        "# Rank 12, TP equip ONLY, 12-1/3 + 12-3/5\n",
        "# Rank 12, FULL\n",
        "NUNEKA_512 = {\n",
        "    'attack': 7952 + (240 + 15 * LV_MAX),\n",
        "    'critical': 128,\n",
        "    'defence_phys': 217,\n",
        "    'defence_magic': 365,\n",
        "    'hp': 26840,\n",
        "    'tp_boost': 14,\n",
        "    'tp_retain': 32\n",
        "}\n",
        "NUNEKA_412= {\n",
        "    'attack': 7338 + (15 + 15 * LV_MAX),\n",
        "    'critical': 128,\n",
        "    'defence_phys': 187,\n",
        "    'defence_magic': 336,\n",
        "    'hp': 22734,\n",
        "    'tp_boost': 14,\n",
        "    'tp_retain': 32\n",
        "}\n",
        "NUNEKA_312 = {\n",
        "    'attack': 6722 + (15 + 15 * LV_MAX),\n",
        "    'critical': 128,\n",
        "    'defence_phys': 156,\n",
        "    'defence_magic': 306,\n",
        "    'hp': 18641,\n",
        "    'tp_boost': 14,\n",
        "    'tp_retain': 32\n",
        "}\n",
        "# Neneka\n",
        "# Rank 21-4 FULL\n",
        "NENEKA = {\n",
        "    'attack': 17090 + (240 + 15 * LV_MAX),\n",
        "    'critical': 1382,\n",
        "    'defence_phys': 241,\n",
        "    'defence_magic': 337,\n",
        "    'hp': 27561,\n",
        "    'tp_boost': 32,\n",
        "    'tp_retain': 17\n",
        "}\n",
        "NENEKA_4 = {\n",
        "    'attack': 16401 + (15 + 15 * LV_MAX),\n",
        "    'critical': 1382,\n",
        "    'defence_phys': 213,\n",
        "    'defence_magic': 309,\n",
        "    'hp': 23412,\n",
        "    'tp_boost': 32,\n",
        "    'tp_retain': 17\n",
        "}\n",
        "NENEKA_3 = {\n",
        "    'attack': 15710 + (15 + 15 * LV_MAX),\n",
        "    'critical': 1382,\n",
        "    'defence_phys': 183,\n",
        "    'defence_magic': 282,\n",
        "    'hp': 19282,\n",
        "    'tp_boost': 32,\n",
        "    'tp_retain': 17\n",
        "}"
      ],
      "id": "oZf731YYlzyB",
      "execution_count": null,
      "outputs": []
    },
    {
      "cell_type": "markdown",
      "metadata": {
        "id": "g02XTi2VlzyD"
      },
      "source": [
        "### Skills and battle fomules"
      ],
      "id": "g02XTi2VlzyD"
    },
    {
      "cell_type": "code",
      "metadata": {
        "id": "tOkzg610lzyE"
      },
      "source": [
        "def buff(buffCoef, lv = LV_MAX):\n",
        "  return buffCoef * (lv + 1)\n",
        " \n",
        "def tp_integer(tp_orignal, tp_boost):\n",
        "  return round(tp_orignal * (1 + tp_boost/100.))\n",
        " \n",
        "def yukari_tp(tp_boost, lv = LV_MAX):\n",
        "  return tp_integer(75 + 2.5 *lv, tp_boost)\n",
        " \n",
        "def miren_tp(tp_boost, lv = LV_MAX):\n",
        "  return tp_integer(200 + 1.35 * lv, tp_boost)\n",
        " \n",
        "def uzuki_tp(tp_boost, lv = LV_MAX):\n",
        "  return tp_integer(50 + 0.3 * lv, tp_boost)\n",
        " \n",
        "def nuneka_tp(tp_boost, lv = LV_MAX):\n",
        "  return tp_integer(18 + 0.6 * lv, tp_boost)\n",
        " \n",
        "def action_tp(tp_boost):\n",
        "  return tp_integer(90, tp_boost)\n",
        " \n",
        "def kill_tp(tp_boost):\n",
        "  return tp_integer(200, tp_boost)\n",
        " \n",
        "def hurt_tp_magic(damage, role):\n",
        "  return hurt_tp(damage, role['hp'], role['defence_magic'],role['tp_boost'])\n",
        " \n",
        "def hurt_tp(damage, hp, defence, tp_boost):\n",
        "  return tp_integer(damage/(1+defence/100.) / hp * 500, tp_boost)\n",
        " \n",
        "def hurt_for_UB(nActions, tpBoost, tpRetain, hpMAX, defence, otherTP = 0):\n",
        "  tpAction = nActions * action_tp(tpBoost)\n",
        "  dTP = 1000 - 1000 * tpRetain / 100 - tpAction - otherTP\n",
        "  return dTP / 500 * hpMAX / (1+tpBoost/100.) * (1+ defence/100.)\n",
        " \n",
        "# Damage for UB shifts\n",
        "def boss_early_ub(tpBoost, bossHP, nMaxBefore = 5):\n",
        "  N_MAX = floor(1000 / action_tp(tpBoost)) + 1\n",
        "  print(N_MAX, ' actions for UB without damage')\n",
        "  for nAction in range(N_MAX-nMaxBefore, N_MAX):\n",
        "    damage = round(hurt_for_UB(nAction, tpBoost, 0, bossHP, 0, 0))\n",
        "    print('Early UB from %d actions, if damage more than : %d' % (N_MAX - nAction, damage))\n",
        " \n",
        "def LogBarrier(damage, threshold=850000, factor=100000):\n",
        "    if(damage < threshold):\n",
        "        return damage\n",
        "    else:\n",
        "        return (factor * log((damage-threshold)/factor + 1) + threshold)\n",
        "  \n",
        "def critical_rate(criVal, enemyLv, lv = LV_MAX):\n",
        "    return (0.05 * criVal / 100 * lv / enemyLv)\n",
        " \n",
        "def critical_damage(orignalDamage, rate, criticalDamageBuff = 0., criticalCoeff = 2.0, defense = 0, logBarrier=False):\n",
        "    hit = 0\n",
        "    if(rng(0,1) < rate ):\n",
        "        hit = round(orignalDamage * criticalCoeff * (1 + criticalDamageBuff))\n",
        "    else:\n",
        "        hit = round(orignalDamage)\n",
        "    if(logBarrier):\n",
        "      hit = LogBarrier(hit)\n",
        "    return min(HIT_DAMAGE_LIMIT, round(hit / (1+defense/100.)))\n",
        " \n",
        "NYARU_UB_BUFF_COEFF = 0.1125\n",
        "def nyaruUB(attackWithBuff, criticalWithBuff, criticalDamageBuff = 0.,\n",
        "            enemyLv = LV_MAX, lv = LV_MAX,\n",
        "            detail=False, magic_defense = 0, logBarrier=False):\n",
        "    # split in 10 parts = 1/13 * 9 + 4/13\n",
        "    orignalDamage = 60 * (LV_MAX + 1 ) + 4.8 * attackWithBuff\n",
        "    hits = []\n",
        "    for i in ([1] * 9 + [4]):\n",
        "      hit = critical_damage(orignalDamage*i/13, critical_rate(criticalWithBuff, enemyLv, lv), criticalDamageBuff, defense=magic_defense)\n",
        "      hits.append(hit)\n",
        "    totalDamage = sum(hits)\n",
        "    if(logBarrier):\n",
        "      effectDamage = LogBarrier(totalDamage)\n",
        "      ratio = effectDamage / totalDamage\n",
        "      effectDamage = sum([round(hit * ratio) for hit in hits])\n",
        "    else:\n",
        "      effectDamage = round(totalDamage)\n",
        "    if detail:\n",
        "        return [round(orignalDamage * 1/13), round(orignalDamage * 4/13), effectDamage]\n",
        "    else:\n",
        "        return effectDamage\n",
        " \n",
        "def NyaruS1(attackWithBuff, enemyDefense, criticalWithBuff, criticalDamageBuff =0., enemyLv = LV_MAX, lv = LV_MAX, logBarrier=False):\n",
        "   original = 27 * (LV_MAX + 1) + 2.1 * attackWithBuff\n",
        "   damage = critical_damage(original, critical_rate(criticalWithBuff, enemyLv, lv), criticalDamageBuff, defense = enemyDefense, logBarrier=logBarrier)\n",
        "   return damage\n",
        " \n",
        "def NyaruS2_Shield(attackWithBuff):\n",
        "  return round(buff(3) + 0.08 * attackWithBuff)\n",
        " \n",
        "def LunaS1(attackWithBuff, enemyDefense, criticalWithBuff, criticalDamageBuff = 0., enemyLv = LV_MAX, lv = LV_MAX):\n",
        "    return round(critical_damage(attackWithBuff, critical_rate(criticalWithBuff, enemyLv, lv), criticalDamageBuff, defense=enemyDefense))\n",
        " \n",
        "def LunaS2(attackWithBuff, enemyDefense, criticalWithBuff, friendFlag=0, criticalDamageBuff =0., enemyLv = LV_MAX, lv = LV_MAX, logBarrier=False):\n",
        "  if(friendFlag <2):\n",
        "    original = 20 * (LV_MAX + 1) + 1.6 * attackWithBuff\n",
        "  else:\n",
        "    original = 40 * (LV_MAX + 1) + 3.2 * attackWithBuff\n",
        "  damage = critical_damage(original, critical_rate(criticalWithBuff, enemyLv, lv), criticalDamageBuff, defense = enemyDefense, logBarrier=logBarrier)\n",
        "  return damage\n",
        " \n",
        "def LunaUB(attackWithBuff, enemyDefense, criticalWithBuff, friendFlag=5, criticalDamageBuff =0., enemyLv = LV_MAX, lv = LV_MAX):\n",
        "  original = 12.5 * (LV_MAX +1) + (1.0 + min(5, friendFlag) * 1.2) * attackWithBuff\n",
        "  # divide into 5 hits, each took 1/5 damage\n",
        "  hits = []\n",
        "  for i in ([1] * 5):\n",
        "    hit = critical_damage(original*i/5, critical_rate(criticalWithBuff, enemyLv, lv), criticalDamageBuff, defense=enemyDefense)\n",
        "    hits.append(round(hit))\n",
        "  return sum(hits)"
      ],
      "id": "tOkzg610lzyE",
      "execution_count": null,
      "outputs": []
    },
    {
      "cell_type": "markdown",
      "metadata": {
        "id": "r-3PdNkBlzyH"
      },
      "source": [
        "#### Test : Nyaru UB damage distribution\n",
        "Nyaru's UB is splitted into 10 hits, including the first 9 hits took 1/13 damage and the last hit took 4/13. For simplicity, I suppose the critical for each hit is calculated independently. "
      ],
      "id": "r-3PdNkBlzyH"
    },
    {
      "cell_type": "code",
      "metadata": {
        "colab": {
          "base_uri": "https://localhost:8080/",
          "height": 278
        },
        "id": "hhS82fQ3lzyI",
        "outputId": "185784fe-51bc-4544-cf3a-8bdc75b73609"
      },
      "source": [
        "nyaruTest = lambda x : nyaruUB(NYARU['attack'] + x, NYARU['critical']+180,0.25,400)\n",
        "a = [nyaruTest(100000) for i in range(0,10000)]\n",
        "_ = plt.hist(a, bins='auto')"
      ],
      "id": "hhS82fQ3lzyI",
      "execution_count": null,
      "outputs": [
        {
          "output_type": "display_data",
          "data": {
            "image/png": "[encoded data removed]",
            "text/plain": [
              "<Figure size 432x288 with 1 Axes>"
            ]
          },
          "metadata": {
            "tags": [],
            "needs_background": "light"
          }
        }
      ]
    },
    {
      "cell_type": "markdown",
      "metadata": {
        "id": "idebBK_fpxOi"
      },
      "source": [
        "Nyaru UB to reach digit barrier without log barrier. Require around **24M** damage by UB in last 18 seconds."
      ],
      "id": "idebBK_fpxOi"
    },
    {
      "cell_type": "code",
      "metadata": {
        "colab": {
          "base_uri": "https://localhost:8080/"
        },
        "id": "2dQw1gmulzyK",
        "outputId": "f1a9f1b2-e206-4a1a-f467-047abbade822"
      },
      "source": [
        "totalDamageIn18s = (999999*13/4.8-NYARU['attack'])/NYARU_UB_BUFF_COEFF\n",
        "d = nyaruUB(NYARU['attack'] + totalDamageIn18s*NYARU_UB_BUFF_COEFF, NYARU['critical'],0.15,400, LV_MAX, True)\n",
        "print(d)\n",
        "print(d[0]*9 + 999999)\n",
        "print(totalDamageIn18s)"
      ],
      "id": "2dQw1gmulzyK",
      "execution_count": null,
      "outputs": [
        {
          "output_type": "stream",
          "text": [
            "[1000950, 4003799, 9999990]\n",
            "10008549\n",
            "23886441.111111112\n"
          ],
          "name": "stdout"
        }
      ]
    },
    {
      "cell_type": "markdown",
      "metadata": {
        "id": "aRZ5R_zpqgDQ"
      },
      "source": [
        "#### Test: Damage needed for UB "
      ],
      "id": "aRZ5R_zpqgDQ"
    },
    {
      "cell_type": "code",
      "metadata": {
        "id": "DSM41nwzqfGr",
        "colab": {
          "base_uri": "https://localhost:8080/"
        },
        "outputId": "f0366f48-4907-478a-ce51-1f3c65fdc7b9"
      },
      "source": [
        "# Nyaru with Yukari and Luna at 1:18\n",
        "print('Hit4UB, LunaATK, BuffCoef')\n",
        "for chara in [NYARU, NYARU_4, NYARU_3]:\n",
        "  hurtNyaru = round( hurt_for_UB(2, chara['tp_boost'], 0, chara['hp'], chara['defence_magic'], yukari_tp(chara['tp_boost'])))\n",
        "  buffNeeded = round( (hurtNyaru-LUNA['attack'])/(LV_MAX+1) )\n",
        "  print(hurtNyaru, LUNA['attack'], buffNeeded, sep=' , ')\n",
        "\n",
        "print(yukari_tp(NYARU['tp_boost']))"
      ],
      "id": "DSM41nwzqfGr",
      "execution_count": null,
      "outputs": [
        {
          "output_type": "stream",
          "text": [
            "Hit4UB, LunaATK, BuffCoef\n",
            "-2040 , 20536 , -110\n",
            "-1652 , 20536 , -108\n",
            "14127 , 20536 , -31\n",
            "776\n"
          ],
          "name": "stdout"
        }
      ]
    },
    {
      "cell_type": "markdown",
      "metadata": {
        "id": "hGDG7NoclzyL"
      },
      "source": [
        "### TP interger check"
      ],
      "id": "hGDG7NoclzyL"
    },
    {
      "cell_type": "code",
      "metadata": {
        "colab": {
          "base_uri": "https://localhost:8080/"
        },
        "id": "sB6IdQ7MlzyS",
        "outputId": "f1b0cdf4-2d3a-4d45-bdb9-56e07ed98436"
      },
      "source": [
        "# Miren, Uzuki TP charge\n",
        "print(\"TP Boost\\tAction\\tMiren\\tUzuki\\tYukari\")\n",
        "for tp_boost in [6, 8, 11, 13, 16, 21, 26, 28, 31, 33, 34, 35, 36, 39, 40, 43, 46, 50, 54, 56, 66]:\n",
        "    print(\"%d\\t\\t%d\\t\\t%d\\t\\t%d\\t\\t%d\" % (tp_boost, action_tp(tp_boost), miren_tp(tp_boost), uzuki_tp(tp_boost+8), yukari_tp(tp_boost)))\n",
        "\n",
        "'''DEBUG\n",
        "def tp_integer(tp_orignal, tp_boost):\n",
        "  return (tp_orignal * (1 + tp_boost/100.))\n",
        "'''\n",
        "print(\"TP Boost\\tAction\\tMiren\\tUzuki\\tYukari\")\n",
        "for tp_boost in [6, 8, 11, 13, 16, 21, 26, 28, 31, 33, 34, 35, 36, 39, 40, 43, 46, 50, 54, 56, 66]:\n",
        "    print(\"%d\\t\\t%.2f\\t\\t%.2f\\t\\t%.2f\\t\\t%.2f\" % (tp_boost, action_tp(tp_boost), miren_tp(tp_boost), uzuki_tp(tp_boost+8), yukari_tp(tp_boost)))\n"
      ],
      "id": "sB6IdQ7MlzyS",
      "execution_count": null,
      "outputs": [
        {
          "output_type": "stream",
          "text": [
            "TP Boost\tAction\tMiren\tUzuki\tYukari\n",
            "6\t\t95\t\t505\t\t127\t\t623\n",
            "8\t\t97\t\t515\t\t129\t\t634\n",
            "11\t\t100\t\t529\t\t133\t\t652\n",
            "13\t\t102\t\t539\t\t135\t\t664\n",
            "16\t\t104\t\t553\t\t138\t\t682\n",
            "21\t\t109\t\t577\t\t144\t\t711\n",
            "26\t\t113\t\t601\t\t149\t\t740\n",
            "28\t\t115\t\t610\t\t152\t\t752\n",
            "31\t\t118\t\t625\t\t155\t\t770\n",
            "33\t\t120\t\t634\t\t157\t\t781\n",
            "34\t\t121\t\t639\t\t158\t\t787\n",
            "35\t\t122\t\t644\t\t159\t\t793\n",
            "36\t\t122\t\t648\t\t161\t\t799\n",
            "39\t\t125\t\t663\t\t164\t\t817\n",
            "40\t\t126\t\t667\t\t165\t\t822\n",
            "43\t\t129\t\t682\t\t168\t\t840\n",
            "46\t\t131\t\t696\t\t172\t\t858\n",
            "50\t\t135\t\t715\t\t176\t\t881\n",
            "54\t\t139\t\t734\t\t181\t\t905\n",
            "56\t\t140\t\t744\t\t183\t\t916\n",
            "66\t\t149\t\t791\t\t194\t\t975\n",
            "TP Boost\tAction\tMiren\tUzuki\tYukari\n",
            "6\t\t95.00\t\t505.00\t\t127.00\t\t623.00\n",
            "8\t\t97.00\t\t515.00\t\t129.00\t\t634.00\n",
            "11\t\t100.00\t\t529.00\t\t133.00\t\t652.00\n",
            "13\t\t102.00\t\t539.00\t\t135.00\t\t664.00\n",
            "16\t\t104.00\t\t553.00\t\t138.00\t\t682.00\n",
            "21\t\t109.00\t\t577.00\t\t144.00\t\t711.00\n",
            "26\t\t113.00\t\t601.00\t\t149.00\t\t740.00\n",
            "28\t\t115.00\t\t610.00\t\t152.00\t\t752.00\n",
            "31\t\t118.00\t\t625.00\t\t155.00\t\t770.00\n",
            "33\t\t120.00\t\t634.00\t\t157.00\t\t781.00\n",
            "34\t\t121.00\t\t639.00\t\t158.00\t\t787.00\n",
            "35\t\t122.00\t\t644.00\t\t159.00\t\t793.00\n",
            "36\t\t122.00\t\t648.00\t\t161.00\t\t799.00\n",
            "39\t\t125.00\t\t663.00\t\t164.00\t\t817.00\n",
            "40\t\t126.00\t\t667.00\t\t165.00\t\t822.00\n",
            "43\t\t129.00\t\t682.00\t\t168.00\t\t840.00\n",
            "46\t\t131.00\t\t696.00\t\t172.00\t\t858.00\n",
            "50\t\t135.00\t\t715.00\t\t176.00\t\t881.00\n",
            "54\t\t139.00\t\t734.00\t\t181.00\t\t905.00\n",
            "56\t\t140.00\t\t744.00\t\t183.00\t\t916.00\n",
            "66\t\t149.00\t\t791.00\t\t194.00\t\t975.00\n"
          ],
          "name": "stdout"
        }
      ]
    },
    {
      "cell_type": "markdown",
      "metadata": {
        "id": "O15IEPqPpX8U"
      },
      "source": [
        "## QuickSort mechanism\n",
        "\n",
        "Ref: [bigfun](https://www.bigfun.cn/post/407600)\n",
        "\n",
        "Skills to select target(s) with max/min stats is based on the result of quick sort, e.g. Luna S1. The index of characters/objects should be the reverse order of appearance."
      ],
      "id": "O15IEPqPpX8U"
    },
    {
      "cell_type": "code",
      "metadata": {
        "id": "yT3X5LJKppiQ"
      },
      "source": [
        "# For skills to decide target with max/min stats.\n",
        "MAX_LOOP_TRY = 100000\n",
        "def swap(arr, left, right):\n",
        "  tmp = arr[left]\n",
        "  arr[left] = arr[right]\n",
        "  arr[right] = tmp\n",
        "def qsort(vals, left, right, pos):\n",
        "  if(left >= right):\n",
        "    return\n",
        "  pivotL = left\n",
        "  pivotR = right\n",
        "  pivotVal = vals[int((pivotL + pivotR) / 2)]\n",
        "  for i in range(MAX_LOOP_TRY):\n",
        "    while(pivotL < right and vals[pivotL] < pivotVal):\n",
        "      pivotL += 1\n",
        "    while(pivotR > left and vals[pivotR] > pivotVal):\n",
        "      pivotR -= 1\n",
        "    if(pivotL > pivotR):\n",
        "      break\n",
        "    # swap value\n",
        "    vals[pivotL], vals[pivotR] = vals[pivotR], vals[pivotL]\n",
        "    pos[pivotL], pos[pivotR] = pos[pivotR], pos[pivotL]\n",
        "    pivotL +=1\n",
        "    pivotR -=1\n",
        "  if(left < pivotR):\n",
        "    qsort(vals, left, pivotR, pos)\n",
        "  if(pivotL < right):\n",
        "    qsort(vals, pivotL, right, pos)\n",
        "  return\n",
        "def qsort_selection(vals, maxFlag = True, reverseFlag=True):\n",
        "  pos = list(range(1, len(vals)+1))\n",
        "  if(reverseFlag):\n",
        "    pos.reverse()\n",
        "  qsort(vals, 0, len(vals)-1, pos)\n",
        "  if(maxFlag):\n",
        "    return pos[-1]\n",
        "  else:\n",
        "    return pos[0]"
      ],
      "id": "yT3X5LJKppiQ",
      "execution_count": null,
      "outputs": []
    },
    {
      "cell_type": "code",
      "metadata": {
        "colab": {
          "base_uri": "https://localhost:8080/"
        },
        "id": "8aDF62CZuwtF",
        "outputId": "3092cfed-8cee-48e5-ac3b-2087ef70aa5c"
      },
      "source": [
        "# Position/Apperance order in party: [5, 4, 3, 2, 1]\n",
        "# Add summon: [6, 5, 4, 3, 2, 1]\n",
        "statsArray = [1,1,1,1,1]\n",
        "qsort_selection(statsArray)"
      ],
      "id": "8aDF62CZuwtF",
      "execution_count": null,
      "outputs": [
        {
          "output_type": "execute_result",
          "data": {
            "text/plain": [
              "4"
            ]
          },
          "metadata": {
            "tags": []
          },
          "execution_count": 2
        }
      ]
    },
    {
      "cell_type": "markdown",
      "metadata": {
        "id": "q-4G2bn5LXra"
      },
      "source": [
        "## Timeline simulation\n",
        "\n",
        "Timeline:\n",
        "* Objects: Characters, Boss(es), Summon(s)\n",
        "* Properties: Initial stats, Skill/Actions (formula, animation and loop)\n",
        "* Status: + HP/TP, (Position) for each object\n",
        "* Status recorder: to record status change, store array of delta value of properties with target object and timestamp of start and end"
      ],
      "id": "q-4G2bn5LXra"
    },
    {
      "cell_type": "code",
      "metadata": {
        "id": "Q9_3IZYuWIzu"
      },
      "source": [
        "# Class: Status recorder\n",
        "# Data: LIST for delta information (DICT)\n",
        "# Methods: input object, TIMESTAMP and properties, return accumulated buff/debuff and current status\n",
        "# Status change (buff/debuff): \n",
        "#   physic_attack, magic_attack\n",
        "#   physic_defence, magic_defence\n",
        "#   physic_critical, magic_critical, physical_critical_damage, magic_critical_damage\n",
        "#   TP boost\n",
        "#   speed (final value, not delta)\n",
        "#   field (overlap?)\n",
        "#   Other: HP drain rate, HOT/DOT\n",
        "#   Info: caster, target (name/ID), timestamp (start/end) [seconds or frame?]\n",
        "\n",
        "class StatusRecorder:\n",
        "  STATS_NAME = ['atk_phy', 'atk_mag', 'def_phy', 'def_mag', 'crit_phy', 'crit_mag', 'crit_damage_phy', 'crit_damage_mag','tp_boost','speed']\n",
        "  INFO_NAME = ['caster', 'target', 'start', 'stop', 'duration']\n",
        "  party = []\n",
        "  objects = []\n",
        "  status_delta = []\n",
        "  status_delta_backup = [] \n",
        "  def __init__(self, party):\n",
        "    self.status_delta = []\n",
        "    self.party = party\n",
        "    self.objects = party + ['boss']\n",
        "  # Input check and change function object abbr to list\n",
        "  def append(self, newStatusChange):\n",
        "    # Argument type check\n",
        "    if(type(newStatusChange) is not dict or not bool(newStatusChange)):\n",
        "      print('[X] Argument error - require dict with stats name and value - from StatusRecorder.append')\n",
        "      return False\n",
        "    delta =cp_dict(newStatusChange)\n",
        "    # Name check\n",
        "    for k in delta.keys():\n",
        "      if(k not in self.STATS_NAME + self.INFO_NAME):\n",
        "        print('[X] Argument error - can not find key ' + repr(k) + ' - from StatusRecorder.append')\n",
        "        return False\n",
        "    # Target check\n",
        "    tgt = delta['target']\n",
        "    if(type(tgt) is not list):\n",
        "      if(tgt is 'all'):\n",
        "        delta['target'] = self.party\n",
        "      elif(tgt in self.objects):\n",
        "          delta['target'] = [tgt]\n",
        "      else:\n",
        "        print('[X] Argument error - can not find target ' +repr(tgt) + ' in current party ' + repr(self.party) + '- from StatusRecorder.append')\n",
        "    else:\n",
        "      for name in tgt:\n",
        "        if(name not in self.objects):\n",
        "          print('[X] Argument error - can not find target ' +repr(name) + ' in current battle ' + repr(self.objects) + '- from StatusRecorder.append')\n",
        "    # End time\n",
        "    delta['stop'] = delta['start'] - delta['duration']\n",
        "    self.status_delta.append(delta)\n",
        "    return True\n",
        "  def addAtkBuff(self, buffValue, timestamp, duration=12, buffCritical = 0, buffCritDamage=0, buffType='phy', target='all', caster=None):\n",
        "    delta = {'start': timestamp, 'stop': timestamp - duration, 'duration': duration, 'target': target, 'caster': caster}\n",
        "    if(buffType is 'phy'):\n",
        "      delta['atk_phy'] = buffValue\n",
        "      delta['crit_phy'] = buffCritical\n",
        "      delta['crit_damage_phy'] = buffCritDamage\n",
        "    elif(buffType is 'mag'):\n",
        "      delta['atk_mag'] = buffValue\n",
        "      delta['crit_mag'] = buffCritical\n",
        "      delta['crit_damage_mag'] = buffCritDamage\n",
        "    else:\n",
        "      print('[X] Input buff type error - ', buffType, ' not defined - from StatusRecorder.addAtkBuff')\n",
        "      return\n",
        "    return self.append(delta)\n",
        "  def update(self, deltaVal, timestamp, duration = 12, statsType='atk_phy', target='all', caster=None):\n",
        "    delta = {'start': timestamp, 'stop': timestamp - duration, 'duration': duration, 'target': target, 'caster': caster}\n",
        "    delta[statsType] = deltaVal\n",
        "    return self.append(delta)\n",
        "  def getStatus(self, initStats, target, timestamp=90, statsKey='all'):\n",
        "    nowStats = cp_dict(initStats)\n",
        "    for delta in self.status_delta:\n",
        "      if(delta['stop'] > timestamp or  delta['start'] < timestamp or target not in delta['target']):\n",
        "        continue\n",
        "      for k in [name for name in delta.keys() if name not in self.INFO_NAME]:\n",
        "        nowStats[k] += delta[k]\n",
        "    # Value check - non-zero stats\n",
        "    for k in [name for name in nowStats.keys() if name in self.STATS_NAME and name not in self.INFO_NAME]:\n",
        "      nowStats[k] = max(0, nowStats[k])\n",
        "    if(statsKey is 'all'):\n",
        "      return nowStats\n",
        "    else:\n",
        "      return nowStats[statsKey]\n",
        "# END - Class definition"
      ],
      "id": "Q9_3IZYuWIzu",
      "execution_count": null,
      "outputs": []
    },
    {
      "cell_type": "markdown",
      "metadata": {
        "id": "Jl3HmON10y4Z"
      },
      "source": [
        "### Decorator for Chara Skills"
      ],
      "id": "Jl3HmON10y4Z"
    },
    {
      "cell_type": "code",
      "metadata": {
        "id": "k9K2MBtf0yMm"
      },
      "source": [
        "statsRec = StatusRecorder(['yukari', 'anna', 'akari', 'nyaru', 'luna'])\n",
        "\n",
        "initStats = {}\n",
        "initStats['nyaru'] = {'atk_mag':NYARU['attack'], 'crit_mag':NYARU['critical']}\n",
        "initStats['boss'] = {'name': '2021/05 C4', 'lv': 115, 'HP': 18000000, 'def_phy': 300, 'def_mag': 290, 'tp_boost':40}\n",
        "for k in [x for x in statsRec.STATS_NAME if x not in initStats['nyaru'].keys()]:\n",
        "  initStats['nyaru'][k] = 0.\n",
        "damageRec = {}\n",
        "for name in statsRec.party:\n",
        "  damageRec[name] = []\n",
        "\n",
        "# LIST of tuples with format (timestamp, action)\n",
        "# action is function or string to call\n",
        "def RunTimeline(timeline):\n",
        "  # Run timeline\n",
        "  for timestamp, action in timeline:\n",
        "    # Run Action\n",
        "    if(callable(action)):\n",
        "      action(timestamp)\n",
        "    else:\n",
        "      name = action.split('_')[0]\n",
        "      skill = action.split('_')[1]\n",
        "      if(skill == 'a' or skill == 'attack'):\n",
        "        globals()['action_attack'](timestamp, name)\n",
        "      else:\n",
        "        globals()['action_' + action](timestamp)\n",
        "\n",
        "FLAG_DEBUG = False\n",
        "FLAG_LOGBARRIER = True\n",
        "# Attack\n",
        "def action_attack(timestamp, name):\n",
        "  charaNow = statsRec.getStatus(initStats[name], name, timestamp)\n",
        "  bossNow = statsRec.getStatus(initStats['boss'], 'boss', timestamp)\n",
        "  # Attack type\n",
        "  if(charaNow['atk_phy'] < charaNow['atk_mag']):\n",
        "    hits = critical_damage(charaNow['atk_mag'],\n",
        "                         critical_rate(charaNow['crit_mag'], bossNow['lv']), charaNow['crit_damage_mag'], \n",
        "                         defense = bossNow['def_mag'], logBarrier=FLAG_LOGBARRIER)\n",
        "  else:\n",
        "    hits = critical_damage(charaNow['atk_phy'],\n",
        "                         critical_rate(charaNow['crit_phy'], bossNow['lv']), charaNow['crit_damage_phy'], \n",
        "                         defense = bossNow['def_phy'], logBarrier=FLAG_LOGBARRIER)\n",
        "  if(FLAG_DEBUG):\n",
        "    print('Time ' + repr(timestamp) + 's : ' + name + ' attack - ' +repr(hits))\n",
        "  damageRec[name].append(hits)\n",
        "  return hits\n",
        "\n",
        "# Nyaru - Kyaru (New Year)\n",
        "def action_nyaru_ub(timestamp):\n",
        "  charaNow = statsRec.getStatus(initStats['nyaru'], 'nyaru', timestamp)\n",
        "  bossNow = statsRec.getStatus(initStats['boss'], 'boss', timestamp)\n",
        "  hits = nyaruUB(charaNow['atk_mag'], charaNow['crit_mag'], charaNow['crit_damage_mag'], \n",
        "                 enemyLv=bossNow['lv'], magic_defense = bossNow['def_mag'],\n",
        "                 detail=True, logBarrier=FLAG_LOGBARRIER)\n",
        "  if(FLAG_DEBUG):\n",
        "    print('Time ' + repr(timestamp) + 's : Nyaru UB - ' +repr(hits))\n",
        "  damage = hits[2]\n",
        "  statsRec.addAtkBuff(buff(10) + round(damage * NYARU_UB_BUFF_COEFF), \n",
        "                      timestamp, duration=18, buffType='mag', target='nyaru')\n",
        "  damageRec['nyaru'].append(damage)\n",
        "  return round(damage)\n",
        "\n",
        "def action_nyaru_s1(timestamp):\n",
        "  charaNow = statsRec.getStatus(initStats['nyaru'], 'nyaru', timestamp)\n",
        "  bossNow = statsRec.getStatus(initStats['boss'], 'boss', timestamp)\n",
        "  hits = NyaruS1(charaNow['atk_mag'], bossNow['def_mag'], charaNow['crit_mag'],  charaNow['crit_damage_mag'], \n",
        "                 enemyLv=bossNow['lv'], logBarrier=FLAG_LOGBARRIER)\n",
        "  if(FLAG_DEBUG):\n",
        "    print('Time ' + repr(timestamp) + 's : Nyaru S1 - ' +repr(hits))\n",
        "  damageRec['nyaru'].append(hits)\n",
        "  return hits\n",
        "\n",
        "# Luna\n",
        "COUNTER_LunaFriends = 5\n",
        "def action_luna_ub(timestamp):\n",
        "  charaNow = statsRec.getStatus(initStats['luna'], 'luna', timestamp)\n",
        "  bossNow = statsRec.getStatus(initStats['boss'], 'boss', timestamp)\n",
        "  hits = LunaUB(charaNow['atk_mag'], bossNow['def_mag'], charaNow['crit_mag'], COUNTER_LunaFriends, \n",
        "                charaNow['crit_damage_mag'], enemyLv=bossNow['lv'])\n",
        "  if(FLAG_DEBUG):\n",
        "    print('Time ' + repr(timestamp) + 's : Luna attack - ' +repr(hits))\n",
        "  damageRec['luna'].append(hits)\n",
        "  return hits\n",
        "\n",
        "def action_luna_s2(timestamp):\n",
        "  charaNow = statsRec.getStatus(initStats['luna'], 'luna', timestamp)\n",
        "  bossNow = statsRec.getStatus(initStats['boss'], 'boss', timestamp)\n",
        "  hits = LunaS2(charaNow['atk_mag'], bossNow['def_mag'], charaNow['crit_mag'], COUNTER_LunaFriends, \n",
        "                charaNow['crit_damage_mag'], enemyLv=bossNow['lv'])\n",
        "  if(FLAG_DEBUG):\n",
        "    print('Time ' + repr(timestamp) + 's : Luna S2 - ' +repr(hits))\n",
        "  damageRec['luna'].append(hits)\n",
        "  return hits\n",
        "\n",
        "# TODO: accept target from string\n",
        "action_luna_s1 = lambda x : statsRec.addAtkBuff(buff(7.5), timestamp=x, buffCritical=100, buffType='mag', target='nyaru')\n",
        "\n",
        "# Buff/Debuff - Simple skills\n",
        "  # TODO: speed to 1.25\n",
        "action_ouka_s1 = lambda x : statsRec.addAtkBuff(buff(16), timestamp=x, duration=12, buffCritical=75, \n",
        "                                                buffType='mag', target='all')\n",
        "action_ouka_s2 = lambda x: statsRec.update(-buff(0.6), x, 12, 'def_mag', 'boss')\n",
        "action_nyaru_s2 = lambda x: statsRec.addAtkBuff(buff(6), timestamp=x, buffType='mag', target='all')\n",
        "def action_akari_ub(timestamp):\n",
        "  statsRec.addAtkBuff(buff(24), timestamp, 18, buffCritical=100, buffType='mag', target='all')\n",
        "  statsRec.update(-buff(0.66), timestamp, 18, 'def_mag', 'boss')\n",
        "\n",
        "# Miren\n",
        "def action_miren_ub(timestamp):\n",
        "  #TODO: speed to 1.5\n",
        "  statsRec.addAtkBuff(buff(10.5), timestamp, 12, buffType='mag', target='all')\n",
        "  statsRec.addAtkBuff(buff(10.5), timestamp, 12, buffType='phy', target='all')\n",
        "def action_miren_s1(timestamp):\n",
        "  # TODO: TP charge\n",
        "  statsRec.addAtkBuff(buff(18), timestamp, 20, buffType='mag', target='all')\n",
        "  statsRec.addAtkBuff(buff(18), timestamp, 20, buffType='phy', target='all')\n",
        "def action_miren_s2(timestamp):\n",
        "  statsRec.addAtkBuff(buff(2.5), timestamp, 12, buffCritical=20, buffType='mag', target='all')\n",
        "  statsRec.addAtkBuff(buff(2.5), timestamp, 12, buffCritical=20, buffType='phy', target='all')\n",
        "\n",
        "# Neneka\n",
        "def action_neneka_ub(timestamp):\n",
        "  statsRec.addAtkBuff(buff(28), timestamp, 18, buffType='mag', target='all')\n",
        "  statsRec.update(15, timestamp, 18, statsType='tp_boost', target='all')\n",
        "action_neneka_s2 = lambda x: statsRec.update(-buff(0.6), x, 12, 'def_mag', 'boss')\n",
        "\n",
        "# Nuneka\n",
        "def action_nuneka_ub(timestamp):\n",
        "  atkNow = statsRec.getStatus(initStats['nuneka'], 'nuneka', timestamp, statsKey='atk_mag')\n",
        "  atkBuff = buff(10.5) + 0.08 * atkNow\n",
        "  critBuff = 30 + 0.003 * atkNow\n",
        "  statsRec.addAtkBuff(atkBuff, timestamp, 18, critBuff, 0.1, buffType='mag', target='all', caster='nuneka')\n",
        "  statsRec.update(5, timestamp, 18, statsType='tp_boost', target='all')\n",
        "#TODO: add target var, tp charge\n",
        "action_nuneka_s1 = lambda x : statsRec.addAtkBuff(buff(20), timestamp=x, buffCritical=100, buffCritDamage=0.05, buffType='mag', target='nyaru')\n"
      ],
      "id": "k9K2MBtf0yMm",
      "execution_count": null,
      "outputs": []
    },
    {
      "cell_type": "markdown",
      "metadata": {
        "id": "KzReZMN3_bXV"
      },
      "source": [
        "### Test: Run action and timeline"
      ],
      "id": "KzReZMN3_bXV"
    },
    {
      "cell_type": "code",
      "metadata": {
        "colab": {
          "base_uri": "https://localhost:8080/"
        },
        "id": "-CUWo1cwR3BR",
        "outputId": "8a4e1184-98ba-4b20-e758-212436ebb545"
      },
      "source": [
        "FLAG_DEBUG = True\n",
        "\n",
        "statsRec.status_delta = []\n",
        "statsRec.update(-300, 90, 90, statsType='def_mag', target='boss')\n",
        "tl_tmp = [(84, 'miren_s1'), (82, 'ouka_s2'), (78, 'ouka_s1'), (76, 'nyaru_attack')]\n",
        "\n",
        "RunTimeline(tl_tmp)"
      ],
      "id": "-CUWo1cwR3BR",
      "execution_count": null,
      "outputs": [
        {
          "output_type": "stream",
          "text": [
            "Time 76s : nyaru attack - 55926\n"
          ],
          "name": "stdout"
        }
      ]
    },
    {
      "cell_type": "markdown",
      "metadata": {
        "id": "_zDjpJlsCvae"
      },
      "source": [
        "### Test : class StatusRecorder\n",
        "\n",
        "Case: 2020/05, C4 [video from Hanmario](https://youtu.be/n0Ht7fAF744)\n",
        "\n",
        "Party: Yukari, Anna, Akari, Nyaru, Luna\n",
        "\n",
        "**ISSUE**: Damage difference with Nyaru UB at 0:30, (video) 1194154 vs 1188894 (simulation)\n",
        "```\n",
        "TL\n",
        "118　にゃる\n",
        "116　アカリ\n",
        "115　にゃる　通常後\n",
        "110　にゃる　フィールドキャンセル\n",
        "104　にゃる　バレット後\n",
        "102　ルナ\n",
        "053　ユカリ\n",
        "048　アカリ\n",
        "047　にゃる\n",
        "　　　にゃる\n",
        "031　にゃる　ムンラ\n",
        "　　　ユカリ\n",
        "　　　にゃる　ソルコン\n",
        "　　　ルナ\n",
        "025　にゃるバレット討伐？足りないならアンナUB\n",
        "```"
      ],
      "id": "_zDjpJlsCvae"
    },
    {
      "cell_type": "code",
      "metadata": {
        "colab": {
          "base_uri": "https://localhost:8080/"
        },
        "id": "Ofs-rgk4C3KR",
        "outputId": "d63dd22c-9da9-4e0c-e2bc-a66e8f193861"
      },
      "source": [
        "statsRec = StatusRecorder(['yukari', 'anna', 'akari', 'nyaru', 'luna'])\n",
        "luna = LUNA\n",
        "nyaru = NYARU_3\n",
        "nyaruInit = {'atk_mag':nyaru['attack'], 'crit_mag':nyaru['critical'], 'crit_damage_mag': 0}\n",
        "bossInit = {'name': '2021/05 C4', 'lv': 115, 'HP': 18000000, 'def_phy': 300, 'def_mag': 290, 'tp_boost':40}\n",
        "damageRec = {}\n",
        "for name in statsRec.party:\n",
        "  damageRec[name] = []\n",
        "\n",
        "DEBUG_FLAG = True\n",
        "def HitNyaruUB(timestamp, debug=False):\n",
        "  nyaruNow = statsRec.getStatus(nyaruInit, 'nyaru', timestamp)\n",
        "  bossNow = statsRec.getStatus(bossInit, 'boss', timestamp)\n",
        "  hits = nyaruUB(nyaruNow['atk_mag'], nyaruNow['crit_mag'], nyaruNow['crit_damage_mag'], \n",
        "                 enemyLv=bossInit['lv'], magic_defense = bossNow['def_mag'],\n",
        "                 detail=True, logBarrier=True)\n",
        "  if(debug or DEBUG_FLAG):\n",
        "    print('Time ' + repr(timestamp) + 's : Nyaru UB - ' +repr(hits))\n",
        "  damage = hits[2]\n",
        "  statsRec.addAtkBuff(buff(10) + round(damage * NYARU_UB_BUFF_COEFF), timestamp, duration=18, buffType='mag', target='nyaru')\n",
        "  damageRec['nyaru'].append(damage)\n",
        "  return round(damage)\n",
        "def HitNyaruAttack(timestamp, debug=False):\n",
        "  nyaruNow = statsRec.getStatus(nyaruInit, 'nyaru', timestamp)\n",
        "  bossNow = statsRec.getStatus(bossInit, 'boss', timestamp)\n",
        "  hits = critical_damage(nyaruNow['atk_mag'],\n",
        "                         critical_rate(nyaruNow['crit_mag'], bossNow['lv']), nyaruNow['crit_damage_mag'], defense = bossNow['def_mag'], logBarrier=True)\n",
        "  if(debug or DEBUG_FLAG):\n",
        "    print('Time ' + repr(timestamp) + 's : Nyaru attack - ' +repr(hits))\n",
        "  damageRec['nyaru'].append(hits)\n",
        "  return hits\n",
        "def HitNyaruS1(timestamp, debug=False):\n",
        "  nyaruNow = statsRec.getStatus(nyaruInit, 'nyaru', timestamp)\n",
        "  bossNow = statsRec.getStatus(bossInit, 'boss', timestamp)\n",
        "  hits = NyaruS1(nyaruNow['atk_mag'], bossNow['def_mag'], nyaruNow['crit_mag'],  nyaruNow['crit_damage_mag'], enemyLv=bossNow['lv'], logBarrier=True)\n",
        "  if(debug or DEBUG_FLAG):\n",
        "    print('Time ' + repr(timestamp) + 's : Nyaru S1 - ' +repr(hits))\n",
        "  damageRec['nyaru'].append(hits)\n",
        "  return hits\n",
        "\n",
        "# Timeline\n",
        "HitLunaS1 = lambda x, y : statsRec.addAtkBuff(buff(7.5), timestamp=x, buffCritical=100, buffType='mag', target=y)\n",
        "# DEBUG: set boss defence to 0 from start (most of time)\n",
        "statsRec.update(-buff(1.6), 90, 90, 'def_mag', 'boss')\n",
        "#1:23 Nyaru S2\n",
        "statsRec.addAtkBuff(buff(6), 83, buffType='mag')\n",
        "#1:18 Luna S1\n",
        "HitNyaruUB(78)\n",
        "HitLunaS1(78, 'nyaru')\n",
        "#1:16 Akari UB\n",
        "statsRec.addAtkBuff(buff(24), 76, 18, 100, buffType='mag')\n",
        "HitNyaruAttack(75)\n",
        "HitNyaruUB(75)\n",
        "HitNyaruS1(72)\n",
        "#1:11 Luna S1\n",
        "HitLunaS1(71, 'nyaru')\n",
        "HitNyaruUB(70)\n",
        "HitNyaruAttack(67)\n",
        "HitNyaruS1(64) # 917311\n",
        "#1:04 Luna S1\n",
        "HitLunaS1(64, 'nyaru')\n",
        "HitNyaruUB(64)\n",
        "HitNyaruAttack(60) # 700164\n",
        "HitNyaruAttack(57) # 636552\n",
        "#DEBUG\n",
        "statsRec.update(buff(0.8), 53, 1, 'def_mag', 'boss')\n",
        "HitNyaruS1(53) # 476597, boss debuff=0.8, rest defence=290-200*0.8=130\n",
        "#0:51 Nyaru S2\n",
        "statsRec.addAtkBuff(buff(6), 51, buffType='mag')\n",
        "#0:48 Akari UB\n",
        "statsRec.addAtkBuff(buff(24), 48, 18, 100, buffType='mag')\n",
        "HitNyaruUB(47)\n",
        "HitLunaS1(47,'nyaru')\n",
        "HitNyaruUB(47)\n",
        "HitNyaruS1(44) # 993747\n",
        "HitNyaruAttack(41) # 552476\n",
        "HitNyaruAttack(36) # 550076\n",
        "HitNyaruS1(33) # 991016\n",
        "HitNyaruUB(31)\n",
        "HitLunaS1(30,'nyaru')\n",
        "HitNyaruUB(30)\n",
        "HitNyaruAttack(28) # 573310\n",
        "HitNyaruS1(25) # 999999\n",
        "# Results\n",
        "STATS_NYARU_VIDEO = 15757521\n",
        "simDamageNyaru = sum(damageRec['nyaru'])\n",
        "errorTotal = (simDamageNyaru - STATS_NYARU_VIDEO) / float(STATS_NYARU_VIDEO)\n",
        "print('Simulation result (Nyaru total damage) : %d vs %d, error=%.2f%%' % (simDamageNyaru, STATS_NYARU_VIDEO, errorTotal*100))"
      ],
      "id": "Ofs-rgk4C3KR",
      "execution_count": null,
      "outputs": [
        {
          "output_type": "stream",
          "text": [
            "Time 78s : Nyaru UB - [8642, 34567, 224680]\n",
            "Time 75s : Nyaru attack - 109135\n",
            "Time 75s : Nyaru UB - [21085, 84340, 548209]\n",
            "Time 72s : Nyaru S1 - 507702\n",
            "Time 70s : Nyaru UB - [44719, 178875, 991755]\n",
            "Time 67s : Nyaru attack - 464356\n",
            "Time 64s : Nyaru S1 - 933167\n",
            "Time 64s : Nyaru UB - [86664, 346657, 1121018]\n",
            "Time 60s : Nyaru attack - 720646\n",
            "Time 57s : Nyaru attack - 653245\n",
            "Time 53s : Nyaru S1 - 430375\n",
            "Time 47s : Nyaru UB - [57756, 231023, 1051712]\n",
            "Time 47s : Nyaru UB - [102754, 411016, 1145573]\n",
            "Time 44s : Nyaru S1 - 996031\n",
            "Time 41s : Nyaru attack - 557033\n",
            "Time 36s : Nyaru attack - 554597\n",
            "Time 33s : Nyaru S1 - 993323\n",
            "Time 31s : Nyaru UB - [102762, 411048, 1145585]\n",
            "Time 30s : Nyaru UB - [151659, 606637, 1189449]\n",
            "Time 28s : Nyaru attack - 575845\n",
            "Time 25s : Nyaru S1 - 999999\n",
            "Simulation result (Nyaru total damage) : 15913435 vs 15757521, error=0.99%\n"
          ],
          "name": "stdout"
        }
      ]
    },
    {
      "cell_type": "markdown",
      "metadata": {
        "id": "r9vSDM4BKlot"
      },
      "source": [
        "## Clan Battle\n",
        "Timeline simulation & Utility computing tools"
      ],
      "id": "r9vSDM4BKlot"
    },
    {
      "cell_type": "markdown",
      "metadata": {
        "id": "yqXH8taaAs7u"
      },
      "source": [
        "### 2021/05 E3\n",
        "Boss: オークチーフ\n",
        "\n",
        "Skill:\n",
        "* UB: 前方３キャラに物理大ダメージを与え、さらにスタンさせる\n",
        "* S1: 前方２キャラの物理防御力を大ダウンし、さらにＴＰを中ダウン\n",
        "* Loop: AA-S1 (AAAA-S1)\n",
        "\n",
        "Patterns\n",
        "* Rima Ouka, [video](https://youtu.be/lK1vzGOJv6M)\n",
        "* Ouka Miren, [video](https://youtu.be/gjxhD7-Lxjw)"
      ],
      "id": "yqXH8taaAs7u"
    },
    {
      "cell_type": "code",
      "metadata": {
        "colab": {
          "base_uri": "https://localhost:8080/",
          "height": 314
        },
        "id": "YMUv2b2mPXTV",
        "outputId": "558f9293-75ac-47e4-e587-8565d1186da8"
      },
      "source": [
        "#Ref. 2021/05 E3 \n",
        "statsRec = StatusRecorder(['yukari', 'ouka', 'lima', 'nyaru', 'luna'])\n",
        "luna = LUNA\n",
        "nyaru = NYARU\n",
        "nyaruInit = {'atk_mag':nyaru['attack'], 'crit_mag':nyaru['critical'], 'crit_damage_mag': 0}\n",
        "lunaInit =  {'atk_mag':luna['attack'], 'crit_mag':luna['critical'], 'crit_damage_mag': 0}\n",
        "damageRec = {}\n",
        "for name in statsRec.party:\n",
        "  damageRec[name] = []\n",
        "\n",
        "# Boss\n",
        "bossInit = {\n",
        "    'name': '2021/05 E3',\n",
        "    'lv': 210,\n",
        "    'hp': 22000000,\n",
        "    'def_phy': 100,\n",
        "    'def_mag': 100,\n",
        "    'UB_damage': 13.5 * (200 +1) + 4.0 * 45000,\n",
        "    'Attack_damage': 13.5 * (200 +1) + (2.0 + 0.02 * 200) * 45000}\n",
        "\n",
        "DEBUG_FLAG = True\n",
        "# Skills\n",
        "BuffOukaS1 = lambda x : statsRec.addAtkBuff(buff(16), timestamp=x, duration=12, buffCritical=75, buffType='mag', target='all')\n",
        "BuffNyaruS2 = lambda x: statsRec.addAtkBuff(buff(6), timestamp=x, buffType='mag', target='all')\n",
        "DebuffOukaS2 = lambda x: statsRec.update(-buff(0.6), x, 12, 'def_mag', 'boss')\n",
        "# Luna\n",
        "BuffLunaS1 = lambda x : statsRec.addAtkBuff(buff(7.5), timestamp=x, buffCritical=100, buffType='mag', target='nyaru')\n",
        "COUNTER_LunaFriends = 5\n",
        "def HitLunaUB(timestamp, debug=False):\n",
        "  charaNow = statsRec.getStatus(lunaInit, 'luna', timestamp)\n",
        "  bossNow = statsRec.getStatus(bossInit, 'boss', timestamp)\n",
        "  hits = LunaUB(charaNow['atk_mag'], bossNow['def_mag'], charaNow['crit_mag'], COUNTER_LunaFriends, charaNow['crit_damage_mag'], enemyLv=bossNow['lv'])\n",
        "  if(debug or DEBUG_FLAG):\n",
        "    print('Time ' + repr(timestamp) + 's : Luna attack - ' +repr(hits))\n",
        "  damageRec['luna'].append(hits)\n",
        "  return hits\n",
        "def HitLunaAttack(timestamp, debug=False):\n",
        "  charaNow = statsRec.getStatus(lunaInit, 'luna', timestamp)\n",
        "  bossNow = statsRec.getStatus(bossInit, 'boss', timestamp)\n",
        "  hits = critical_damage(charaNow['atk_mag'],\n",
        "                         critical_rate(charaNow['crit_mag'], bossNow['lv']), charaNow['crit_damage_mag'], defense = bossNow['def_mag'])\n",
        "  if(debug or DEBUG_FLAG):\n",
        "    print('Time ' + repr(timestamp) + 's : Luna attack - ' +repr(hits))\n",
        "  damageRec['luna'].append(hits)\n",
        "  return hits\n",
        "def HitLunaS2(timestamp, debug=False):\n",
        "  charaNow = statsRec.getStatus(lunaInit, 'luna', timestamp)\n",
        "  bossNow = statsRec.getStatus(bossInit, 'boss', timestamp)\n",
        "  hits = LunaS2(charaNow['atk_mag'], bossNow['def_mag'], charaNow['crit_mag'], COUNTER_LunaFriends, charaNow['crit_damage_mag'], enemyLv=bossNow['lv'])\n",
        "  if(debug or DEBUG_FLAG):\n",
        "    print('Time ' + repr(timestamp) + 's : Luna S2 - ' +repr(hits))\n",
        "  damageRec['luna'].append(hits)\n",
        "  return hits\n",
        "\n",
        "# Timeline\n",
        "timelineBeta = [\n",
        "            (83, BuffNyaruS2), (81.5, DebuffOukaS2), (78, HitNyaruS1), (78, BuffLunaS1), (78, BuffOukaS1),\n",
        "            (78, HitNyaruUB), (74, HitNyaruAttack), (74, HitLunaAttack),\n",
        "            (74, HitNyaruUB), (72, HitNyaruS1), (71, BuffLunaS1),\n",
        "            (71, HitNyaruUB), (68.5, DebuffOukaS2), (68, HitNyaruAttack), (67, HitLunaS2), (66, HitNyaruS1), (65, BuffLunaS1),\n",
        "            (65, HitNyaruUB), (62, BuffOukaS1), (62, HitLunaUB), (62, HitNyaruAttack), (59, HitLunaAttack), (59, HitNyaruAttack),\n",
        "            (59, HitNyaruUB), (56, HitLunaS2), (56, HitNyaruS1), (54, BuffNyaruS2), (53, HitLunaAttack), (51, BuffLunaS1),\n",
        "            (50, DebuffOukaS2), (49, HitNyaruAttack), (49, HitNyaruUB), (47, HitLunaAttack), (46, HitNyaruS1),\n",
        "              (43.5, HitLunaAttack), (43, BuffOukaS1), (42, HitNyaruAttack),\n",
        "            (40, HitNyaruUB), (40, HitLunaS2), (40, HitLunaUB), (39, HitNyaruAttack), (37, HitLunaAttack), (36, HitNyaruS1),\n",
        "            (34, DebuffOukaS2), (35, BuffLunaS1), (34, BuffNyaruS2), (34, HitNyaruUB), (31, HitLunaAttack), (31, HitNyaruAttack),\n",
        "              (28, BuffOukaS1), (28, HitLunaAttack), (28, HitNyaruS1),\n",
        "            (26, HitNyaruUB), (24, HitLunaS2), (24, HitNyaruAttack), (23, HitLunaUB), (21, HitNyaruAttack), (20, BuffLunaS1), \n",
        "              (20, DebuffOukaS2), (17, HitNyaruS1), (17, HitLunaAttack),\n",
        "            (17, HitNyaruUB), (14, HitLunaAttack), (14, HitNyaruAttack), (13, BuffOukaS1), (11, HitNyaruS1),\n",
        "            (10, HitNyaruUB), (10, HitLunaS2), (7, HitNyaruAttack), (7, HitLunaAttack), (5, DebuffOukaS2),  (4, BuffLunaS1), (4, HitNyaruAttack),\n",
        "            (4, HitNyaruUB), (4, HitLunaUB), (1, HitNyaruS1), (1, HitLunaAttack)\n",
        "]\n",
        "\n",
        "timelineVideo = [\n",
        "            (83, BuffNyaruS2), (81.5, DebuffOukaS2), (78, HitNyaruS1), (78, BuffLunaS1), (78, BuffOukaS1),\n",
        "            (78, HitNyaruUB), (74, HitNyaruAttack), (74, HitLunaAttack),\n",
        "            (74, HitNyaruUB), (72, HitNyaruS1), (71, BuffLunaS1),\n",
        "            (71, HitNyaruUB), (68.5, DebuffOukaS2), (68, HitNyaruAttack), (67, HitLunaS2), (66, HitNyaruS1), (65, BuffLunaS1),\n",
        "            (65, HitNyaruUB), (62, BuffOukaS1), (62, HitNyaruAttack), (61, HitLunaAttack), (59, HitNyaruAttack),\n",
        "            (59, HitNyaruUB), (58, HitLunaAttack), (57, HitLunaUB), (56, HitNyaruS1), (54, BuffNyaruS2), (54, HitLunaAttack), (51, BuffLunaS1),\n",
        "            (51, HitNyaruUB), (50, DebuffOukaS2), (49, HitNyaruAttack), (48, HitLunaAttack), (46, HitNyaruS1),\n",
        "              (44, HitLunaAttack), (43, BuffOukaS1), (42, HitNyaruAttack), (41, HitLunaS2),\n",
        "            (40, HitNyaruUB), (39, HitNyaruAttack), (38.5, HitLunaAttack), (36, HitNyaruS1), (35, BuffLunaS1),\n",
        "            (35, HitNyaruUB), (34, DebuffOukaS2), (34, BuffNyaruS2), (32, HitLunaAttack), (29, HitNyaruAttack),\n",
        "              (29, HitLunaAttack), (28, BuffOukaS1), (26, HitNyaruS1),\n",
        "            (26, HitNyaruUB), (26, HitLunaUB), (23, HitNyaruAttack), (23, HitLunaAttack), (20, BuffLunaS1), (20, HitNyaruAttack),\n",
        "            (20, HitNyaruUB), (20, DebuffOukaS2),  (17, HitNyaruS1), (17, HitLunaAttack), (15, BuffNyaruS2),\n",
        "              (14, HitLunaAttack), (12, BuffOukaS1), (10, HitLunaS2), (10, HitNyaruAttack),\n",
        "            (10, HitNyaruUB), (7, HitNyaruS1), (7, HitLunaAttack), (4, BuffLunaS1), (4, DebuffOukaS2), (3, HitNyaruAttack),\n",
        "            (3, HitNyaruUB), (3, HitLunaUB), (1, HitNyaruAttack), (1, HitLunaAttack)\n",
        "]\n",
        "\n",
        "tlMiren = [\n",
        "           (84, 'miren_s1'), (83, 'nyaru_s2'), (82, 'ouka_s2'), (78, 'ouka_s1'),\n",
        "           (78, 'nyaru_ub'), (78, 'luna_s1'), (78, 'nyaru_ub'), (75.1, 'nyaru_a'), (75, 'miren_s2'), (74, 'luna_a'), (74, 'nyaru_s1'),\n",
        "           (72, 'nyaru_ub'), (70, 'nyaru_s2'), (70, 'nyaru_ub'), (70, 'luna_ub'), (69, 'miren_ub'), (69, 'ouka_s2'),\n",
        "            (67, 'nyaru_a'), (67, 'luna_s1'), (67, 'miren_s2'), (65, 'nyaru_s1'),\n",
        "           (65, 'nyaru_ub'), (62, 'nyaru_a'), (61, 'luna_a'), (59, 'nyaru_a'), (56, 'nyaru_s1'), (55, 'luna_a'), (54, 'nyaru_s2'),\n",
        "           (54, 'nyaru_ub'), (53, 'ouka_s2'), (52, 'luna_s1'), (51, 'luna_ub'), (51, 'nyaru_a'),\n",
        "           (51,'nyaru_ub'), (48, 'nyaru_s1'), (48, 'luna_a'), (46, 'miren_s2'), (46, 'ouka_s1'), (44, 'nyaru_a'), (44, 'miren_ub'),\n",
        "            (41, 'luna_s2'), (41, 'nyaru_a'),\n",
        "           (41, 'nyaru_ub'), (39, 'luna_a'), (38.1, 'nyaru_s1'), (38, 'ouka_s2'), (37, 'miren_s2'), (37, 'nyaru_s2'),\n",
        "           (36, 'nyaru_ub'), (33, 'nyaru_a'), (33, 'luna_a'), (32, 'ouka_s1'), (31, 'nyaru_s1'), (30, 'luna_a'),\n",
        "           (29, 'nyaru_ub'), (29, 'luna_ub'), (28, 'miren_s2'), (27, 'nyaru_a'), (27, 'luna_s2'), (24, 'nyaru_a'), (23, 'luna_a'),\n",
        "            (22, 'nyaru_s1'), (20.1, 'ouka_s2'), (20.1, 'nyaru_s2'), (20.1, 'luna_s1'), (20.1, 'miren_s2'),\n",
        "           (20, 'nyaru_ub'), (17, 'luna_a'), (17, 'nyaru_a'), (14.1, 'ouka_s1'), (14, 'luna_a'), (14, 'nyaru_s1'),\n",
        "           (14, 'nyaru_ub'), (14, 'luna_ub'), (11, 'nyaru_a'), (11, 'luna_a'), (11, 'miren_s2'), (8.2, 'nyaru_a'), (8, 'luna_s1'),\n",
        "           (8, 'nyaru_ub'), (7, 'ouka_s2'), (6, 'nyaru_s1'), (5, 'luna_a'), (3, 'nyaru_s2'), (1, 'luna_a'), (1, 'miren_s2'), (1, 'miren_ub'),\n",
        "           (1, 'nyaru_ub')\n",
        "]\n",
        "\n",
        "DEBUG_FLAG = False\n",
        "FLAG_DEBUG = False\n",
        "N_EVENT = 10000\n",
        "\n",
        "histDamage = []\n",
        "histNyaruFieldAt34 = []\n",
        "tmpRec = None\n",
        "for ev in range(0, N_EVENT):\n",
        "  damageRec = {}\n",
        "  for name in statsRec.party:\n",
        "    damageRec[name] = []\n",
        "  statsRec.status_delta = []\n",
        "  for action in timelineBeta:\n",
        "    action[1](action[0])\n",
        "  nyaruAttack = statsRec.getStatus(nyaruInit, 'nyaru', 34.5, 'atk_mag')\n",
        "  histNyaruFieldAt34.append( nyaruAttack * 0.08 + buff(3))\n",
        "  totalDamage = (sum(damageRec['nyaru']) + sum(damageRec['luna'])) / 10000. + 40\n",
        "  histDamage.append(totalDamage)\n",
        "\n",
        "histDamageOriginal = []\n",
        "for ev in range(0, N_EVENT):\n",
        "  damageRec = {}\n",
        "  for name in statsRec.party:\n",
        "    damageRec[name] = []\n",
        "  statsRec.status_delta = []\n",
        "  for action in timelineVideo:\n",
        "    action[1](action[0])\n",
        "  totalDamage = (sum(damageRec['nyaru']) + sum(damageRec['luna'])) / 10000. + 40\n",
        "  histDamageOriginal.append(totalDamage)\n",
        "\n",
        "\n",
        "statsRec = StatusRecorder(['yukari', 'ouka', 'miren', 'nyaru', 'luna'])\n",
        "initStats = {}\n",
        "initStats['nyaru'] = {'atk_mag':NYARU['attack'], 'crit_mag':NYARU['critical']}\n",
        "initStats['luna'] = {'atk_mag':luna['attack'], 'crit_mag':luna['critical']}\n",
        "initStats['boss'] = {\n",
        "    'name': '2021/05 E3',\n",
        "    'lv': 210,\n",
        "    'hp': 22000000,\n",
        "    'def_phy': 100,\n",
        "    'def_mag': 100,\n",
        "    'UB': 13.5 * (200 +1) + 4.0 * 45000,\n",
        "    'Attack': 13.5 * (200 +1) + (2.0 + 0.02 * 200) * 45000}\n",
        "for k in [x for x in statsRec.STATS_NAME if x not in initStats['nyaru'].keys()]:\n",
        "  initStats['nyaru'][k] = 0.\n",
        "  initStats['luna'][k] = 0.\n",
        "damageRec = {}\n",
        "for name in statsRec.party:\n",
        "  damageRec[name] = []\n",
        "histDamageMiren = []\n",
        "for ev in range(0, N_EVENT):\n",
        "  damageRec = {}\n",
        "  for name in statsRec.party:\n",
        "    damageRec[name] = []\n",
        "  statsRec.status_delta = []\n",
        "  RunTimeline(tlMiren)\n",
        "  totalDamage = (sum(damageRec['nyaru']) + sum(damageRec['luna'])) / 10000. + 40\n",
        "  histDamageMiren.append(totalDamage)\n",
        "\n",
        "fig, ax = plt.subplots()\n",
        "pltKwargs = dict(histtype='stepfilled', alpha=0.3, density=True, bins=range(2200, 3500, 20))\n",
        "plotBeta = plt.hist(histDamage, **pltKwargs, label='Beta TL')\n",
        "plotRaw = plt.hist(histDamageOriginal, **pltKwargs, label='Raw TL (from video')\n",
        "plotMiren = plt.hist(histDamageMiren, **pltKwargs, label='Miren TL')\n",
        "leg = ax.legend()\n",
        "plt.title('Damage simulation for 2015/05 E3')\n",
        "plt.ylabel('Prob. Density')\n",
        "plt.xlabel('Total damage / 1e4')"
      ],
      "id": "YMUv2b2mPXTV",
      "execution_count": null,
      "outputs": [
        {
          "output_type": "execute_result",
          "data": {
            "text/plain": [
              "Text(0.5, 0, 'Total damage / 1e4')"
            ]
          },
          "metadata": {
            "tags": []
          },
          "execution_count": 32
        },
        {
          "output_type": "display_data",
          "data": {
            "image/png": "[encoded data removed]",
            "text/plain": [
              "<Figure size 432x288 with 1 Axes>"
            ]
          },
          "metadata": {
            "tags": [],
            "needs_background": "light"
          }
        }
      ]
    },
    {
      "cell_type": "code",
      "metadata": {
        "colab": {
          "base_uri": "https://localhost:8080/",
          "height": 265
        },
        "id": "d8EE33_Mckun",
        "outputId": "e36769f0-ed59-44bb-e808-bb7b4dfcb528"
      },
      "source": [
        "defRequire = [bossInit['UB_damage'] / x - 1 for x in histNyaruFieldAt34]\n",
        "_ = plt.hist(defRequire, bins='auto')"
      ],
      "id": "d8EE33_Mckun",
      "execution_count": null,
      "outputs": [
        {
          "output_type": "display_data",
          "data": {
            "image/png": "[encoded data removed]",
            "text/plain": [
              "<Figure size 432x288 with 1 Axes>"
            ]
          },
          "metadata": {
            "tags": [],
            "needs_background": "light"
          }
        }
      ]
    },
    {
      "cell_type": "code",
      "metadata": {
        "colab": {
          "base_uri": "https://localhost:8080/"
        },
        "id": "bUfLLB_8DF4H",
        "outputId": "321a8b63-6a47-4adf-f8b3-ba3f4464c82b"
      },
      "source": [
        "bossInit = {\n",
        "    'name': '2021/05 E3',\n",
        "    'lv': 210,\n",
        "    'hp': 22000000,\n",
        "    'def_phy': 100,\n",
        "    'def_mag': 100,\n",
        "    'tp_boost': 10,\n",
        "    'UB_damage': 13.5 * (200 +1) + 4.0 * 45000,\n",
        "    'Attack_damage': 13.5 * (200 +1) + (2.0 + 0.02 * 200) * 45000}\n",
        "\n",
        "boss_early_ub(10, 22000000)\n",
        "bossInit['Attack_damage'] * 2 - (48131 + NyaruS2_Shield(NYARU['attack'] + buff(18))  ) * 10.84"
      ],
      "id": "bUfLLB_8DF4H",
      "execution_count": null,
      "outputs": [
        {
          "output_type": "stream",
          "text": [
            "11  actions for UB without damage\n",
            "Early UB from 5 actions, if damage more than : 16240000\n",
            "Early UB from 4 actions, if damage more than : 12280000\n",
            "Early UB from 3 actions, if damage more than : 8320000\n",
            "Early UB from 2 actions, if damage more than : 4360000\n",
            "Early UB from 1 actions, if damage more than : 400000\n"
          ],
          "name": "stdout"
        },
        {
          "output_type": "execute_result",
          "data": {
            "text/plain": [
              "-2816.8399999999674"
            ]
          },
          "metadata": {
            "tags": []
          },
          "execution_count": 26
        }
      ]
    },
    {
      "cell_type": "markdown",
      "metadata": {
        "id": "M7zoFGE0lzyT"
      },
      "source": [
        "## Damage limit with log barrier\n",
        "After the Nyaru shock in the clan battle of 2020/01, Cygames decided to add a new limitation sign for all the bossed under clan battle mode. According to unpaced data from server, the mechanism is deployed with a simple logarithm for damage above threshold, so called **'log barrier**'.\n",
        "\n",
        "The logarithm can be manipulated with two parameters, threshold and attenuation coefficient. Latest value in 2021/04 is **850,000** and 100,000."
      ],
      "id": "M7zoFGE0lzyT"
    },
    {
      "cell_type": "markdown",
      "metadata": {
        "id": "xWzRxfAHlzyU"
      },
      "source": [
        "### Example: Kaya vs Wyvern (2nd phase) 2021/01\n",
        "[video](https://www.youtube.com/watch?v=DA6hy8W1RTQ) from たつきちゃん"
      ],
      "id": "xWzRxfAHlzyU"
    },
    {
      "cell_type": "code",
      "metadata": {
        "id": "vK3mXpOalzyU",
        "colab": {
          "base_uri": "https://localhost:8080/"
        },
        "outputId": "a2e6b05f-fbcd-4c47-8cb4-afc93cb49efa"
      },
      "source": [
        "eff_lv = 187\n",
        "kaya_attack = 17337\n",
        "damage_final = 856088\n",
        "buff_miren = (18+2.5) * (eff_lv +1)\n",
        "buff_self = (20 *2 + 72) * (1 + eff_lv)\n",
        "\n",
        "damage = (120 * (eff_lv +1 ) + 9.6 * (kaya_attack + buff_miren + buff_self)) *2\n",
        "print(int(damage), int(LogBarrier(damage)), int (damage_final))"
      ],
      "id": "vK3mXpOalzyU",
      "execution_count": null,
      "outputs": [
        {
          "output_type": "stream",
          "text": [
            "856262 856074 856088\n"
          ],
          "name": "stdout"
        }
      ]
    },
    {
      "cell_type": "markdown",
      "metadata": {
        "id": "Z9qItCDa_kN7"
      },
      "source": [
        "### UB with multi-hits\n",
        "The method for multi-hit UB is still unclear. Here I suppose the possible process: \n",
        "1.   compute original damage without critical\n",
        "2.   divide the orignal damage into hits\n",
        "3.   define critical flags for hits\n",
        "4.   sum the total damge and apply log barrier\n",
        "5.   get a ratio of the total damage before and after\n",
        "6.   apply the ratio to each hit"
      ],
      "id": "Z9qItCDa_kN7"
    },
    {
      "cell_type": "markdown",
      "metadata": {
        "id": "cAWZ8Zq4Axjz"
      },
      "source": [
        "### Example: working with digit barrier\n",
        "Another case is from the limitation of hit damage (digit barrier). If Nyaru get more than 320,000 buff, the last hit of UB would exceed it when critical. For Nuneka patterns, the required buff could be even lower, around 275,000. The buff corresponds to 2,850k and 2,450k damage of Nyaru UB in last 18s."
      ],
      "id": "cAWZ8Zq4Axjz"
    },
    {
      "cell_type": "code",
      "metadata": {
        "colab": {
          "base_uri": "https://localhost:8080/"
        },
        "id": "xA937lo2lzyV",
        "outputId": "2fe6f549-3a64-4dc6-e3ad-33d9eb448d9c"
      },
      "source": [
        "buffRaw = 320000\n",
        "damageRaw = nyaruUB(NYARU['attack']+320000 , NYARU['critical'], enemyLv=120, detail=True)\n",
        "print('Nyaru UB with ' + repr(buffRaw) + ' buff: ' +repr(damageRaw))\n",
        "print('> Last hit with critical: %d' % (damageRaw[1] * 2.0))\n",
        "print('> Buff required damage of Nyaru UB: ' + repr(int(buffRaw / NYARU_UB_BUFF_COEFF)))\n",
        "\n",
        "buffNuneka = 275000\n",
        "damageNuneka = nyaruUB(NYARU['attack']+buffNuneka , NYARU['critical'], criticalDamageBuff=0.15, enemyLv=120, detail=True)\n",
        "print('Nyaru UB with ' + repr(buffNuneka) + ' buff and Nuneka critical damage buff: ' + repr(damageNuneka))\n",
        "print('> Last hit with critical: %d' % (damageNuneka[1] * 2.0 * 1.15))\n",
        "print('> Buff required damage of Nyaru UB: ' + repr(int(buffNuneka / NYARU_UB_BUFF_COEFF)))"
      ],
      "id": "xA937lo2lzyV",
      "execution_count": null,
      "outputs": [
        {
          "output_type": "stream",
          "text": [
            "Nyaru UB with 320000 buff: [126262, 505049, 3272715.0]\n",
            "> Last hit with critical: 1010098\n",
            "> Buff required damage of Nyaru UB: 2844444\n",
            "Nyaru UB with 275000 buff and Nuneka critical damage buff: [109647, 438587, 3269691.0]\n",
            "> Last hit with critical: 1008750\n",
            "> Buff required damage of Nyaru UB: 2444444\n"
          ],
          "name": "stdout"
        }
      ]
    },
    {
      "cell_type": "markdown",
      "metadata": {
        "id": "40dJAI92FUT4"
      },
      "source": [
        "To verify the method for multi-hit UB, the data from [video](https://www.youtube.com/watch?v=VIWQDPDHeJY) by ハンマリォch. was extracted, which is Nyaru vs Minotaur (3rd phase).\n",
        "\n",
        "The UB damage of Nyara:\n",
        "\n",
        "*   1:22, 241310\n",
        "*   1:18, 535032\n",
        "*   1:14, 985206\n",
        "*   1:11, 1120470\n",
        "*   1:07, 1079101 (no debuff, 100 magical defence)\n",
        "*   0:59, 1191251\n",
        "\n"
      ],
      "id": "40dJAI92FUT4"
    },
    {
      "cell_type": "code",
      "metadata": {
        "colab": {
          "base_uri": "https://localhost:8080/"
        },
        "id": "XABpbXFx5hcM",
        "outputId": "1e10556a-9d98-4339-992d-9477371efba8"
      },
      "source": [
        "# Rest time (seconds) and total UB damage\n",
        "exampleNyaruUBDmage = [(82, 241310), (78, 535032), (74, 985206), (71, 1120470), (67, 1079101), (59, 1191251)]\n",
        "\n",
        "# First UB\n",
        "otherBuff = (18. + 6. ) * (LV_MAX + 1)\n",
        "nextUBDamage = nyaruUB(NYARU_4['attack'] - 25 + otherBuff, NYARU['critical'], enemyLv=120, detail=True)\n",
        "print(nextUBDamage)\n",
        "\n",
        "# Test A: UB at 1:07\n",
        "## Neneka's debuff is missing, and the defence is 100, so damage is halved.\n",
        "ubDamageA = sum(x[1] for x in exampleNyaruUBDmage[0:4])\n",
        "# buff from Saren (S1, 1:24; S2, 1:15), Nyaru(S2, 1:22/1:12) and Luna (S1, 1:18/1:11/1:07)\n",
        "otherBuff = (18. + 2.5 + 6. *2 + 7.5 *3) * (LV_MAX + 1)\n",
        "nextUBDamage = nyaruUB(NYARU_4['attack'] + ubDamageA * NYARU_UB_BUFF_COEFF  + otherBuff, \n",
        "                       NYARU_4['critical'], enemyLv=120, detail=True)\n",
        "print('Total damage: ' + repr(nextUBDamage) + ', damge after logarithm :  ' + repr(round(LogBarrier(nextUBDamage[2] / 2.))))\n",
        "nextUBDamageWithoutDigitBarrier = nextUBDamage[0] * 2 * 9 + nextUBDamage[1] * 2\n",
        "print( 'Damage w/o digit barrier: %d, after logarithm : %d' % (nextUBDamageWithoutDigitBarrier , round( LogBarrier(nextUBDamageWithoutDigitBarrier /2. ))))\n",
        "\n",
        "# Test B: UB at 0:59\n",
        "# buff from Saren (S2, 1:02; UB, 1:05), Neneka(UB, 1:06) and Luna (S1, 1:11/1:07)\n",
        "otherBuff = (2.5 + 10.5 + 28 + 7.5 *2 ) * (LV_MAX + 1)\n",
        "ubDamageB = sum(x[1] for x in exampleNyaruUBDmage[2:5])\n",
        "nextUBDamage = nyaruUB(NYARU_4['attack'] + ubDamageB * NYARU_UB_BUFF_COEFF  + otherBuff, \n",
        "                       NYARU_4['critical'], enemyLv=120, detail=True)\n",
        "print('Total damage: ' + repr(nextUBDamage) + ', damge after logarithm :  ' + repr(round(LogBarrier(nextUBDamage[2]))))\n",
        "nextUBDamageWithoutDigitBarrier = nextUBDamage[0] * 2 * 9 + nextUBDamage[1] * 2\n",
        "print( 'Damage w/o digit barrier: %d, after logarithm : %d' % (nextUBDamageWithoutDigitBarrier , round( LogBarrier(nextUBDamageWithoutDigitBarrier ))))"
      ],
      "id": "XABpbXFx5hcM",
      "execution_count": null,
      "outputs": [
        {
          "output_type": "stream",
          "text": [
            "[9572, 38288, 248872.0]\n",
            "Total damage: [131585, 526340, 3368529.0], damge after logarithm :  1073459\n",
            "Damage w/o digit barrier: 3421210, after logarithm : 1076239\n",
            "Total damage: [144235, 576940, 3596229.0], damge after logarithm :  1184858\n",
            "Damage w/o digit barrier: 3750110, after logarithm : 1190123\n"
          ],
          "name": "stdout"
        }
      ]
    },
    {
      "cell_type": "markdown",
      "metadata": {
        "id": "rpUxNEq70SNR"
      },
      "source": [
        "## EX4 Dungeon - Nyaru patterns\n",
        "\n",
        "Basic Strategy\n",
        "1. Kill BLACK boss at 1:14 (before first buff clear action)\n",
        "2. Hit WHITE boss under 50% during 1:02-1:00 (actions to clear buff)\n",
        "\n",
        "The next action to clear buff is 0:46-0:43, and all the buff would be cleared at the end of damage hits, around 0:43-0:42. So the power of Nyaru-Luna patterns is unlimited in the first 46 seconds.\n",
        "\n",
        "HP of both boss should be adjusted to achive the above timeline. Upper limit is constrained by the maximum damage of Nyaru with 100% criticals, while lower limit is set to avoid reaching the HP target before the check point (for BLACK boss is more loose than WHITE). Considering the wide gap of level between boss and player (lv. 400  and lv. 196), the critical rate of Nyaru is around 30% to 40%. Therefore, the damage distribution is necessary to select proper range for HP adjusting.\n"
      ],
      "id": "rpUxNEq70SNR"
    },
    {
      "cell_type": "markdown",
      "metadata": {
        "id": "TDoBTCTy60cY"
      },
      "source": [
        "### 1. W-Neneka pattern\n",
        "Neneka (New year), Saren (Summer), Neneka, Nyaru, Luna\n"
      ],
      "id": "TDoBTCTy60cY"
    },
    {
      "cell_type": "code",
      "metadata": {
        "id": "5GOJXIPo7Y7e",
        "colab": {
          "base_uri": "https://localhost:8080/"
        },
        "outputId": "be32bbd7-dfef-455b-83c2-ac892aee901a"
      },
      "source": [
        "# Time: 1:23\n",
        "ex4start = lambda x : nyaruUB(NYARU['attack'] + 19756, NYARU['critical']+180,0.15,400, detail=x)\n",
        "print(ex4start(True))\n",
        "histUB = []\n",
        "nyaruUB_ex4 = lambda x,y,z : nyaruUB(NYARU['attack'] + x, NYARU['critical']+y,z,400, detail=False)\n",
        "nyaruUB_ex4WHITE = lambda x,y,z : nyaruUB(NYARU['attack'] + x, NYARU['critical']+y,z,400, detail=False, magic_defense=80)\n",
        "DEBUG_FLAG = True\n",
        "LUNA_EX4 = LUNA_3\n",
        "for ev in range(0,100000):\n",
        "  # UB time: 1:23, 1:21, 1:21, 1:15, 1:14, 1:11, 1:11/1:08\n",
        "  # Nyaru Skill: S2, S1/x, A, S1, S2/x, A, S1, A, A, S1\n",
        "  # Array: UB/1:23, UB/1:21, UB/1:21, attack, S1, UB/1:15, UB/1:14, UB/1:11, UB/1:11or1:08\n",
        "  nyaruDamage = [0] * 11\n",
        "  #1:25 before Nuneka\n",
        "  otherBuff = (28+10.5) * (LV_MAX +1) \n",
        "  nunekaAttack = 7168 + 240 + 15 * LV_MAX # 5star, Rand12 with TP equiment ONLY\n",
        "  nunekaBuff = 10.5 * (LV_MAX + 1) + (nunekaAttack + otherBuff) * 0.08\n",
        "  nunekaCriticalBuff = 30 + 0.003 * (nunekaAttack + otherBuff)\n",
        "  otherCriticalBuff = nunekaCriticalBuff\n",
        "  otherCriticalDamageBuff = 0.1 # Nuneka UB\n",
        "  #1:23 Nyaru 1st UB\n",
        "  otherBuff +=  nunekaBuff + (18 + 6) * (LV_MAX +1) #Saren S1 (until 1:03) + Nyaru S2 (until 1:11)\n",
        "  nyaruBuff = otherBuff + 20. * (LV_MAX +1) # Nuneka S1 (until 1:11)\n",
        "  nyaruCriticalBuff = nunekaCriticalBuff + 100 # Nuneka S1 (until 1:11)\n",
        "  nyaruCriticalDamageBuff = otherCriticalDamageBuff + 0.05 # Nuneka S1 (until 1:11)\n",
        "  ubDamage = nyaruUB_ex4(nyaruBuff, nyaruCriticalBuff, nyaruCriticalDamageBuff)\n",
        "  nyaruBuff += ubDamage * NYARU_UB_BUFF_COEFF # until 1:05\n",
        "  nyaruDamage[0] = ubDamage\n",
        "    #DEBUG\n",
        "  if(DEBUG_FLAG):\n",
        "    print('Nyaru start UB : ' + repr(nyaruUB(NYARU['attack'] + nyaruBuff, NYARU['critical']+180,0.15,400,detail=True)))\n",
        "  # 1:22 - Nuneka 2nd UB\n",
        "  nunekaBuff = 10.5 * (LV_MAX + 1) + (nunekaAttack + otherBuff) * 0.08\n",
        "  nunekaCriticalBuff = 30 + 0.003 * (nunekaAttack + otherBuff)\n",
        "  otherBuff += nunekaBuff\n",
        "  otherCriticalBuff += nunekaCriticalBuff\n",
        "  otherCriticalDamageBuff += 0.1\n",
        "  #1:21 - Nyaru 2nd/3rd UB by Luna S1\n",
        "  nyaruBuff += 7.5 * (LV_MAX +1)\n",
        "  nyaruCriticalBuff += nunekaCriticalBuff + 100\n",
        "  nyaruCriticalDamageBuff += 0.1\n",
        "    #2nd UB\n",
        "  ubDamage = nyaruUB_ex4(nyaruBuff, nyaruCriticalBuff, nyaruCriticalDamageBuff)\n",
        "  nyaruBuff += ubDamage * NYARU_UB_BUFF_COEFF\n",
        "  nyaruDamage[1] = ubDamage\n",
        "    # 3rd UB\n",
        "  ubDamage = nyaruUB_ex4(nyaruBuff, nyaruCriticalBuff, nyaruCriticalDamageBuff)\n",
        "  nyaruBuff += ubDamage * NYARU_UB_BUFF_COEFF\n",
        "  nyaruDamage[2] = ubDamage\n",
        "    # Luna damage\n",
        "  nyaruHurt = LunaS1(LUNA_EX4['attack'] + otherBuff, NYARU['defence_magic'], LUNA_EX4['critical']+otherCriticalBuff, otherCriticalDamageBuff)\n",
        "  lunaCriticalRate = critical_rate(LUNA_EX4['critical'] + otherCriticalBuff, LV_MAX)\n",
        "  if(DEBUG_FLAG):\n",
        "    print('Luna critical rate at 1:21 : ' + repr(lunaCriticalRate))\n",
        "    print('Luna hit Nyaru : ' + repr(nyaruHurt))\n",
        "  # 1:18 Nyaru Attack\n",
        "  nyaruDamage[3] = critical_damage(\n",
        "      NYARU['attack'] + nyaruBuff,\n",
        "      critical_rate(NYARU['critical'] + nyaruCriticalBuff, 400),\n",
        "      nyaruCriticalDamageBuff )\n",
        "  # Nyaru HP check\n",
        "  nyaruHpAbsorbRate = 6. / (100 + 400 + 6)\n",
        "  if sum(nyaruDamage[1:4]) * nyaruHpAbsorbRate < nyaruHurt:\n",
        "    histUB.append(nyaruDamage)\n",
        "    DEBUG_FLAG = False\n",
        "    continue\n",
        "  # 1:15 Nyaru S1\n",
        "  nyaruDamage[4] =NyaruS1(NYARU['attack'] + nyaruBuff, 0, NYARU['critical'] + nyaruCriticalBuff, nyaruCriticalDamageBuff, 400)\n",
        "  nyaruDamageWHITE = NyaruS1(NYARU['attack'] + nyaruBuff, 80, NYARU['critical'] + nyaruCriticalBuff, nyaruCriticalDamageBuff, 400)\n",
        "  nyaruDamageWHITE += NyaruS1(NYARU['attack'] + nyaruBuff, 50, NYARU['critical'] + nyaruCriticalBuff, nyaruCriticalDamageBuff, 400)\n",
        "  nyaruDamageWHITE += NyaruS1(NYARU['attack'] + nyaruBuff, 50, NYARU['critical'] + nyaruCriticalBuff, nyaruCriticalDamageBuff, 400)\n",
        "  # 1:15 Saren S2\n",
        "  otherBuff += 2.5 * (LV_MAX + 1)\n",
        "  otherCriticalBuff += 20\n",
        "  nyaruBuff += 2.5 * (LV_MAX + 1)\n",
        "  nyaruCriticalBuff += 20\n",
        "  # 1:14 Nyaru 4/5th UB by Luna S1\n",
        "    # Luna S1\n",
        "  nyaruHurt = LunaS1(LUNA_EX4['attack'] + otherBuff, NYARU['defence_magic'], LUNA_EX4['critical']+otherCriticalBuff, otherCriticalDamageBuff)\n",
        "  if(DEBUG_FLAG):\n",
        "    lunaCriticalRate = critical_rate(LUNA_EX4['critical'] + otherCriticalBuff, LV_MAX)\n",
        "    print('Luna critical rate at 1:15 : ' + repr(lunaCriticalRate))\n",
        "    print('Luna hit Nyaru : ' + repr(nyaruHurt))\n",
        "  nyaruBuff += 7.5 * (LV_MAX +1)\n",
        "  nyaruCriticalBuff += 100\n",
        "    # Nyaru 4th UB\n",
        "  ubDamage = nyaruUB_ex4(nyaruBuff, nyaruCriticalBuff, nyaruCriticalDamageBuff)\n",
        "  nyaruBuff += ubDamage * NYARU_UB_BUFF_COEFF\n",
        "  nyaruDamage[5] = ubDamage\n",
        "    # Nyaru 5th UB (TP check)\n",
        "  nyarutpBoost = 1 + NYARU['tp_boost'] / 100. + 0.15 + 0.05 # Nenek UB + Nuneka UB x2\n",
        "  nyaruTP = round(90 * nyarutpBoost) * 2 + 170\n",
        "  if(nyaruHurt < (1000 - nyaruTP) / 500. / nyarutpBoost * NYARU['hp']):\n",
        "    histUB.append(nyaruDamage)\n",
        "    DEBUG_FLAG = False\n",
        "    continue\n",
        "  ubDamage = nyaruUB_ex4(nyaruBuff, nyaruCriticalBuff, nyaruCriticalDamageBuff)\n",
        "  nyaruBuff += ubDamage * NYARU_UB_BUFF_COEFF\n",
        "  nyaruDamage[6] = ubDamage\n",
        "  # Kill BLACK and MOVE to WHITE\n",
        "  # 1:14 Saren UB\n",
        "  otherBuff += 10.5 * (LV_MAX + 1)\n",
        "  nyaruBuff += 10.5 * (LV_MAX + 1)\n",
        "  # 1:14 Nuneka S1\n",
        "  nyaruBuff += 20. * (LV_MAX +1)\n",
        "  nyaruCriticalBuff += 100\n",
        "  nyaruCriticalDamageBuff += 0.05\n",
        "  # 1:13 Buff check - Saren UB at 1:25\n",
        "  otherBuff -= 10.5 * (LV_MAX + 1)\n",
        "  nyaruBuff -= 10.5 * (LV_MAX + 1)  \n",
        "  # 1:12 Nyaru Attack to WHITE + 1:15 S1 AOE to 3 targets\n",
        "  nyaruDamage[7] = nyaruDamageWHITE + critical_damage(NYARU['attack'] + nyaruBuff, critical_rate(NYARU['critical'] + nyaruCriticalBuff, 400), nyaruCriticalDamageBuff, 2.0, 80)\n",
        "  # 1:11 Luna S1\n",
        "  nyaruHurt = LunaS1(LUNA_EX4['attack'] + otherBuff, NYARU['defence_magic'], LUNA_EX4['critical']+otherCriticalBuff, otherCriticalDamageBuff)\n",
        "  if(nyaruHurt > NYARU['hp'] or DEBUG_FLAG):\n",
        "    print('> TL check - Nyaru killed by Luna at 1:11 (%d, %d)' % (nyaruHurt, NYARU['hp']))\n",
        "  if(DEBUG_FLAG):\n",
        "    lunaCriticalRate = critical_rate(LUNA_EX4['critical'] + otherCriticalBuff, LV_MAX)\n",
        "    print('Luna critical rate at 1:11 : ' + repr(lunaCriticalRate))\n",
        "    print('Luna hit Nyaru : ' + repr(nyaruHurt))\n",
        "  nyaruBuff += 7.5 * (LV_MAX +1)\n",
        "  nyaruCriticalBuff += 100\n",
        "  # 1:11 Nyaru 6th UB\n",
        "  ubDamage = nyaruUB_ex4WHITE(nyaruBuff, nyaruCriticalBuff, nyaruCriticalDamageBuff)\n",
        "  nyaruBuff += ubDamage * NYARU_UB_BUFF_COEFF\n",
        "  nyaruDamage[8] = ubDamage\n",
        "  # 1:11 Neneka + Nuneka UB\n",
        "  otherBuff += 28 * (LV_MAX + 1)\n",
        "  nyaruBuff += 28 * (LV_MAX + 1)\n",
        "  nunekaBuff = 10.5 * (LV_MAX +1) + (nunekaAttack +otherBuff) * 0.08\n",
        "  nunekaCriticalBuff += 30 + (nunekaAttack +otherBuff) * 0.003\n",
        "  otherBuff += nunekaBuff\n",
        "  otherCriticalBuff += nunekaCriticalBuff\n",
        "  otherCriticalDamageBuff += 0.1\n",
        "  nyaruBuff += nunekaBuff\n",
        "  nyaruCriticalBuff += nunekaCriticalBuff\n",
        "  nyaruCriticalDamageBuff += 0.1\n",
        "  # 1:11 Nyaru 7th UB\n",
        "  ubDamage = nyaruUB_ex4WHITE(nyaruBuff, nyaruCriticalBuff, nyaruCriticalDamageBuff)\n",
        "  nyaruDamage[9] = ubDamage\n",
        "  # 1:08 Nyaru 7th UB (IF)\n",
        "    #Buff check (1:23 Nuneka, 1:21 Luna)\n",
        "  nyaruBuff -= 20. * (LV_MAX +1)\n",
        "  nyaruCriticalBuff -= 100\n",
        "  nyaruCriticalDamageBuff -= 0.05\n",
        "  nyaruBuff -= 7.5 * (LV_MAX +1)\n",
        "  nyaruCriticalBuff -= 100\n",
        "  ubDamage = nyaruUB_ex4(nyaruBuff, nyaruCriticalBuff, nyaruCriticalDamageBuff)\n",
        "  nyaruDamage[10] = ubDamage\n",
        "  # END\n",
        "  histUB.append(nyaruDamage)\n",
        "  DEBUG_FLAG = False\n",
        "\n",
        "\n",
        "hurtFlag = [int(bool(x[4])) for x in histUB]\n",
        "counts, binedges = np.histogram(hurtFlag, bins=[-0.5,0.5,1.5])\n",
        "print(' > TL check - Nyaru HP at 1:18 [FAIL, PASS] =[%d vs %d]' % (counts[0], counts[1]))\n",
        "\n",
        "successFlag = [int(bool(x[6])) for x in histUB]\n",
        "counts, binedges = np.histogram(successFlag, bins=[-0.5,0.5,1.5])\n",
        "print(' > TL check - Nyaru TP at 1:14 [FAIL, PASS] =[%d vs %d]' % (counts[0], counts[1]))\n",
        "\n",
        "fig, ax = plt.subplots()\n",
        "damageSumBefore115 = [ sum(x[0:5])/10000. for x in histUB if x[4] > 0]\n",
        "damageSum115 = [ sum(x[0:6])/10000. for x in histUB if x[5] > 0]\n",
        "damageSum114 = [ sum(x[0:7])/10000. for x in histUB if x[6] > 0]\n",
        "damageSumWHITE = [(x[7]+x[8]+x[9])/10000 + 500 for x in histUB if x[7] > 0]\n",
        "damageSumWHITE_if = [(x[7]+x[8]+x[10])/10000 + 500 for x in histUB if x[7] > 0]\n",
        "pltKwargs = dict(histtype='stepfilled', alpha=0.3, density=True, bins=range(100,2500,10))\n",
        "histBefore115 = plt.hist(damageSumBefore115, **pltKwargs, label='Nyaru damage after 1:15 S1')\n",
        "hist115 = plt.hist(damageSum115, **pltKwargs, label='+ 1:15 UB')\n",
        "hist114 = plt.hist(damageSum114, **pltKwargs, label='+ 1:14 UB')\n",
        "histWHITE = plt.hist(damageSumWHITE, **pltKwargs, label='Damage to WHITE until 1:00')\n",
        "histWHITE_if = plt.hist(damageSumWHITE_if, **pltKwargs, label='Damage to WHITE until 1:00 (IF)')\n",
        "leg = ax.legend()\n",
        "plt.title('EX4 Nyaru total damge simulation (W-Neneka pattern)')\n",
        "plt.ylabel('Prob. Density')\n",
        "plt.xlabel('Nyaru total damage / 1e4')"
      ],
      "id": "5GOJXIPo7Y7e",
      "execution_count": null,
      "outputs": [
        {
          "output_type": "stream",
          "text": [
            "[15403, 61611, 260310]\n",
            "Nyaru start UB : [29749, 118996, 773469]\n",
            "Luna critical rate at 1:21 : 0.7628001600000002\n",
            "Luna hit Nyaru : 22783\n",
            "Luna critical rate at 1:15 : 0.7728001600000001\n",
            "Luna hit Nyaru : 23084\n",
            "> TL check - Nyaru killed by Luna at 1:11 (9619, 23855)\n",
            "Luna critical rate at 1:11 : 0.7728001600000001\n",
            "Luna hit Nyaru : 9619\n",
            " > TL check - Nyaru HP at 1:18 [FAIL, PASS] =[10925 vs 89075]\n",
            " > TL check - Nyaru TP at 1:14 [FAIL, PASS] =[31290 vs 68710]\n"
          ],
          "name": "stdout"
        },
        {
          "output_type": "execute_result",
          "data": {
            "text/plain": [
              "Text(0.5, 0, 'Nyaru total damage / 1e4')"
            ]
          },
          "metadata": {
            "tags": []
          },
          "execution_count": 96
        },
        {
          "output_type": "display_data",
          "data": {
            "image/png": "[encoded data removed]",
            "text/plain": [
              "<Figure size 432x288 with 1 Axes>"
            ]
          },
          "metadata": {
            "tags": [],
            "needs_background": "light"
          }
        }
      ]
    },
    {
      "cell_type": "code",
      "metadata": {
        "colab": {
          "base_uri": "https://localhost:8080/"
        },
        "id": "s4izl6LqXOhi",
        "outputId": "8a29ddd0-96b5-4ab1-ebd2-e616e795b1cd"
      },
      "source": [
        "# Optimize plots\n",
        "fig, ax = plt.subplots()\n",
        "pltKwargs = dict(histtype='stepfilled', alpha=0.3, density=True, bins=range(100,2500,10))\n",
        "histBefore115 = plt.hist(damageSumBefore115, **pltKwargs, label='Nyaru damage after 1:15 S1')\n",
        "hist115 = plt.hist(damageSum115, **pltKwargs, label='+ 1:15 UB')\n",
        "hist114 = plt.hist(damageSum114, **pltKwargs, label='+ 1:14 UB')\n",
        "histWHITE = plt.hist(damageSumWHITE, **pltKwargs, label='Damage to WHITE until 1:00')\n",
        "histWHITE_if = plt.hist(damageSumWHITE_if, **pltKwargs, label='Damage to WHITE until 1:00 (IF)')\n",
        "leg = ax.legend()\n",
        "plt.title('EX4 Nyaru total damge simulation (W-Neneka pattern)')\n",
        "plt.ylabel('Prob. Density')\n",
        "plt.xlabel('Nyaru total damage / 1e4')\n",
        "plt.savefig('pcr_ex4.png')"
      ],
      "id": "s4izl6LqXOhi",
      "execution_count": null,
      "outputs": [
        {
          "output_type": "display_data",
          "data": {
            "image/png": "[encoded data removed]",
            "text/plain": [
              "<Figure size 432x288 with 1 Axes>"
            ]
          },
          "metadata": {
            "tags": [],
            "needs_background": "light"
          }
        }
      ]
    },
    {
      "cell_type": "code",
      "metadata": {
        "colab": {
          "base_uri": "https://localhost:8080/"
        },
        "id": "cGihuIaz5_p-",
        "outputId": "03db50f2-a751-4e9f-89e9-650a521a06f8"
      },
      "source": [
        "# Damage and buff check\n",
        "print(LunaS1(LUNA_4['attack'] + 6 *(LV_MAX +1), NYARU['defence_magic'], LUNA_4['critical'] ))\n",
        "print(nyaruUB(NYARU['attack'] + 19756, NYARU['critical']+180,0.15,enemyLv=400, lv=LV_MAX,detail=True, magic_defense=0))\n",
        "print((nunekaAttack + (10.5 + 28 + 10.5 + 2.5) *(LV_MAX+1) +1300) * 0.003)\n",
        "print(critical_rate(LUNA_4['critical'] + 30 + 70, LV_MAX))"
      ],
      "id": "cGihuIaz5_p-",
      "execution_count": null,
      "outputs": [
        {
          "output_type": "stream",
          "text": [
            "9695\n",
            "[15403, 61611, 240286]\n",
            "65.979\n",
            "0.7160000000000001\n"
          ],
          "name": "stdout"
        }
      ]
    },
    {
      "cell_type": "code",
      "metadata": {
        "colab": {
          "base_uri": "https://localhost:8080/"
        },
        "id": "eqyMCcQUk8tS",
        "outputId": "92d20d60-2549-41c0-c049-13df32c71758"
      },
      "source": [
        "# HP absord check\n",
        "print(14808/nyaruHpAbsorbRate)\n",
        "print(14808./1249290)\n",
        "print(3367./294031)"
      ],
      "id": "eqyMCcQUk8tS",
      "execution_count": null,
      "outputs": [
        {
          "output_type": "stream",
          "text": [
            "1248808.0\n",
            "0.011853132579305046\n",
            "0.011451173515717731\n"
          ],
          "name": "stdout"
        }
      ]
    },
    {
      "cell_type": "code",
      "metadata": {
        "colab": {
          "base_uri": "https://localhost:8080/"
        },
        "id": "JaAhKDyqPJCD",
        "outputId": "c9fdd4b3-b0b0-4597-e106-35e6ca3f8a8f"
      },
      "source": [
        "# Luna attack check (if crtical to kill Nyaru)\n",
        "LunaAttack115 = round(23115 / 2.4 * 3.88)\n",
        "overHP = (LunaAttack115 - (LUNA_4['attack'] - LUNA_3['attack']) + 6 * (LV_MAX +1))/ 3.88 * 2.4 - NYARU['hp']\n",
        "print(overHP + NYARU['hp'])\n",
        "LUNA_4['attack'] - LUNA_3['attack']\n",
        "testOverHP = 23656 - NYARU['hp']\n",
        "13873 - (testOverHP * 3.88 / 2.4) "
      ],
      "id": "JaAhKDyqPJCD",
      "execution_count": null,
      "outputs": [
        {
          "output_type": "stream",
          "text": [
            "23502.061855670105\n"
          ],
          "name": "stdout"
        },
        {
          "output_type": "execute_result",
          "data": {
            "text/plain": [
              "14194.716666666667"
            ]
          },
          "metadata": {
            "tags": []
          },
          "execution_count": 20
        }
      ]
    },
    {
      "cell_type": "markdown",
      "metadata": {
        "id": "yLb_6vS57YSr"
      },
      "source": [
        "#### Nyaru TP check\n",
        "* 1:15 Luna MUST hit **CRITICAL** at Nyaru\n",
        "* 1:11 PASS with NO critical\n",
        "* 1:00/0:58 WHITE perform All hit to Nyaru (if not, still OK at 0:57 with Luna S1)\n",
        "* 0:44 Luna MUST hit **CRITICAL** + **1 hits** from WHITE boss\n",
        "\n",
        "*ISSUE*: Nyaru hurt from WHITE at 0:44 is 1733/hit but not 1922 (calculated from data). IF SLv of Main 4 (WHITE) should be 250 not 500?\n",
        "\n",
        "**SOLVED**: Buff clear at 1:00 was cancelled as well as the self buff."
      ],
      "id": "yLb_6vS57YSr"
    },
    {
      "cell_type": "code",
      "metadata": {
        "colab": {
          "base_uri": "https://localhost:8080/"
        },
        "id": "UtqOto7LsQV6",
        "outputId": "17d3af1b-5e76-45ec-c4cd-77db8788157c"
      },
      "source": [
        "# Nyaru TP check\n",
        "# 1:15\n",
        "tpBoost = 15 + 5 *2 + NYARU['tp_boost']\n",
        "hurtNyaru = hurt_for_UB(2, tpBoost, NYARU['tp_retain'], NYARU['hp'], NYARU['defence_magic'], 0)\n",
        "print('Damage required at 1:15 - %d' % hurtNyaru)\n",
        "# 1:11\n",
        "tpBoost = 15 + 5*2 + NYARU['tp_boost']\n",
        "hurtNyaru = hurt_for_UB(1, tpBoost, NYARU['tp_retain'], NYARU['hp'], NYARU['defence_magic'], \n",
        "                        kill_tp(tpBoost) + nuneka_tp(tpBoost))\n",
        "print('Damage required at 1:11 - %d' % hurtNyaru)\n",
        "# 1:00\n",
        "tpBoost = 15 + 5 + NYARU['tp_boost']\n",
        "tpBoost108 = 15 * 2 + 5*3 + NYARU['tp_boost']\n",
        "tpBoost106 = 15 + 5*2 + NYARU['tp_boost']\n",
        "hurtNyaru = hurt_for_UB(3, tpBoost, NYARU['tp_retain'], NYARU['hp'], NYARU['defence_magic'],\n",
        "                        nuneka_tp(tpBoost108) +action_tp(tpBoost106) )\n",
        "print('Damage required at 1:00 - %d' % hurtNyaru)\n",
        "print('> Nuneka TP boost at 1:07 = %d'  % nuneka_tp(tpBoost108))\n",
        "whiteS1 = 100 + 50 * 400 + (0.1 + 0.0005 * 400) * 5000\n",
        "print('> Nyaru hurt per hit from WHITE S1 - %d' % (whiteS1/4/(1+NYARU['defence_magic']/100.)))\n",
        "print('> WHITE damage at 1:00 - %d, %d, %d, %d' % (whiteS1/4, whiteS1/2, whiteS1*3/4, whiteS1))\n",
        "# 0:44\n",
        "tpBoost = 15 + 5 + NYARU['tp_boost']\n",
        "hurtNyaru = hurt_for_UB(3, tpBoost, NYARU['tp_retain'], NYARU['hp'], NYARU['defence_magic'], 0)\n",
        "print('Damage required at 0:44 - %d' % hurtNyaru)\n",
        "whiteS1 = 100 + 50 * 400 + (0.1 + 0.0005 * 400) * (5000 +1 + 40 *500)\n",
        "print('> Nyaru hurt per hit from WHITE S1 - %d' % (whiteS1/4/(1+NYARU['defence_magic']/100.)))\n",
        "print('> WHITE damage at 0:44 - %d, %d, %d, %d' % (whiteS1/4, whiteS1/2, whiteS1*3/4, whiteS1))\n",
        "nunekaAttack053 = NUNEKA_ATTACK + (28 * 2 + 10.5 + 10.5 + 2.5) * (LV_MAX +1)  # delta from 111\n",
        "lunaAttack = LUNA_3['attack'] + (28 + 10.5 + 10.5 + 2.5) * (LV_MAX +1) + nunekaAttack053 * 0.08\n",
        "print('> Luna damage at 0:44 - %d, %d/critical' % (lunaAttack, lunaAttack * 2 * 1.1))\n",
        "hurtNyaru = hurt_for_UB(2, tpBoost, NYARU['tp_retain'], NYARU['hp'], NYARU['defence_magic'], 0)\n",
        "print('> (IF) Damage required at 0:44 - %d' % hurtNyaru)\n",
        "# 0:19\n",
        "tpBoost = 15 +5 + NYARU['tp_boost']\n",
        "hurtNyaru = hurt_for_UB(4, tpBoost, NYARU['tp_retain'], NYARU['hp'], NYARU['defence_magic'], nuneka_tp(tpBoost))\n",
        "print('Damage required at 0:19 - %d' % hurtNyaru)\n",
        "whiteS1 = 100 + 50 * 400 + (0.1 + 0.0005 * 400) * (5000 + 25 * 400 +1 + 40 *500)\n",
        "print('> Nyaru hurt per hit from WHITE S1 - %d' % (whiteS1/4/(1+NYARU['defence_magic']/100.)))\n",
        "print('> WHITE damage at 0:19 - %d, %d, %d, %d' % (whiteS1/4, whiteS1/2, whiteS1*3/4, whiteS1))\n",
        "hurtNyaru = hurt_for_UB(3, tpBoost, NYARU['tp_retain'], NYARU['hp'], NYARU['defence_magic'], nuneka_tp(tpBoost))\n",
        "print('> Damage required at 0:19 (Nyaru 3 actions ONLY) - %d' % hurtNyaru)"
      ],
      "id": "UtqOto7LsQV6",
      "execution_count": null,
      "outputs": [
        {
          "output_type": "stream",
          "text": [
            "Damage required at 1:15 - 80082\n",
            "Damage required at 1:11 - 33023\n",
            "Damage required at 1:00 - 18417\n",
            "> Nuneka TP boost at 1:07 = 217\n",
            "> Nyaru hurt per hit from WHITE S1 - 1356\n",
            "> WHITE damage at 1:00 - 5400, 10800, 16200, 21600\n",
            "Damage required at 0:44 - 67102\n",
            "> Nyaru hurt per hit from WHITE S1 - 1733\n",
            "> WHITE damage at 0:44 - 6900, 13800, 20700, 27600\n",
            "> Luna damage at 0:44 - 29926, 65838/critical\n",
            "> (IF) Damage required at 0:44 - 84235\n",
            "Damage required at 0:19 - 23842\n",
            "> Nyaru hurt per hit from WHITE S1 - 1922\n",
            "> WHITE damage at 0:19 - 7650, 15300, 22950, 30600\n",
            "> Damage required at 0:19 (Nyaru 3 actions ONLY) - 40975\n"
          ],
          "name": "stdout"
        }
      ]
    },
    {
      "cell_type": "markdown",
      "metadata": {
        "id": "l9YVbWD9Ljjq"
      },
      "source": [
        "### TL simulation"
      ],
      "id": "l9YVbWD9Ljjq"
    },
    {
      "cell_type": "code",
      "metadata": {
        "id": "LpPNCA2zLsyg",
        "colab": {
          "base_uri": "https://localhost:8080/"
        },
        "outputId": "287158c3-5489-4789-d62c-09716930d2b8"
      },
      "source": [
        "statsRec = StatusRecorder(['nuneka', 'miren', 'neneka', 'nyaru', 'luna'])\n",
        "\n",
        "initStats = {}\n",
        "initStats['nyaru'] = {'atk_mag':NYARU['attack'], 'crit_mag':NYARU['critical'], 'tp_boost': NYARU['tp_boost']}\n",
        "initStats['luna'] = {'atk_mag':LUNA_3['attack'], 'crit_mag':LUNA_3['critical'], 'tp_boost': LUNA_3['tp_boost']}\n",
        "initStats['nuneka'] = {'atk_mag':NUNEKA_512['attack'], 'crit_mag':NUNEKA_512['critical'], 'tp_boost': NUNEKA_512['tp_boost']}\n",
        "initStats['boss'] = {\n",
        "    'name': 'EX4-Black',\n",
        "    'lv': 400,\n",
        "    'hp': 70000000,\n",
        "    'atk_phy': 5000,\n",
        "    'atk_mag': 5000,\n",
        "    'def_phy': 100,\n",
        "    'def_mag': 100}\n",
        "bossWhite = {\n",
        "    'name': 'EX4-White',\n",
        "    'lv': 400,\n",
        "    'hp': 127000000,\n",
        "    'atk_phy': 5000,\n",
        "    'atk_mag': 5000,\n",
        "    'def_phy': 80,\n",
        "    'def_mag': 80}\n",
        "for k in [x for x in statsRec.STATS_NAME if x not in initStats['nyaru'].keys()]:\n",
        "  initStats['nyaru'][k] = 0.\n",
        "  initStats['luna'][k] = 0.\n",
        "  initStats['nuneka'][k] = 0.\n",
        "damageRec = {}\n",
        "for name in statsRec.party:\n",
        "  damageRec[name] = []\n",
        "histDamageMiren = []\n",
        "\n",
        "# White\n",
        "def action_bossW_break(timestamp):\n",
        "  statsRec.update(-300, timestamp, 90, 'def_mag', target='boss')\n",
        "  statsRec.update(-300, timestamp, 90, 'def_phy', target='boss')\n",
        "def action_bossW_halfHP(timestamp):\n",
        "  slv = 500\n",
        "  statsRec.update(1+0.08*slv, timestamp, 90, 'def_mag', target='boss')\n",
        "  statsRec.update(1+40*slv, timestamp, 90, 'atk_mag', target='boss')\n",
        "def action_bossW_buffDef(timestamp):\n",
        "  slv = 400\n",
        "  statsRec.update(0.1*slv, timestamp, 90, 'def_phy', target='boss')\n",
        "  statsRec.update(0.1*slv, timestamp, 90, 'def_mag', target='boss')\n",
        "def action_bossW_clearBuff(timestamp):\n",
        "  slv = 400\n",
        "  bossNow = statsRec.getStatus(initStats['boss'], 'boss', timestamp)\n",
        "  damage = (0.1 + 0.0005 * slv) * bossNow['atk_mag'] + 100 + 50 * slv\n",
        "  statsRec.update(25 * slv, timestamp, 90, 'atk_mag', target='boss')\n",
        "  if(FLAG_DEBUG):\n",
        "    statsRec.status_delta_backup = cp_dict(statsRec.status_delta)\n",
        "  statsRec.status_delta = []\n",
        "  return damage\n",
        "\n",
        "tlBlack = [(85.2, 'nuneka_ub'), (85.1, 'neneka_ub'), (85.1, 'miren_ub'), (84.5, 'miren_s1'), (84, 'luna_ub'),\n",
        "           (83.5, 'nyaru_s2'), (83.2, 'nuneka_s1'), (83.2, 'neneka_s2'), (83.2, 'neneka_s2'),\n",
        "           (83, 'nyaru_ub'), (82.5, 'nuneka_ub'), (82, 'nyaru_ub'), (81.5, 'luna_s1'), (81, 'nyaru_ub'),\n",
        "            (78, 'nyaru_a'), (76, 'miren_s2'), (76.2, 'nyaru_s1'),\n",
        "           (75.44, 'nyaru_ub'), (75, 'luna_s1'), (74.5, 'miren_ub'), (74.1, 'nyaru_ub')]\n",
        "\n",
        "# Boss defense buff at 68 and 58, value = 40\n",
        "# Boss break at 55, defense -300\n",
        "# Boss celar buff at 43.0\n",
        "tlWhite = [(76.2, 'nyaru_s1'), # 3 targets, def_mag=80/50/50\n",
        "           (74, 'nuneka_s1'), (73, 'luna_ub'), (71.5, 'nyaru_a'),\n",
        "           (71.2, 'nyaru_ub'), (71.1, 'luna_s1'), (71, 'neneka_ub'), (70, 'nuneka_ub'), (69, 'neneka_s2'), (69, 'bossW_buffDef'),\n",
        "           (68.5, 'nyaru_s1'), # 3 targets\n",
        "           (68.0, 'nyaru_ub'), (67, 'nuneka_s1'), (65, 'nyaru_a'), (62, 'nyaru_a'), (60.5, 'miren_s2'), (60, 'luna_ub'),\n",
        "           (60, 'nyaru_s1'), # 3 targets\n",
        "           (58.5, 'nyaru_ub'), (58, 'bossW_halfHP'), (57, 'luna_s1'), (57.6, 'nyaru_ub'), # boss ub\n",
        "           (56.5, 'miren_ub'), (56.4, 'neneka_ub'), (56, 'bossW_break'), (55.5, 'nuneka_s1'), # boss break\n",
        "           (55, 'nyaru_a'), (52, 'nuneka_ub'),\n",
        "           (52, 'nyaru_s1'), # 2 targets\n",
        "           (50.6, 'nuneka_s1'), (50.5, 'nyaru_ub'), (49, 'nyaru_a'), (48, 'luna_ub'), (46, 'nyaru_a'),\n",
        "           (43.6, 'nyaru_s1'), # 2 targets\n",
        "           (43.5, 'nyaru_ub'), (43.4, 'luna_s1'), (43.4, 'nyaru_ub'), (43, 'bossW_clearBuff'), # buff clear\n",
        "           (42.5, 'nyaru_s2'), (42.4, 'miren_s2'), (38.5, 'nuneka_s1'), (37, 'neneka_ub'), (35.2, 'nuneka_s1'), (35.1, 'nuneka_ub'), (35, 'luna_ub'),\n",
        "           (34, 'nyaru_s1'), # 2 targets\n",
        "           (33.9, 'miren_ub'), (29.3, 'nyaru_a'), (29.2, 'nyaru_ub'), (29.1, 'luna_s1'), (29, 'nyaru_ub'), (27, 'nyaru_a'),\n",
        "           (24.6, 'nyaru_s1')  # 2 targets\n",
        "           ]\n",
        "\n",
        "FLAG_LOGBARRIER = False\n",
        "FLAG_DEBUG = True\n",
        "\n",
        "RunTimeline(tlBlack)\n",
        "initStats['boss'] = bossWhite\n",
        "RunTimeline(tlWhite)\n",
        "\n",
        "status_delta_afterBuffClear = cp_dict(statsRec.status_delta)\n",
        "statsRec.status_delta = statsRec.status_delta_backup + statsRec.status_delta"
      ],
      "id": "LpPNCA2zLsyg",
      "execution_count": null,
      "outputs": [
        {
          "output_type": "stream",
          "text": [
            "Time 84s : Luna attack - 147410\n",
            "Time 83s : Nyaru UB - [16015, 64062, 291481]\n",
            "Time 82s : Nyaru UB - [30456, 121822, 807075]\n",
            "Time 81s : Nyaru UB - [65292, 261168, 1632300]\n",
            "Time 78s : nyaru attack - 359959\n",
            "Time 76.2s : Nyaru S1 - 761395\n",
            "Time 75.44s : Nyaru UB - [134032, 536129, 2747657]\n",
            "Time 74.1s : Nyaru UB - [250264, 1001057, 5504751]\n",
            "Time 76.2s : Nyaru S1 - 999999\n",
            "Time 73s : Luna attack - 358196\n",
            "Time 71.5s : nyaru attack - 999999\n",
            "Time 71.2s : Nyaru UB - [479935, 1919739, 6879606]\n",
            "Time 68.5s : Nyaru S1 - 999999\n",
            "Time 68.0s : Nyaru UB - [768909, 3075634, 7920180]\n",
            "Time 65s : nyaru attack - 999999\n",
            "Time 62s : nyaru attack - 999999\n",
            "Time 60s : Luna attack - 317902\n",
            "Time 60s : Nyaru S1 - 999999\n",
            "Time 58.5s : Nyaru UB - [974905, 3899621, 9949802]\n",
            "Time 57.6s : Nyaru UB - [1388954, 5555817, 9986868]\n",
            "Time 55s : nyaru attack - 999999\n",
            "Time 52s : Nyaru S1 - 999999\n",
            "Time 50.5s : Nyaru UB - [1176239, 4704956, 9999990]\n",
            "Time 49s : nyaru attack - 999999\n",
            "Time 48s : Luna attack - 377806\n",
            "Time 46s : nyaru attack - 999999\n",
            "Time 43.6s : Nyaru S1 - 999999\n",
            "Time 43.5s : Nyaru UB - [1261095, 5044379, 9999990]\n",
            "Time 43.4s : Nyaru UB - [1676292, 6705166, 9999990]\n",
            "Time 35s : Luna attack - 175535\n",
            "Time 34s : Nyaru S1 - 49959\n",
            "Time 29.3s : nyaru attack - 22566\n",
            "Time 29.2s : Nyaru UB - [15935, 63738, 164659]\n",
            "Time 29s : Nyaru UB - [24086, 96343, 305086]\n",
            "Time 27s : nyaru attack - 132063\n",
            "Time 24.6s : Nyaru S1 - 113863\n"
          ],
          "name": "stdout"
        }
      ]
    },
    {
      "cell_type": "markdown",
      "metadata": {
        "id": "TKfcCJF5GCQJ"
      },
      "source": [
        "#### Checkpoint for HP and TP\n",
        "\n",
        "* 1:18 Nyaru HP (FULL)\n",
        "* 1:15 Nyaru HP (if killed by Luna)\n",
        "* 1:15 Nyaru TP (FULL if Luna S1 critical)\n",
        "* 1:14 Miren TP (FULL after next action)\n",
        "* 1:11 Nyaru TP (FULL without Luna S1 critical)\n",
        "* 0:58 Nyaru TP (FULL after next action/S2)\n",
        "* 0:44 Nyaru TP (FULL if Luna S1 critical)\n",
        "* 0:19 Nyaru TP (FULL after next action)"
      ],
      "id": "TKfcCJF5GCQJ"
    },
    {
      "cell_type": "code",
      "metadata": {
        "colab": {
          "base_uri": "https://localhost:8080/"
        },
        "id": "6e3CbCcFpDay",
        "outputId": "1f19c65b-e238-4b8f-ffbe-646cabea6ee5"
      },
      "source": [
        "nyaru, luna = initStats['nyaru'], initStats['luna']\n",
        "nyaru['def_mag'] = NYARU['defence_magic']\n",
        "nyaru['hp'] = NYARU['hp']\n",
        "lunaS1Damage = lambda x : critical_damage(luna['atk_mag'], x, luna['crit_damage_mag'], defense=nyaru['def_mag'])\n",
        "\n",
        "# CP-1:15\n",
        "luna = statsRec.getStatus(initStats['luna'], 'luna',75)\n",
        "nyaru = statsRec.getStatus(initStats['nyaru'], 'nyaru',75)\n",
        "nyaruTPBoost = lambda x : statsRec.getStatus(initStats['nyaru'], 'nyaru', x, 'tp_boost')\n",
        "print('[+] Checkpoint at 1:15')\n",
        "print(' > Luna S1 critical rate : %.1f%%, damage to nyaru (w/o critical) : %d/%d (Nyaru MAX HP=%d, hurt for UB=%d)' % (\n",
        "    critical_rate(luna['crit_mag'], LV_MAX)*100, \n",
        "    lunaS1Damage(1), lunaS1Damage(0),\n",
        "    nyaru['hp'],\n",
        "    hurt_for_UB(2, nyaru['tp_boost'], NYARU['tp_retain'], nyaru['hp'], 0)) )\n",
        "\n",
        "# CP-1:11\n",
        "luna = statsRec.getStatus(initStats['luna'], 'luna',71.5)\n",
        "nyaru = statsRec.getStatus(initStats['nyaru'], 'nyaru',71.5)\n",
        "print('[+] Checkpoint at 1:11')\n",
        "print(' > Luna S1 critical rate : %.1f%%, damage to nyaru (w/o critical) : %d/%d (Nyaru MAX HP=%d, hurt for UB=%d)' % (\n",
        "    critical_rate(luna['crit_mag'], LV_MAX)*100, \n",
        "    lunaS1Damage(1), lunaS1Damage(0),\n",
        "    nyaru['hp'],\n",
        "    hurt_for_UB(2, nyaru['tp_boost'], NYARU['tp_retain'], nyaru['hp'], 0, nuneka_tp(nyaru['tp_boost']) + kill_tp(nyaru['tp_boost']))) )\n",
        "\n",
        "# CP-0:58\n",
        "nyaruTP058 = 10 * NYARU['tp_retain'] + nuneka_tp(nyaruTPBoost(68)) + action_tp(nyaruTPBoost(66)) + action_tp(nyaruTPBoost(63)) +action_tp(nyaruTPBoost(61))\n",
        "whiteS1 = 100 + 50 * 400 + (0.1 + 0.0005 * 400) * 5000\n",
        "whiteS1_Nyaru_hit = floor(whiteS1/4/(1+NYARU['defence_magic']/100.))\n",
        "print('[+] Checkpoint at 0:58')\n",
        "print(' > Nyaru TP before WHITE clear buff action (interrupted): %d, hurt for UB (w/o next action) = %d, %d' % (\n",
        "    nyaruTP058,\n",
        "    hurt_for_UB(1, nyaruTPBoost(60), 0, NYARU['hp'], 0, nyaruTP058),\n",
        "    hurt_for_UB(0, nyaruTPBoost(60), 0, NYARU['hp'], 0, nyaruTP058)\n",
        "))\n",
        "print(' > Nyaru hurt by hits from WHITE S1 - %d, %d, %d, %d' % (whiteS1_Nyaru_hit, whiteS1_Nyaru_hit*2, whiteS1_Nyaru_hit*3, whiteS1_Nyaru_hit*4))\n",
        "\n",
        "# CP-0:44\n",
        "luna = statsRec.getStatus(initStats['luna'], 'luna',44)\n",
        "nyaru = statsRec.getStatus(initStats['nyaru'], 'nyaru',44)\n",
        "nyaruTP044 = 10 * NYARU['tp_retain'] + action_tp(nyaruTPBoost(50)) + action_tp(nyaruTPBoost(47)) +action_tp(nyaruTPBoost(45))\n",
        "whiteS1 = 100 + 50 * 400 + (0.1 + 0.0005 * 400) * (5000 +1 + 40 *500)\n",
        "whiteS1_Nyaru_hit = whiteS1/4/(1+NYARU['defence_magic']/100.)\n",
        "print('[+] Checkpoint at 0:44')\n",
        "print(' > Luna S1 critical rate : %.1f%%, damage to nyaru (w/o critical) : %d/%d (Nyaru MAX HP=%d, hurt for UB=%d)' % (\n",
        "    critical_rate(luna['crit_mag'], LV_MAX)*100, \n",
        "    lunaS1Damage(1), lunaS1Damage(0),\n",
        "    nyaru['hp'],\n",
        "    hurt_for_UB(0, nyaruTPBoost(44), 0, nyaru['hp'], 0, nyaruTP044) ))\n",
        "print(' > Nyaru hurt by hits from WHITE S1 - %d, %d, %d, %d' % (whiteS1_Nyaru_hit, whiteS1_Nyaru_hit*2, whiteS1_Nyaru_hit*3, whiteS1_Nyaru_hit*4))\n",
        "\n",
        "# CP-0:19\n",
        "nyaruTP019 = 10 * NYARU['tp_retain'] + 3 * action_tp(nyaruTPBoost(29))\n",
        "whiteS1 = 100 + 50 * 400 + (0.1 + 0.0005 * 400) * (5000 + 25 * 400 +1 + 40 *500)\n",
        "whiteS1_Nyaru_hit = floor(whiteS1/4/(1+NYARU['defence_magic']/100.))\n",
        "print('[+] Checkpoint at 0:19')\n",
        "print(' > Nyaru TP before WHITE clear buff action: %d, action tp at 0:20 = %d, hurt for UB (w/o next action) = %d/%d' % (\n",
        "    nyaruTP019, action_tp(nyaruTPBoost(20)),\n",
        "    hurt_for_UB(3, nyaruTPBoost(29), NYARU['tp_retain'], NYARU['hp'], 0, nuneka_tp(nyaruTPBoost(22))),\n",
        "    hurt_for_UB(4, nyaruTPBoost(29), NYARU['tp_retain'], NYARU['hp'], 0, nuneka_tp(nyaruTPBoost(22)))\n",
        "))\n",
        "print(' > Nyaru hurt by hits from WHITE S1 - %d, %d, %d, %d' % (whiteS1_Nyaru_hit, whiteS1_Nyaru_hit*2, whiteS1_Nyaru_hit*3, whiteS1_Nyaru_hit*4))"
      ],
      "id": "6e3CbCcFpDay",
      "execution_count": null,
      "outputs": [
        {
          "output_type": "stream",
          "text": [
            "[+] Checkpoint at 1:15\n",
            " > Luna S1 critical rate : 79.3%, damage to nyaru (w/o critical) : 23769/9904 (Nyaru MAX HP=24037, hurt for UB=16779)\n",
            "[+] Checkpoint at 1:11\n",
            " > Luna S1 critical rate : 79.3%, damage to nyaru (w/o critical) : 23769/9904 (Nyaru MAX HP=24037, hurt for UB=459)\n",
            "[+] Checkpoint at 0:58\n",
            " > Nyaru TP before WHITE clear buff action (interrupted): 831, hurt for UB (w/o next action) = 1012, 5345\n",
            " > Nyaru hurt by hits from WHITE S1 - 1350, 2700, 4050, 5400\n",
            "[+] Checkpoint at 0:44\n",
            " > Luna S1 critical rate : 74.8%, damage to nyaru (w/o critical) : 15887/7221 (Nyaru MAX HP=24037, hurt for UB=13251)\n",
            " > Nyaru hurt by hits from WHITE S1 - 1725, 3450, 5175, 6900\n",
            "[+] Checkpoint at 0:19\n",
            " > Nyaru TP before WHITE clear buff action: 581, action tp at 0:20 = 137, hurt for UB (w/o next action) = 6546/2213\n",
            " > Nyaru hurt by hits from WHITE S1 - 1912, 3824, 5736, 7648\n"
          ],
          "name": "stdout"
        }
      ]
    },
    {
      "cell_type": "code",
      "metadata": {
        "colab": {
          "base_uri": "https://localhost:8080/"
        },
        "id": "E0V23ylT08td",
        "outputId": "4e832bdb-f6c9-4715-ca1e-c4b02f4c6d5a"
      },
      "source": [
        "hurt_for_UB(3, 32+15+5, NYARU['tp_retain'], NYARU['hp'], 0, 212)"
      ],
      "id": "E0V23ylT08td",
      "execution_count": null,
      "outputs": [
        {
          "output_type": "execute_result",
          "data": {
            "text/plain": [
              "6546.919736842105"
            ]
          },
          "metadata": {
            "tags": []
          },
          "execution_count": 31
        }
      ]
    },
    {
      "cell_type": "markdown",
      "metadata": {
        "id": "6Lj5ftxAhRkK"
      },
      "source": [
        "## Action frames\n",
        "\n",
        "Chara action/skill parsing by frames\n",
        "* Spine animation: foreswing/effect point and backswing\n",
        "* Skill cast time: waiting before Spine animation\n",
        "* Skill order: start and loop\n",
        "\n",
        "Battle procedures\n",
        "* Run into battle area: final position based on attack range\n",
        "* First action: X frames after in place or UB OK time\n",
        "* Next action(s): cast time + Spine animation"
      ],
      "id": "6Lj5ftxAhRkK"
    },
    {
      "cell_type": "code",
      "metadata": {
        "colab": {
          "base_uri": "https://localhost:8080/"
        },
        "id": "qIOI6SzQlsgR",
        "outputId": "d5118d0a-9af7-49a1-f06d-8b41c295ee3d"
      },
      "source": [
        "ACTION_DATA = {}\n",
        "ACTION_DATA['nyaru'] = {\n",
        "    'attack_cast': 2.07,\n",
        "    'attack_effect': 1.06,\n",
        "    'attack_animation': 1.37,\n",
        "    'skill1_cast': 0.74,\n",
        "    'skill1_effect': 2.03,\n",
        "    'skill1_animation': 2.67,\n",
        "    'skill2_cast': 0.74,\n",
        "    'skill2_effect': [0.6, 0.83],\n",
        "    'skill2_animation': 2.67,\n",
        "    'loop': [2, 1, [0, 1, 2, 0, 1, 0]]\n",
        "}\n",
        "\n",
        "#Timeline without UB / full auto\n",
        "start_time = 84.5\n",
        "timestamp = start_time\n",
        "chara_actions = ACTION_DATA['nyaru']\n",
        "action_loop = chara_actions['loop']\n",
        "action_cursor = 0\n",
        "cast_time = 0\n",
        "while True:\n",
        "  action = action_loop[action_cursor % len(action_loop)]\n",
        "  if type(action) is list:\n",
        "    action_loop = action\n",
        "    action_cursor = 0\n",
        "    action = action_loop[action_cursor]\n",
        "  if(action == 0):\n",
        "    prefix = 'attack'\n",
        "  elif(action == 1):\n",
        "    prefix = 'skill1'\n",
        "  elif(action == 2):\n",
        "    prefix = 'skill2'\n",
        "  else:\n",
        "    print('[X] Undefined action - ' +repr(action))\n",
        "    break\n",
        "  cast_time = chara_actions[prefix + '_cast']\n",
        "  spine_time = chara_actions[prefix + '_animation']\n",
        "  eff_time = chara_actions[prefix + '_effect']\n",
        "  if type(eff_time) is list:\n",
        "    eff_time = eff_time[0]\n",
        "  if(start_time - timestamp > 0.1):\n",
        "    timestamp -= cast_time\n",
        "  print('Chara use ' + prefix + ' effect at'  + (' %.2f s' % (timestamp - eff_time)) )\n",
        "  action_cursor += 1\n",
        "  timestamp -= spine_time\n",
        "  if timestamp < 0:\n",
        "    break\n"
      ],
      "id": "qIOI6SzQlsgR",
      "execution_count": null,
      "outputs": [
        {
          "output_type": "stream",
          "text": [
            "Chara use skill2 effect at 83.90 s\n",
            "Chara use skill1 effect at 79.06 s\n",
            "Chara use attack effect at 75.29 s\n",
            "Chara use skill1 effect at 72.21 s\n",
            "Chara use skill2 effect at 70.23 s\n",
            "Chara use attack effect at 65.03 s\n",
            "Chara use skill1 effect at 61.95 s\n",
            "Chara use attack effect at 58.18 s\n",
            "Chara use attack effect at 54.74 s\n",
            "Chara use skill1 effect at 51.66 s\n",
            "Chara use skill2 effect at 49.68 s\n",
            "Chara use attack effect at 44.48 s\n",
            "Chara use skill1 effect at 41.40 s\n",
            "Chara use attack effect at 37.63 s\n",
            "Chara use attack effect at 34.19 s\n",
            "Chara use skill1 effect at 31.11 s\n",
            "Chara use skill2 effect at 29.13 s\n",
            "Chara use attack effect at 23.93 s\n",
            "Chara use skill1 effect at 20.85 s\n",
            "Chara use attack effect at 17.08 s\n",
            "Chara use attack effect at 13.64 s\n",
            "Chara use skill1 effect at 10.56 s\n",
            "Chara use skill2 effect at 8.58 s\n",
            "Chara use attack effect at 3.38 s\n",
            "Chara use skill1 effect at 0.30 s\n"
          ],
          "name": "stdout"
        }
      ]
    }
  ]
}