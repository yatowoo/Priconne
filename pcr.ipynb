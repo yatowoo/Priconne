{
  "nbformat": 4,
  "nbformat_minor": 5,
  "metadata": {
    "kernelspec": {
      "display_name": "Python 3",
      "language": "python",
      "name": "python3"
    },
    "language_info": {
      "codemirror_mode": {
        "name": "ipython",
        "version": 3
      },
      "file_extension": ".py",
      "mimetype": "text/x-python",
      "name": "python",
      "nbconvert_exporter": "python",
      "pygments_lexer": "ipython3",
      "version": "3.8.5"
    },
    "colab": {
      "name": "pcr.ipynb",
      "provenance": [],
      "toc_visible": true
    }
  },
  "cells": [
    {
      "cell_type": "code",
      "metadata": {
        "id": "K-6QjOZrlzx3"
      },
      "source": [
        "from math import *\n",
        "from random import uniform as rng\n",
        "import numpy as np\n",
        "import matplotlib.pyplot as plt"
      ],
      "id": "K-6QjOZrlzx3",
      "execution_count": 2,
      "outputs": []
    },
    {
      "cell_type": "markdown",
      "metadata": {
        "id": "gaSMmfPclzx-"
      },
      "source": [
        "## Global data"
      ],
      "id": "gaSMmfPclzx-"
    },
    {
      "cell_type": "code",
      "metadata": {
        "id": "VXAF_spQlzyA"
      },
      "source": [
        "LV_MAX = 196\n",
        "HIT_DAMAGE_LIMIT = 999999"
      ],
      "id": "VXAF_spQlzyA",
      "execution_count": 4,
      "outputs": []
    },
    {
      "cell_type": "markdown",
      "metadata": {
        "id": "XeWPW48qlzyB"
      },
      "source": [
        "### Character properties"
      ],
      "id": "XeWPW48qlzyB"
    },
    {
      "cell_type": "code",
      "metadata": {
        "id": "oZf731YYlzyB"
      },
      "source": [
        "# Properties of Luna\n",
        "\n",
        "LUNA = {\n",
        "    'attack': 14799 + (240 + 15 * LV_MAX),\n",
        "    'critical': 1162,\n",
        "    'defence_phys': 214,\n",
        "    'defence_magic': 316,\n",
        "    'hp': 23708,\n",
        "    'tp_rise': 13,\n",
        "    'tp_rest': 28\n",
        "}\n",
        "\n",
        "LUNA_4 = {\n",
        "    'attack': 14237 + (240 + 15 * LV_MAX),\n",
        "    'critical': 1162,\n",
        "    'defence_phys': 190,\n",
        "    'defence_magic': 292,\n",
        "    'hp': 20217,\n",
        "    'tp_rise': 13,\n",
        "    'tp_rest': 28\n",
        "}\n",
        "\n",
        "LUNA_3 = {\n",
        "    'attack': 13673 + (240 + 15 * LV_MAX),\n",
        "    'critical': 1162,\n",
        "    'defence_phys': 163,\n",
        "    'defence_magic': 265,\n",
        "    'hp': 16723,\n",
        "    'tp_rise': 13,\n",
        "    'tp_rest': 28\n",
        "}\n",
        "\n",
        "\n",
        "# Properties of Nyaru\n",
        "\n",
        "NYARU = {\n",
        "    'attack': 15367 + (240 + 15 * LV_MAX),\n",
        "    'critical': 1367,\n",
        "    'defence_phys': 227,\n",
        "    'defence_magic': 288,\n",
        "    'hp': 23479,\n",
        "    'tp_rise': 13,\n",
        "    'tp_rest': 17\n",
        "}\n",
        "\n",
        "NYARU_4 = {\n",
        "    'attack': 14792 + (240 + 15 * LV_MAX),\n",
        "    'critical': 1367,\n",
        "    'defence_phys': 201,\n",
        "    'defence_magic': 268,\n",
        "    'hp': 20041,\n",
        "    'tp_rise': 13,\n",
        "    'tp_rest': 17\n",
        "}\n",
        "\n",
        "NYARU_3 = {\n",
        "    'attack': 14217 + (240 + 15 * LV_MAX),\n",
        "    'critical': 1367,\n",
        "    'defence_phys': 172,\n",
        "    'defence_magic': 246,\n",
        "    'hp': 16599,\n",
        "    'tp_rise': 13,\n",
        "    'tp_rest': 17\n",
        "}"
      ],
      "id": "oZf731YYlzyB",
      "execution_count": 5,
      "outputs": []
    },
    {
      "cell_type": "markdown",
      "metadata": {
        "id": "g02XTi2VlzyD"
      },
      "source": [
        "### Skills and battle fomules"
      ],
      "id": "g02XTi2VlzyD"
    },
    {
      "cell_type": "code",
      "metadata": {
        "id": "tOkzg610lzyE"
      },
      "source": [
        "def tp_integer(tp_orignal, tp_rise):\n",
        "    return round(tp_orignal * (1 + tp_rise/100.))\n",
        "\n",
        "def yukari_tp(tp_rise, lv = LV_MAX):\n",
        "    return round((75 + 2.5 *lv) * (1+tp_rise/100.))\n",
        "\n",
        "def miren_tp(tp_rise, lv = LV_MAX):\n",
        "    return round((250 + 1.35 * lv))\n",
        "\n",
        "def action_tp(tp_rise, lv = LV_MAX):\n",
        "    return round(90*(1+tp_rise/100.))\n",
        "\n",
        "def hurt_tp_magic(damage, role):\n",
        "    return hurt_tp(damage, role['hp'], role['defence_magic'],role['tp_rise'])\n",
        "\n",
        "def hurt_tp(damage, hp, defence, tp_rise):\n",
        "    return round(damage/(1+defence/100.) / hp * 500 * (1+tp_rise/100.))\n",
        "\n",
        "def LogBarrier(damage, threshold=850000, factor=100000):\n",
        "    if(damage < threshold):\n",
        "        return damage\n",
        "    else:\n",
        "        return (factor * log((damage-threshold)/factor + 1) + threshold)\n",
        "  \n",
        "def critical_rate(criVal, enemyLv, lv = LV_MAX):\n",
        "    return (0.05 * criVal / 100 * lv / enemyLv)\n",
        "\n",
        "def critical_damage(orignalDamage, rate, criticalDamageBuff = 0., criticalCoeff = 2.0):\n",
        "    hit = 0\n",
        "    if(rng(0,1) < rate ):\n",
        "        hit = round(orignalDamage * criticalCoeff * (1 + criticalDamageBuff))\n",
        "    else:\n",
        "        hit = round(orignalDamage)\n",
        "    return min(HIT_DAMAGE_LIMIT, hit)\n",
        "\n",
        "NYARU_UB_BUFF_COEFF = 0.1125\n",
        "def nyaruUB(atackWithBuff, criticalWithBuff, criticalDamageBuff = 0., enemyLv = LV_MAX, lv = LV_MAX, detail=False):\n",
        "    # split in 10 parts = 1/13 * 9 + 4/13\n",
        "    totalDamage = 0\n",
        "    orignalDamage = 60 * (LV_MAX + 1 ) + 4.8 * atackWithBuff\n",
        "    for i in ([1] * 9 + [4]):\n",
        "        totalDamage += critical_damage(orignalDamage*i/13, critical_rate(criticalWithBuff, enemyLv, lv), criticalDamageBuff)\n",
        "    if detail:\n",
        "        return [round(orignalDamage * 1/13), round(orignalDamage * 4/13), totalDamage]\n",
        "    else:\n",
        "        return totalDamage"
      ],
      "id": "tOkzg610lzyE",
      "execution_count": 6,
      "outputs": []
    },
    {
      "cell_type": "code",
      "metadata": {
        "colab": {
          "base_uri": "https://localhost:8080/"
        },
        "id": "rFemeqdklzyG",
        "outputId": "2c0570b0-5691-44bf-a9f9-55b44062ff88"
      },
      "source": [
        "print(action_tp(13)*2 + yukari_tp(13))\n",
        "print(hurt_tp_magic(LUNA['attack'], NYARU_3))"
      ],
      "id": "rFemeqdklzyG",
      "execution_count": 7,
      "outputs": [
        {
          "output_type": "stream",
          "text": [
            "842\n",
            "177\n"
          ],
          "name": "stdout"
        }
      ]
    },
    {
      "cell_type": "markdown",
      "metadata": {
        "id": "r-3PdNkBlzyH"
      },
      "source": [
        "#### Test : Nyaru UB damage distribution\n",
        "Nyaru's UB is splitted into 10 hits, including the first 9 hits took 1/13 damage and the last hit took 4/13. For simplicity, I suppose the critical for each hit is calculated independently. "
      ],
      "id": "r-3PdNkBlzyH"
    },
    {
      "cell_type": "code",
      "metadata": {
        "colab": {
          "base_uri": "https://localhost:8080/",
          "height": 278
        },
        "id": "hhS82fQ3lzyI",
        "outputId": "83310bfd-4e67-4958-9967-9507c58197f2"
      },
      "source": [
        "ex4nyaru = lambda x : nyaruUB(NYARU['attack'] + x, NYARU['critical']+180,0.25,400)\n",
        "a = [ex4nyaru(100000) for i in range(0,10000)]\n",
        "_ = plt.hist(a, bins='auto')"
      ],
      "id": "hhS82fQ3lzyI",
      "execution_count": 14,
      "outputs": [
        {
          "output_type": "display_data",
          "data": {
            "image/png": "[encoded data removed]",
            "text/plain": [
              "<Figure size 432x288 with 1 Axes>"
            ]
          },
          "metadata": {
            "tags": [],
            "needs_background": "light"
          }
        }
      ]
    },
    {
      "cell_type": "code",
      "metadata": {
        "colab": {
          "base_uri": "https://localhost:8080/"
        },
        "id": "2dQw1gmulzyK",
        "outputId": "8844371d-5d4f-4e9c-9187-51040ebe1386"
      },
      "source": [
        "nyaruUB(NYARU['attack'] + (28+10.5+10.5+20+6+18) * (LV_MAX +1) + 1308, NYARU['critical'],0.15,400, LV_MAX, True)"
      ],
      "id": "2dQw1gmulzyK",
      "execution_count": 9,
      "outputs": [
        {
          "output_type": "execute_result",
          "data": {
            "text/plain": [
              "[15005, 60020, 331609]"
            ]
          },
          "metadata": {
            "tags": []
          },
          "execution_count": 9
        }
      ]
    },
    {
      "cell_type": "markdown",
      "metadata": {
        "id": "hGDG7NoclzyL"
      },
      "source": [
        "### TP interger check"
      ],
      "id": "hGDG7NoclzyL"
    },
    {
      "cell_type": "code",
      "metadata": {
        "colab": {
          "base_uri": "https://localhost:8080/"
        },
        "id": "sB6IdQ7MlzyS",
        "outputId": "7356e96d-97b4-4077-ab04-78929f7c174c"
      },
      "source": [
        "tp_cache = 1.10\n",
        "tp_charge = 107.9\n",
        "tp_charge_int = 108\n",
        "\n",
        "for i in range(0,20):\n",
        "    tp_up_tmp = tp_cache + 0.01 * i\n",
        "    print('%.2f %.2f %.2f' % (tp_up_tmp, tp_charge * tp_up_tmp, tp_charge_int * tp_up_tmp))"
      ],
      "id": "sB6IdQ7MlzyS",
      "execution_count": 10,
      "outputs": [
        {
          "output_type": "stream",
          "text": [
            "1.10 118.69 118.80\n",
            "1.11 119.77 119.88\n",
            "1.12 120.85 120.96\n",
            "1.13 121.93 122.04\n",
            "1.14 123.01 123.12\n",
            "1.15 124.09 124.20\n",
            "1.16 125.16 125.28\n",
            "1.17 126.24 126.36\n",
            "1.18 127.32 127.44\n",
            "1.19 128.40 128.52\n",
            "1.20 129.48 129.60\n",
            "1.21 130.56 130.68\n",
            "1.22 131.64 131.76\n",
            "1.23 132.72 132.84\n",
            "1.24 133.80 133.92\n",
            "1.25 134.88 135.00\n",
            "1.26 135.95 136.08\n",
            "1.27 137.03 137.16\n",
            "1.28 138.11 138.24\n",
            "1.29 139.19 139.32\n"
          ],
          "name": "stdout"
        }
      ]
    },
    {
      "cell_type": "markdown",
      "metadata": {
        "id": "M7zoFGE0lzyT"
      },
      "source": [
        "## Damage limit with log barrier\n",
        "After the Nyaru shock in the clan battle of 2020/01, Cygames decided to add a new limitation sign for all the bossed under clan battle mode. According to unpaced data from server, the mechanism is deployed with a simple logarithm for damage above threshold, so called **'log barrier**'.\n",
        "\n",
        "The logarithm can be manipulated with two parameters, threshold and attenuation coefficient. Latest value in 2021/04 is **850,000** and 100,000."
      ],
      "id": "M7zoFGE0lzyT"
    },
    {
      "cell_type": "markdown",
      "metadata": {
        "id": "xWzRxfAHlzyU"
      },
      "source": [
        "### Example: Kaya vs Wyvern (2nd phase) 2021/01\n",
        "[video](https://www.youtube.com/watch?v=DA6hy8W1RTQ) from たつきちゃん"
      ],
      "id": "xWzRxfAHlzyU"
    },
    {
      "cell_type": "code",
      "metadata": {
        "id": "vK3mXpOalzyU",
        "outputId": "eca6429b-aca5-490d-efc5-df87b2b7243a"
      },
      "source": [
        "eff_lv = 187\n",
        "kaya_attack = 17337\n",
        "damage_final = 856088\n",
        "buff_miren = (18+2.5) * (eff_lv +1)\n",
        "buff_self = (20 *2 + 72) * (1 + eff_lv)\n",
        "\n",
        "damage = (120 * (eff_lv +1 ) + 9.6 * (kaya_attack + buff_miren + buff_self)) *2\n",
        "print(int(damage), int(LogBarrier(damage)), int (damage_final))"
      ],
      "id": "vK3mXpOalzyU",
      "execution_count": null,
      "outputs": [
        {
          "output_type": "stream",
          "text": [
            "856262 856074 856088\n"
          ],
          "name": "stdout"
        }
      ]
    },
    {
      "cell_type": "code",
      "metadata": {
        "id": "MApBuBgs_ij2"
      },
      "source": [
        ""
      ],
      "id": "MApBuBgs_ij2",
      "execution_count": null,
      "outputs": []
    },
    {
      "cell_type": "markdown",
      "metadata": {
        "id": "Z9qItCDa_kN7"
      },
      "source": [
        "### UB with multi-hits\n",
        "The method for multi-hit UB is still unclear. Here I suppose the possible process: \n",
        "1.   compute original damage without critical\n",
        "2.   divide the orignal damage into hits\n",
        "3.   define critical flags for hits\n",
        "4.   sum the total damge and apply log barrier\n",
        "5.   get a ratio of the total damage before and after\n",
        "6.   apply the ratio to each hit"
      ],
      "id": "Z9qItCDa_kN7"
    },
    {
      "cell_type": "markdown",
      "metadata": {
        "id": "cAWZ8Zq4Axjz"
      },
      "source": [
        "### Example: working with digit barrier\n",
        "Another case is from the limitation of hit damage (digit barrier). If Nyaru get more than 320,000 buff, the last hit of UB would exceed it when critical. For Nuneka patterns, the required buff could be even lower, around 275,000. The buff corresponds to 2,850k and 2,450k damage of Nyaru UB in last 18s."
      ],
      "id": "cAWZ8Zq4Axjz"
    },
    {
      "cell_type": "code",
      "metadata": {
        "colab": {
          "base_uri": "https://localhost:8080/"
        },
        "id": "xA937lo2lzyV",
        "outputId": "5546b44a-7757-474d-dfb1-f1b5138aab2c"
      },
      "source": [
        "buffRaw = 320000\n",
        "damageRaw = nyaruUB(NYARU['attack']+320000 , NYARU['critical'], enemyLv=120, detail=True)\n",
        "print('Nyaru UB with ' + repr(buffRaw) + ' buff: ' +repr(damageRaw))\n",
        "print('> Last hit with critical: %d' % (damageRaw[1] * 2.0))\n",
        "print('> Buff required damage of Nyaru UB: ' + repr(int(buffRaw / NYARU_UB_BUFF_COEFF)))\n",
        "\n",
        "buffNuneka = 275000\n",
        "damageNuneka = nyaruUB(NYARU['attack']+buffNuneka , NYARU['critical'], criticalDamageBuff=0.15, enemyLv=120, detail=True)\n",
        "print('Nyaru UB with ' + repr(buffNuneka) + ' buff and Nuneka critical damage buff: ' + repr(damageNuneka))\n",
        "print('> Last hit with critical: %d' % (damageNuneka[1] * 2.0 * 1.15))\n",
        "print('> Buff required damage of Nyaru UB: ' + repr(int(buffNuneka / NYARU_UB_BUFF_COEFF)))"
      ],
      "id": "xA937lo2lzyV",
      "execution_count": 47,
      "outputs": [
        {
          "output_type": "stream",
          "text": [
            "Nyaru UB with 320000 buff: [125911, 503645, 3266397]\n",
            "> Last hit with critical: 1007290\n",
            "> Buff required damage of Nyaru UB: 2844444\n",
            "Nyaru UB with 275000 buff and Nuneka critical damage buff: [109296, 437183, 3262419]\n",
            "> Last hit with critical: 1005520\n",
            "> Buff required damage of Nyaru UB: 2444444\n"
          ],
          "name": "stdout"
        }
      ]
    },
    {
      "cell_type": "markdown",
      "metadata": {
        "id": "40dJAI92FUT4"
      },
      "source": [
        "To verify the method for multi-hit UB, the data from [video](https://www.youtube.com/watch?v=VIWQDPDHeJY) by ハンマリォch. was extracted, which is Nyaru vs Minotaur (3rd phase).\n",
        "\n",
        "The UB damage of Nyara:\n",
        "\n",
        "*   1:22, 241310\n",
        "*   1:18, 535032\n",
        "*   1:14, 985206\n",
        "*   1:11, 1120470\n",
        "*   1:07, 1079101 (no debuff, 100 magical defence)\n",
        "*   0:59, 1191251\n",
        "\n"
      ],
      "id": "40dJAI92FUT4"
    },
    {
      "cell_type": "code",
      "metadata": {
        "colab": {
          "base_uri": "https://localhost:8080/"
        },
        "id": "XABpbXFx5hcM",
        "outputId": "feddc791-0573-455b-d5f9-225001a00739"
      },
      "source": [
        "# Rest time (seconds) and total UB damage\n",
        "exampleNyaruUBDmage = [(82, 241310), (78, 535032), (74, 985206), (71, 1120470), (67, 1079101), (59, 1191251)]\n",
        "\n",
        "# First UB\n",
        "otherBuff = (18. + 6. ) * (LV_MAX + 1)\n",
        "nextUBDamage = nyaruUB(NYARU_4['attack'] - 25 + otherBuff, NYARU['critical'], enemyLv=120, detail=True)\n",
        "print(nextUBDamage)\n",
        "\n",
        "# Test A: UB at 1:07\n",
        "## Neneka's debuff is missing, and the defence is 100, so damage is halved.\n",
        "ubDamageA = sum(x[1] for x in exampleNyaruUBDmage[0:4])\n",
        "# buff from Saren (S1, 1:24; S2, 1:15), Nyaru(S2, 1:22/1:12) and Luna (S1, 1:18/1:11/1:07)\n",
        "otherBuff = (18. + 2.5 + 6. *2 + 7.5 *3) * (LV_MAX + 1)\n",
        "nextUBDamage = nyaruUB(NYARU_4['attack'] + ubDamageA * NYARU_UB_BUFF_COEFF  + otherBuff, \n",
        "                       NYARU_4['critical'], enemyLv=120, detail=True)\n",
        "print('Total damage: ' + repr(nextUBDamage) + ', damge after logarithm :  ' + repr(round(LogBarrier(nextUBDamage[2] / 2.))))\n",
        "nextUBDamageWithoutDigitBarrier = nextUBDamage[0] * 2 * 9 + nextUBDamage[1] * 2\n",
        "print( 'Damage w/o digit barrier: %d, after logarithm : %d' % (nextUBDamageWithoutDigitBarrier , round( LogBarrier(nextUBDamageWithoutDigitBarrier /2. ))))\n",
        "\n",
        "# Test B: UB at 0:59\n",
        "# buff from Saren (S2, 1:02; UB, 1:05), Neneka(UB, 1:06) and Luna (S1, 1:11/1:07)\n",
        "otherBuff = (2.5 + 10.5 + 28 + 7.5 *2 ) * (LV_MAX + 1)\n",
        "ubDamageB = sum(x[1] for x in exampleNyaruUBDmage[2:5])\n",
        "nextUBDamage = nyaruUB(NYARU_4['attack'] + ubDamageB * NYARU_UB_BUFF_COEFF  + otherBuff, \n",
        "                       NYARU_4['critical'], enemyLv=120, detail=True)\n",
        "print('Total damage: ' + repr(nextUBDamage) + ', damge after logarithm :  ' + repr(round(LogBarrier(nextUBDamage[2]))))\n",
        "nextUBDamageWithoutDigitBarrier = nextUBDamage[0] * 2 * 9 + nextUBDamage[1] * 2\n",
        "print( 'Damage w/o digit barrier: %d, after logarithm : %d' % (nextUBDamageWithoutDigitBarrier , round( LogBarrier(nextUBDamageWithoutDigitBarrier ))))"
      ],
      "id": "XABpbXFx5hcM",
      "execution_count": 79,
      "outputs": [
        {
          "output_type": "stream",
          "text": [
            "[9282, 37126, 241319]\n",
            "Total damage: [131260, 525041, 3362688], damge after logarithm :  1073146\n",
            "Damage w/o digit barrier: 3412762, after logarithm : 1075799\n",
            "Total damage: [143909, 575637, 3590361], damge after logarithm :  1184652\n",
            "Damage w/o digit barrier: 3741636, after logarithm : 1189841\n"
          ],
          "name": "stdout"
        }
      ]
    },
    {
      "cell_type": "markdown",
      "metadata": {
        "id": "rpUxNEq70SNR"
      },
      "source": [
        "## EX4 Dungeon - Nyaru patterns\n",
        "\n",
        "Basic Strategy\n",
        "1. Kill BLACK boss at 1:14 (before first buff clear action)\n",
        "2. Hit WHITE boss under 50% during 1:02-1:00 (actions to clear buff)\n",
        "\n",
        "The next action to clear buff is 0:46-0:43, and all the buff would be cleared at the end of damage hits, around 0:43-0:42. So the power of Nyaru-Luna patterns is unlimited in the first 46 seconds.\n",
        "\n",
        "HP of both boss should be adjusted to achive the above timeline. Upper limit is constrained by the maximum damage of Nyaru with 100% criticals, while lower limit is set to avoid reaching the HP target before the check point (for BLACK boss is more loose than WHITE). Considering the wide gap of level between boss and player (lv. 400  and lv. 196), the critical rate of Nyaru is around 30% to 40%. Therefore, the damage distribution is necessary to select proper range for HP adjusting.\n"
      ],
      "id": "rpUxNEq70SNR"
    },
    {
      "cell_type": "markdown",
      "metadata": {
        "id": "TDoBTCTy60cY"
      },
      "source": [
        "### 1. W-Neneka pattern\n",
        "Neneka (New year), Saren (Summer), Neneka, Nyaru, Luna\n"
      ],
      "id": "TDoBTCTy60cY"
    },
    {
      "cell_type": "code",
      "metadata": {
        "id": "5GOJXIPo7Y7e",
        "outputId": "d67b4aee-c76f-44f3-d630-efde4740e302",
        "colab": {
          "base_uri": "https://localhost:8080/",
          "height": 283
        }
      },
      "source": [
        "ex4start = lambda x : nyaruUB(NYARU['attack'] + (28+10.5+10.5+20+6+18) * (LV_MAX +1) + 1308, NYARU['critical']+180,0.15,400, detail=x)\n",
        "print(ex4start(True))\n",
        "a = [ex4start(False) for i in range(0,10000)]\n",
        "_ = plt.hist(a, bins='auto')"
      ],
      "id": "5GOJXIPo7Y7e",
      "execution_count": 13,
      "outputs": [
        {
          "output_type": "stream",
          "text": [
            "[15005, 60020, 234077]\n"
          ],
          "name": "stdout"
        },
        {
          "output_type": "display_data",
          "data": {
            "image/png": "[encoded data removed]",
            "text/plain": [
              "<Figure size 432x288 with 1 Axes>"
            ]
          },
          "metadata": {
            "tags": [],
            "needs_background": "light"
          }
        }
      ]
    }
  ]
}