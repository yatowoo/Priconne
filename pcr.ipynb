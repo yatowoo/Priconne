{
  "nbformat": 4,
  "nbformat_minor": 5,
  "metadata": {
    "kernelspec": {
      "display_name": "Python 3",
      "language": "python",
      "name": "python3"
    },
    "language_info": {
      "codemirror_mode": {
        "name": "ipython",
        "version": 3
      },
      "file_extension": ".py",
      "mimetype": "text/x-python",
      "name": "python",
      "nbconvert_exporter": "python",
      "pygments_lexer": "ipython3",
      "version": "3.8.5"
    },
    "colab": {
      "name": "pcr.ipynb",
      "provenance": [],
      "toc_visible": true,
      "include_colab_link": true
    }
  },
  "cells": [
    {
      "cell_type": "markdown",
      "metadata": {
        "id": "view-in-github",
        "colab_type": "text"
      },
      "source": [
        "<a href=\"https://colab.research.google.com/github/yatowoo/Priconne/blob/main/pcr.ipynb\" target=\"_parent\"><img src=\"https://colab.research.google.com/assets/colab-badge.svg\" alt=\"Open In Colab\"/></a>"
      ]
    },
    {
      "cell_type": "markdown",
      "metadata": {
        "id": "gaSMmfPclzx-"
      },
      "source": [
        "## Global data"
      ],
      "id": "gaSMmfPclzx-"
    },
    {
      "cell_type": "code",
      "metadata": {
        "id": "XW4InokTPggl"
      },
      "source": [
        "from math import *\n",
        "from random import uniform as rng\n",
        "import numpy as np\n",
        "import matplotlib.pyplot as plt\n",
        "from copy import deepcopy as cp_dict"
      ],
      "id": "XW4InokTPggl",
      "execution_count": 1,
      "outputs": []
    },
    {
      "cell_type": "code",
      "metadata": {
        "id": "VXAF_spQlzyA"
      },
      "source": [
        "LV_MAX = 199\n",
        "HIT_DAMAGE_LIMIT = 999999"
      ],
      "id": "VXAF_spQlzyA",
      "execution_count": 2,
      "outputs": []
    },
    {
      "cell_type": "markdown",
      "metadata": {
        "id": "XeWPW48qlzyB"
      },
      "source": [
        "### Character properties"
      ],
      "id": "XeWPW48qlzyB"
    },
    {
      "cell_type": "code",
      "metadata": {
        "id": "oZf731YYlzyB"
      },
      "source": [
        "# Properties of Luna\n",
        "\n",
        "LUNA = {\n",
        "    'attack': 15666 + (240 + 15 * LV_MAX),\n",
        "    'critical': 1332,\n",
        "    'defence_phys': 222,\n",
        "    'defence_magic': 326,\n",
        "    'hp': 24090,\n",
        "    'tp_boost': 13,\n",
        "    'tp_retain': 28\n",
        "}\n",
        "\n",
        "LUNA_4 = {\n",
        "    'attack': 15093 + (15 + 15 * LV_MAX),\n",
        "    'critical': 1332,\n",
        "    'defence_phys': 198,\n",
        "    'defence_magic': 302,\n",
        "    'hp': 20535,\n",
        "    'tp_boost': 13,\n",
        "    'tp_retain': 28\n",
        "}\n",
        "\n",
        "LUNA_3 = {\n",
        "    'attack': 14519 + (15 + 15 * LV_MAX),\n",
        "    'critical': 1332,\n",
        "    'defence_phys': 171,\n",
        "    'defence_magic': 275,\n",
        "    'hp': 16977,\n",
        "    'tp_boost': 13,\n",
        "    'tp_retain': 28\n",
        "}\n",
        "\n",
        "\n",
        "# Properties of Nyaru\n",
        "\n",
        "NYARU = {\n",
        "    'attack': 16235 + (240 + 15 * LV_MAX),\n",
        "    'critical': 1537,\n",
        "    'defence_phys': 236,\n",
        "    'defence_magic': 298,\n",
        "    'hp': 23855,\n",
        "    'tp_boost': 13,\n",
        "    'tp_retain': 17\n",
        "}\n",
        "\n",
        "NYARU_4 = {\n",
        "    'attack': 15649 + (15 + 15 * LV_MAX),\n",
        "    'critical': 1537,\n",
        "    'defence_phys': 209,\n",
        "    'defence_magic': 278,\n",
        "    'hp': 20354,\n",
        "    'tp_boost': 13,\n",
        "    'tp_retain': 17\n",
        "}\n",
        "\n",
        "NYARU_3 = {\n",
        "    'attack': 15064 + (15 + 15 * LV_MAX),\n",
        "    'critical': 1537,\n",
        "    'defence_phys': 180,\n",
        "    'defence_magic': 256,\n",
        "    'hp': 16850,\n",
        "    'tp_boost': 13,\n",
        "    'tp_retain': 17\n",
        "}\n",
        "\n",
        "# Nuneka\n",
        "# Rank 12, TP equip ONLY, 12-1/3 + 12-3/5\n",
        "NUNEKA_ATTACK = 7219 + (240 + 15 * LV_MAX)"
      ],
      "id": "oZf731YYlzyB",
      "execution_count": 66,
      "outputs": []
    },
    {
      "cell_type": "markdown",
      "metadata": {
        "id": "g02XTi2VlzyD"
      },
      "source": [
        "### Skills and battle fomules"
      ],
      "id": "g02XTi2VlzyD"
    },
    {
      "cell_type": "code",
      "metadata": {
        "id": "tOkzg610lzyE"
      },
      "source": [
        "def buff(buffCoef, lv = LV_MAX):\n",
        "  return buffCoef * (lv + 1)\n",
        "\n",
        "def tp_integer(tp_orignal, tp_boost):\n",
        "  return round(tp_orignal * (1 + tp_boost/100.))\n",
        "\n",
        "def yukari_tp(tp_boost, lv = LV_MAX):\n",
        "  return tp_integer(75 + 2.5 *lv, tp_boost)\n",
        "\n",
        "def miren_tp(tp_boost, lv = LV_MAX):\n",
        "  return tp_integer(250 + 1.35 * lv, tp_boost)\n",
        "\n",
        "def uzuki_tp(tp_boost, lv = LV_MAX):\n",
        "  return tp_integer(50 + 0.3 * lv, tp_boost)\n",
        "\n",
        "def nuneka_tp(tp_boost, lv = LV_MAX):\n",
        "  return tp_integer(18 + 0.6 * lv, tp_boost)\n",
        "\n",
        "def action_tp(tp_boost):\n",
        "  return tp_integer(90, tp_boost)\n",
        "\n",
        "def kill_tp(tp_boost):\n",
        "  return tp_integer(200, tp_boost)\n",
        "\n",
        "def hurt_tp_magic(damage, role):\n",
        "  return hurt_tp(damage, role['hp'], role['defence_magic'],role['tp_boost'])\n",
        "\n",
        "def hurt_tp(damage, hp, defence, tp_boost):\n",
        "  return tp_integer(damage/(1+defence/100.) / hp * 500, tp_boost)\n",
        "\n",
        "def hurt_for_UB(nActions, tpBoost, tpRetain, hpMAX, defence, otherTP = 0):\n",
        "  tpAction = nActions * action_tp(tpBoost)\n",
        "  dTP = 1000 - 1000 * tpRetain / 100 - tpAction - otherTP\n",
        "  return dTP / 500 * hpMAX / (1+tpBoost/100.) * (1+ defence/100.)\n",
        "\n",
        "def LogBarrier(damage, threshold=850000, factor=100000):\n",
        "    if(damage < threshold):\n",
        "        return damage\n",
        "    else:\n",
        "        return (factor * log((damage-threshold)/factor + 1) + threshold)\n",
        "  \n",
        "def critical_rate(criVal, enemyLv, lv = LV_MAX):\n",
        "    return (0.05 * criVal / 100 * lv / enemyLv)\n",
        "\n",
        "def critical_damage(orignalDamage, rate, criticalDamageBuff = 0., criticalCoeff = 2.0, defense = 0, logBarrier=False):\n",
        "    hit = 0\n",
        "    if(rng(0,1) < rate ):\n",
        "        hit = round(orignalDamage * criticalCoeff * (1 + criticalDamageBuff))\n",
        "    else:\n",
        "        hit = round(orignalDamage)\n",
        "    if(logBarrier):\n",
        "      hit = LogBarrier(hit)\n",
        "    return min(HIT_DAMAGE_LIMIT, round(hit / (1+defense/100.)))\n",
        "\n",
        "NYARU_UB_BUFF_COEFF = 0.1125\n",
        "def nyaruUB(attackWithBuff, criticalWithBuff, criticalDamageBuff = 0.,\n",
        "            enemyLv = LV_MAX, lv = LV_MAX,\n",
        "            detail=False, magic_defense = 0, logBarrier=False):\n",
        "    # split in 10 parts = 1/13 * 9 + 4/13\n",
        "    orignalDamage = 60 * (LV_MAX + 1 ) + 4.8 * attackWithBuff\n",
        "    hits = []\n",
        "    for i in ([1] * 9 + [4]):\n",
        "      hit = critical_damage(orignalDamage*i/13, critical_rate(criticalWithBuff, enemyLv, lv), criticalDamageBuff, defense=magic_defense)\n",
        "      hits.append(hit)\n",
        "    totalDamage = sum(hits)\n",
        "    if(logBarrier):\n",
        "      effectDamage = LogBarrier(totalDamage)\n",
        "      ratio = effectDamage / totalDamage\n",
        "      effectDamage = sum([round(hit * ratio) for hit in hits])\n",
        "    else:\n",
        "      effectDamage = round(totalDamage)\n",
        "    if detail:\n",
        "        return [round(orignalDamage * 1/13), round(orignalDamage * 4/13), effectDamage]\n",
        "    else:\n",
        "        return effectDamage\n",
        "\n",
        "def NyaruS1(attackWithBuff, enemyDefense, criticalWithBuff, criticalDamageBuff =0., enemyLv = LV_MAX, lv = LV_MAX, logBarrier=False):\n",
        "   original = 27 * (LV_MAX + 1) + 2.1 * attackWithBuff\n",
        "   damage = critical_damage(original, critical_rate(criticalWithBuff, enemyLv, lv), criticalDamageBuff, defense = enemyDefense, logBarrier=logBarrier)\n",
        "   return damage\n",
        "\n",
        "def LunaS1(attackWithBuff, enemyDefense, criticalWithBuff, criticalDamageBuff = 0., enemyLv = LV_MAX, lv = LV_MAX):\n",
        "    return round(critical_damage(attackWithBuff, critical_rate(criticalWithBuff, enemyLv, lv), criticalDamageBuff, defense=enemyDefense))\n",
        "\n",
        "def LunaS2(attackWithBuff, enemyDefense, criticalWithBuff, friendFlag=0, criticalDamageBuff =0., enemyLv = LV_MAX, lv = LV_MAX, logBarrier=False):\n",
        "  if(friendFlag <2):\n",
        "    original = 20 * (LV_MAX + 1) + 1.6 * attackWithBuff\n",
        "  else:\n",
        "    original = 40 * (LV_MAX + 1) + 3.2 * attackWithBuff\n",
        "  damage = critical_damage(original, critical_rate(criticalWithBuff, enemyLv, lv), criticalDamageBuff, defense = enemyDefense, logBarrier=logBarrier)\n",
        "  return damage\n",
        "\n",
        "def LunaUB(attackWithBuff, enemyDefense, criticalWithBuff, friendFlag=5, criticalDamageBuff =0., enemyLv = LV_MAX, lv = LV_MAX):\n",
        "  original = 12.5 * (LV_MAX +1) + (1.0 + min(5, friendFlag) * 1.2)\n",
        "  # divide into 5 hits, each took 1/5 damage\n",
        "  hits = []\n",
        "  for i in ([1] * 5):\n",
        "    hit = critical_damage(original*i/5, critical_rate(criticalWithBuff, enemyLv, lv), criticalDamageBuff, defense=enemyDefense)\n",
        "    hits.append(round(hit))\n",
        "  return sum(hits)"
      ],
      "id": "tOkzg610lzyE",
      "execution_count": 51,
      "outputs": []
    },
    {
      "cell_type": "markdown",
      "metadata": {
        "id": "r-3PdNkBlzyH"
      },
      "source": [
        "#### Test : Nyaru UB damage distribution\n",
        "Nyaru's UB is splitted into 10 hits, including the first 9 hits took 1/13 damage and the last hit took 4/13. For simplicity, I suppose the critical for each hit is calculated independently. "
      ],
      "id": "r-3PdNkBlzyH"
    },
    {
      "cell_type": "code",
      "metadata": {
        "colab": {
          "base_uri": "https://localhost:8080/",
          "height": 278
        },
        "id": "hhS82fQ3lzyI",
        "outputId": "3a745f71-adf9-4238-fb4b-3628376618d5"
      },
      "source": [
        "nyaruTest = lambda x : nyaruUB(NYARU['attack'] + x, NYARU['critical']+180,0.25,400)\n",
        "a = [nyaruTest(100000) for i in range(0,10000)]\n",
        "_ = plt.hist(a, bins='auto')"
      ],
      "id": "hhS82fQ3lzyI",
      "execution_count": 5,
      "outputs": [
        {
          "output_type": "display_data",
          "data": {
            "image/png": "[encoded data removed]",
            "text/plain": [
              "<Figure size 432x288 with 1 Axes>"
            ]
          },
          "metadata": {
            "tags": [],
            "needs_background": "light"
          }
        }
      ]
    },
    {
      "cell_type": "markdown",
      "metadata": {
        "id": "idebBK_fpxOi"
      },
      "source": [
        "Nyaru UB to reach digit barrier without log barrier. Require around **24M** damage by UB in last 18 seconds."
      ],
      "id": "idebBK_fpxOi"
    },
    {
      "cell_type": "code",
      "metadata": {
        "colab": {
          "base_uri": "https://localhost:8080/"
        },
        "id": "2dQw1gmulzyK",
        "outputId": "c068d5ec-ef85-4fb6-f0a1-bd5a6cde7b1b"
      },
      "source": [
        "totalDamageIn18s = (999999*13/4.8-NYARU['attack'])/NYARU_UB_BUFF_COEFF\n",
        "d = nyaruUB(NYARU['attack'] + totalDamageIn18s*NYARU_UB_BUFF_COEFF, NYARU['critical'],0.15,400, LV_MAX, True)\n",
        "print(d)\n",
        "print(d[0]*9 + 999999)\n",
        "print(totalDamageIn18s)"
      ],
      "id": "2dQw1gmulzyK",
      "execution_count": 6,
      "outputs": [
        {
          "output_type": "stream",
          "text": [
            "[1000922, 4003688, 9999990]\n",
            "10008297\n",
            "23901072.22222222\n"
          ],
          "name": "stdout"
        }
      ]
    },
    {
      "cell_type": "markdown",
      "metadata": {
        "id": "aRZ5R_zpqgDQ"
      },
      "source": [
        "#### Test: Damage needed for UB "
      ],
      "id": "aRZ5R_zpqgDQ"
    },
    {
      "cell_type": "code",
      "metadata": {
        "id": "DSM41nwzqfGr",
        "colab": {
          "base_uri": "https://localhost:8080/"
        },
        "outputId": "a7dae832-d6e2-4550-97ff-7afd0c1bcfd9"
      },
      "source": [
        "# Nyaru with Yukari and Luna at 1:18\n",
        "print('Hit4UB, LunaATK, BuffCoef')\n",
        "for chara in [NYARU, NYARU_4, NYARU_3]:\n",
        "  hurtNyaru = round( hurt_for_UB(2, chara['tp_boost'], 0, chara['hp'], chara['defence_magic'], yukari_tp(chara['tp_boost'])))\n",
        "  buffNeeded = round( (hurtNyaru-LUNA['attack'])/(LV_MAX+1) )\n",
        "  print(hurtNyaru, LUNA['attack'], buffNeeded, sep=' , ')"
      ],
      "id": "DSM41nwzqfGr",
      "execution_count": 7,
      "outputs": [
        {
          "output_type": "stream",
          "text": [
            "Hit4UB, LunaATK, BuffCoef\n",
            "25038 , 18891 , 31\n",
            "20290 , 18891 , 7\n",
            "15819 , 18891 , -15\n"
          ],
          "name": "stdout"
        }
      ]
    },
    {
      "cell_type": "markdown",
      "metadata": {
        "id": "hGDG7NoclzyL"
      },
      "source": [
        "### TP interger check"
      ],
      "id": "hGDG7NoclzyL"
    },
    {
      "cell_type": "code",
      "metadata": {
        "colab": {
          "base_uri": "https://localhost:8080/"
        },
        "id": "sB6IdQ7MlzyS",
        "outputId": "95003cf5-493c-468c-c46e-e2878cc7e517"
      },
      "source": [
        "# Miren, Uzuki TP charge\n",
        "print(\"TP Boost\\tAction\\tMiren\\tUzuki\")\n",
        "for tp_boost in [6, 8, 11, 13, 16, 21, 26, 28, 31, 33, 34, 35, 36, 39, 40, 43, 46, 50, 54, 56, 66]:\n",
        "    print(\"%d\\t%d\\t%d\\t%d\" % (tp_boost, action_tp(tp_boost), miren_tp(tp_boost), uzuki_tp(tp_boost+8)))"
      ],
      "id": "sB6IdQ7MlzyS",
      "execution_count": 8,
      "outputs": [
        {
          "output_type": "stream",
          "text": [
            "TP Boost\tAction\tMiren\tUzuki\n",
            "6\t95\t550\t125\n",
            "8\t97\t560\t127\n",
            "11\t100\t576\t131\n",
            "13\t102\t586\t133\n",
            "16\t104\t602\t136\n",
            "21\t109\t628\t142\n",
            "26\t113\t653\t147\n",
            "28\t115\t664\t149\n",
            "31\t118\t679\t152\n",
            "33\t120\t690\t155\n",
            "34\t121\t695\t156\n",
            "35\t122\t700\t157\n",
            "36\t122\t705\t158\n",
            "39\t125\t721\t161\n",
            "40\t126\t726\t162\n",
            "43\t129\t742\t166\n",
            "46\t131\t757\t169\n",
            "50\t135\t778\t173\n",
            "54\t139\t799\t178\n",
            "56\t140\t809\t180\n",
            "66\t149\t861\t191\n"
          ],
          "name": "stdout"
        }
      ]
    },
    {
      "cell_type": "markdown",
      "metadata": {
        "id": "q-4G2bn5LXra"
      },
      "source": [
        "## Timeline simulation\n",
        "\n",
        "Timeline:\n",
        "* Objects: Characters, Boss(es), Summon(s)\n",
        "* Properties: Initial stats, Skill/Actions (formula, animation and loop)\n",
        "* Status: HP/TP for each object\n",
        "* Status recorder: for each object and overall player objects, store array of delta value of properties with function object and timestamp of start and end"
      ],
      "id": "q-4G2bn5LXra"
    },
    {
      "cell_type": "code",
      "metadata": {
        "id": "Q9_3IZYuWIzu"
      },
      "source": [
        "# Class: Status recorder\n",
        "# Data: LIST for delta information (DICT)\n",
        "# Methods: input object, TIMESTAMP and properties, return accumulated buff/debuff and current status\n",
        "# Status change (buff/debuff): \n",
        "#   physic_attack, magic_attack\n",
        "#   physic_defence, magic_defence\n",
        "#   physic_critical, magic_critical, physical_critical_damage, magic_critical_damage\n",
        "#   TP boost\n",
        "#   speed (final value, not delta)\n",
        "#   field (overlap?)\n",
        "#   Other: HP drain rate, HOT/DOT\n",
        "#   Info: caster, target (name/ID), timestamp (start/end) [seconds or frame?]\n",
        "\n",
        "class StatusRecorder:\n",
        "  STATS_NAME = ['atk_phy', 'atk_mag', 'def_phy', 'def_mag', 'crit_phy', 'crit_mag', 'crit_damgage_phy', 'crit_damage_mag','tp_boost','speed']\n",
        "  INFO_NAME = ['caster', 'target', 'start', 'stop', 'duration']\n",
        "  party = []\n",
        "  objects = []\n",
        "  status_delta = []\n",
        "  status_delta_template = {}\n",
        "  def __init__(self, party):\n",
        "    self.status_delta = []\n",
        "    self.party = party\n",
        "    self.objects = party + ['boss']\n",
        "  # Input check and change function object abbr to list\n",
        "  def append(self, newStatusChange):\n",
        "    # Argument type check\n",
        "    if(type(newStatusChange) is not dict or not bool(newStatusChange)):\n",
        "      print('[X] Argument error - require dict with stats name and value - from StatusRecorder.append')\n",
        "      return False\n",
        "    delta =cp_dict(newStatusChange)\n",
        "    # Name check\n",
        "    for k in delta.keys():\n",
        "      if(k not in self.STATS_NAME + self.INFO_NAME):\n",
        "        print('[X] Argument error - can not find key ' + repr(k) + ' - from StatusRecorder.append')\n",
        "        return False\n",
        "    # Target check\n",
        "    tgt = delta['target']\n",
        "    if(type(tgt) is not list):\n",
        "      if(tgt is 'all'):\n",
        "        delta['target'] = self.party\n",
        "      elif(tgt in self.objects):\n",
        "          delta['target'] = [tgt]\n",
        "      else:\n",
        "        print('[X] Argument error - can not find target ' +repr(tgt) + ' in current party ' + repr(self.party) + '- from StatusRecorder.append')\n",
        "    else:\n",
        "      for name in tgt:\n",
        "        if(name not in self.objects):\n",
        "          print('[X] Argument error - can not find target ' +repr(name) + ' in current battle ' + repr(self.objects) + '- from StatusRecorder.append')\n",
        "    # End time\n",
        "    delta['stop'] = delta['start'] - delta['duration']\n",
        "    self.status_delta.append(delta)\n",
        "    return True\n",
        "  def addAtkBuff(self, buffValue, timestamp, duration=12, buffCritical = 0, buffCritDamage=0, buffType='phy', target='all', caster=None):\n",
        "    delta = {'start': timestamp, 'stop': timestamp - duration, 'duration': duration, 'target': target, 'caster': caster}\n",
        "    if(buffType is 'phy'):\n",
        "      delta['atk_phy'] = buffValue\n",
        "      delta['crit_phy'] = buffCritical\n",
        "      delta['crit_damage_phy'] = buffCritDamage\n",
        "    elif(buffType is 'mag'):\n",
        "      delta['atk_mag'] = buffValue\n",
        "      delta['crit_mag'] = buffCritical\n",
        "      delta['crit_damage_mag'] = buffCritDamage\n",
        "    else:\n",
        "      print('[X] Input buff type error - ', buffType, ' not defined - from StatusRecorder.addAtkBuff')\n",
        "      return\n",
        "    return self.append(delta)\n",
        "  def update(self, deltaVal, timestamp, duration = 12, statsType='atk_phy', target='all', caster=None):\n",
        "    delta = {'start': timestamp, 'stop': timestamp - duration, 'duration': duration, 'target': target, 'caster': caster}\n",
        "    delta[statsType] = deltaVal\n",
        "    return self.append(delta)\n",
        "  def getStatus(self, initStats, target, timestamp=90, statsKey='all'):\n",
        "    nowStats = cp_dict(initStats)\n",
        "    for delta in self.status_delta:\n",
        "      if(delta['stop'] > timestamp or  delta['start'] < timestamp or target not in delta['target']):\n",
        "        continue\n",
        "      for k in [name for name in delta.keys() if name not in self.INFO_NAME]:\n",
        "        nowStats[k] += delta[k]\n",
        "    # Value check - non-zero stats\n",
        "    for k in [name for name in nowStats.keys() if name in self.STATS_NAME and name not in self.INFO_NAME]:\n",
        "      nowStats[k] = max(0, nowStats[k])\n",
        "    if(statsKey is 'all'):\n",
        "      return nowStats\n",
        "    else:\n",
        "      return nowStats[statsKey]\n",
        "# END - Class definition"
      ],
      "id": "Q9_3IZYuWIzu",
      "execution_count": 85,
      "outputs": []
    },
    {
      "cell_type": "markdown",
      "metadata": {
        "id": "_zDjpJlsCvae"
      },
      "source": [
        "### Test : class StatusRecorder\n",
        "\n",
        "Case: 2020/05, C4 [video from Hanmario](https://youtu.be/n0Ht7fAF744)\n",
        "\n",
        "Party: Yukari, Anna, Akari, Nyaru, Luna\n",
        "\n",
        "**ISSUE**: Damage difference with Nyaru UB at 0:30, (video) 1194154 vs 1188894 (simulation)\n",
        "```\n",
        "TL\n",
        "118　にゃる\n",
        "116　アカリ\n",
        "115　にゃる　通常後\n",
        "110　にゃる　フィールドキャンセル\n",
        "104　にゃる　バレット後\n",
        "102　ルナ\n",
        "053　ユカリ\n",
        "048　アカリ\n",
        "047　にゃる\n",
        "　　　にゃる\n",
        "031　にゃる　ムンラ\n",
        "　　　ユカリ\n",
        "　　　にゃる　ソルコン\n",
        "　　　ルナ\n",
        "025　にゃるバレット討伐？足りないならアンナUB\n",
        "```"
      ],
      "id": "_zDjpJlsCvae"
    },
    {
      "cell_type": "code",
      "metadata": {
        "colab": {
          "base_uri": "https://localhost:8080/"
        },
        "id": "Ofs-rgk4C3KR",
        "outputId": "f17b59e7-455d-42dc-e964-5fd607f078b4"
      },
      "source": [
        "statsRec = StatusRecorder(['yukari', 'anna', 'akari', 'nyaru', 'luna'])\n",
        "luna = LUNA\n",
        "nyaru = NYARU_3\n",
        "nyaruInit = {'atk_mag':nyaru['attack'], 'crit_mag':nyaru['critical'], 'crit_damage_mag': 0}\n",
        "bossInit = {'name': '2021/05 C4', 'lv': 115, 'HP': 18000000, 'def_phy': 300, 'def_mag': 290, 'tp_boost':40}\n",
        "damageRec = {}\n",
        "for name in statsRec.party:\n",
        "  damageRec[name] = []\n",
        "\n",
        "DEBUG_FLAG = True\n",
        "def HitNyaruUB(timestamp, debug=False):\n",
        "  nyaruNow = statsRec.getStatus(nyaruInit, 'nyaru', timestamp)\n",
        "  bossNow = statsRec.getStatus(bossInit, 'boss', timestamp)\n",
        "  hits = nyaruUB(nyaruNow['atk_mag'], nyaruNow['crit_mag'], nyaruNow['crit_damage_mag'], \n",
        "                 enemyLv=bossInit['lv'], magic_defense = bossNow['def_mag'],\n",
        "                 detail=True, logBarrier=True)\n",
        "  if(debug or DEBUG_FLAG):\n",
        "    print('Time ' + repr(timestamp) + 's : Nyaru UB - ' +repr(hits))\n",
        "  damage = hits[2]\n",
        "  statsRec.addAtkBuff(buff(10) + round(damage * NYARU_UB_BUFF_COEFF), timestamp, duration=18, buffType='mag', target='nyaru')\n",
        "  damageRec['nyaru'].append(damage)\n",
        "  return round(damage)\n",
        "def HitNyaruAttack(timestamp, debug=False):\n",
        "  nyaruNow = statsRec.getStatus(nyaruInit, 'nyaru', timestamp)\n",
        "  bossNow = statsRec.getStatus(bossInit, 'boss', timestamp)\n",
        "  hits = critical_damage(nyaruNow['atk_mag'],\n",
        "                         critical_rate(nyaruNow['crit_mag'], bossNow['lv']), nyaruNow['crit_damage_mag'], defense = bossNow['def_mag'], logBarrier=True)\n",
        "  if(debug or DEBUG_FLAG):\n",
        "    print('Time ' + repr(timestamp) + 's : Nyaru attack - ' +repr(hits))\n",
        "  damageRec['nyaru'].append(hits)\n",
        "  return hits\n",
        "def HitNyaruS1(timestamp, debug=False):\n",
        "  nyaruNow = statsRec.getStatus(nyaruInit, 'nyaru', timestamp)\n",
        "  bossNow = statsRec.getStatus(bossInit, 'boss', timestamp)\n",
        "  hits = NyaruS1(nyaruNow['atk_mag'], bossNow['def_mag'], nyaruNow['crit_mag'],  nyaruNow['crit_damage_mag'], enemyLv=bossNow['lv'], logBarrier=True)\n",
        "  if(debug or DEBUG_FLAG):\n",
        "    print('Time ' + repr(timestamp) + 's : Nyaru S1 - ' +repr(hits))\n",
        "  damageRec['nyaru'].append(hits)\n",
        "  return hits\n",
        "\n",
        "# Timeline\n",
        "HitLunaS1 = lambda x, y : statsRec.addAtkBuff(buff(7.5), timestamp=x, buffCritical=100, buffType='mag', target=y)\n",
        "# DEBUG: set boss defence to 0 from start (most of time)\n",
        "statsRec.update(-buff(1.6), 90, 90, 'def_mag', 'boss')\n",
        "#1:23 Nyaru S2\n",
        "statsRec.addAtkBuff(buff(6), 83, buffType='mag')\n",
        "#1:18 Luna S1\n",
        "HitNyaruUB(78)\n",
        "HitLunaS1(78, 'nyaru')\n",
        "#1:16 Akari UB\n",
        "statsRec.addAtkBuff(buff(24), 76, 18, 100, buffType='mag')\n",
        "HitNyaruAttack(75)\n",
        "HitNyaruUB(75)\n",
        "HitNyaruS1(72)\n",
        "#1:11 Luna S1\n",
        "HitLunaS1(71, 'nyaru')\n",
        "HitNyaruUB(70)\n",
        "HitNyaruAttack(67)\n",
        "HitNyaruS1(64) # 917311\n",
        "#1:04 Luna S1\n",
        "HitLunaS1(64, 'nyaru')\n",
        "HitNyaruUB(64)\n",
        "HitNyaruAttack(60) # 700164\n",
        "HitNyaruAttack(57) # 636552\n",
        "#DEBUG\n",
        "statsRec.update(buff(0.8), 53, 1, 'def_mag', 'boss')\n",
        "HitNyaruS1(53) # 476597, boss debuff=0.8, rest defence=290-200*0.8=130\n",
        "#0:51 Nyaru S2\n",
        "statsRec.addAtkBuff(buff(6), 51, buffType='mag')\n",
        "#0:48 Akari UB\n",
        "statsRec.addAtkBuff(buff(24), 48, 18, 100, buffType='mag')\n",
        "HitNyaruUB(47)\n",
        "HitLunaS1(47,'nyaru')\n",
        "HitNyaruUB(47)\n",
        "HitNyaruS1(44) # 993747\n",
        "HitNyaruAttack(41) # 552476\n",
        "HitNyaruAttack(36) # 550076\n",
        "HitNyaruS1(33) # 991016\n",
        "HitNyaruUB(31)\n",
        "HitLunaS1(30,'nyaru')\n",
        "HitNyaruUB(30)\n",
        "HitNyaruAttack(28) # 573310\n",
        "HitNyaruS1(25) # 999999\n",
        "# Results\n",
        "STATS_NYARU_VIDEO = 15757521\n",
        "simDamageNyaru = sum(damageRec['nyaru'])\n",
        "errorTotal = (simDamageNyaru - STATS_NYARU_VIDEO) / float(STATS_NYARU_VIDEO)\n",
        "print('Simulation result (Nyaru total damage) : %d vs %d, error=%.2f%%' % (simDamageNyaru, STATS_NYARU_VIDEO, errorTotal*100))"
      ],
      "id": "Ofs-rgk4C3KR",
      "execution_count": 45,
      "outputs": [
        {
          "output_type": "stream",
          "text": [
            "Time 78s : Nyaru UB - [8036, 32144, 208936]\n",
            "Time 75s : Nyaru attack - 102138\n",
            "Time 75s : Nyaru UB - [19779, 79117, 514266]\n",
            "Time 72s : Nyaru S1 - 476681\n",
            "Time 70s : Nyaru UB - [41990, 167962, 972893]\n",
            "Time 67s : Nyaru attack - 445348\n",
            "Time 64s : Nyaru S1 - 914044\n",
            "Time 64s : Nyaru UB - [83141, 332565, 1114737]\n",
            "Time 60s : Nyaru attack - 700164\n",
            "Time 57s : Nyaru attack - 636554\n",
            "Time 53s : Nyaru S1 - 423555\n",
            "Time 47s : Nyaru UB - [56851, 227405, 1048530]\n",
            "Time 47s : Nyaru UB - [101698, 406792, 1144132]\n",
            "Time 44s : Nyaru S1 - 993747\n",
            "Time 41s : Nyaru attack - 552478\n",
            "Time 36s : Nyaru attack - 550078\n",
            "Time 33s : Nyaru S1 - 991017\n",
            "Time 31s : Nyaru UB - [101922, 407688, 1144442]\n",
            "Time 30s : Nyaru UB - [150753, 603011, 1188894]\n",
            "Time 28s : Nyaru attack - 572130\n",
            "Time 25s : Nyaru S1 - 999999\n",
            "Simulation result (Nyaru total damage) : 15694763 vs 15757521, error=-0.40%\n"
          ],
          "name": "stdout"
        }
      ]
    },
    {
      "cell_type": "markdown",
      "metadata": {
        "id": "r9vSDM4BKlot"
      },
      "source": [
        "### Clan Battle\n",
        "Timeline simulation & Utility computing tools"
      ],
      "id": "r9vSDM4BKlot"
    },
    {
      "cell_type": "code",
      "metadata": {
        "colab": {
          "base_uri": "https://localhost:8080/",
          "height": 332
        },
        "id": "YMUv2b2mPXTV",
        "outputId": "722f474f-0e94-4b30-936b-57bcff513a82"
      },
      "source": [
        "#Ref. 2021/05 E3 https://youtu.be/lK1vzGOJv6M\n",
        "statsRec = StatusRecorder(['yukari', 'ouka', 'lima', 'nyaru', 'luna'])\n",
        "luna = LUNA\n",
        "nyaru = NYARU\n",
        "nyaruInit = {'atk_mag':nyaru['attack'], 'crit_mag':nyaru['critical'], 'crit_damage_mag': 0}\n",
        "lunaInit =  {'atk_mag':luna['attack'], 'crit_mag':luna['critical'], 'crit_damage_mag': 0}\n",
        "damageRec = {}\n",
        "for name in statsRec.party:\n",
        "  damageRec[name] = []\n",
        "\n",
        "# Boss\n",
        "bossInit = {\n",
        "    'name': '2021/05 E3',\n",
        "    'lv': 210,\n",
        "    'def_phy': 100,\n",
        "    'def_mag': 100,\n",
        "    'UB_damage': 13.5 * (200 +1) + 4.0 * 45000,\n",
        "    'Attack_damage': 13.5 * (200 +1) + (2.0 + 0.02 * 200) * 45000}\n",
        "\n",
        "DEBUG_FLAG = True\n",
        "# Skills\n",
        "BuffOukaS1 = lambda x : statsRec.addAtkBuff(buff(16), timestamp=x, duration=12, buffCritical=75, buffType='mag', target='all')\n",
        "BuffNyaruS2 = lambda x: statsRec.addAtkBuff(buff(6), timestamp=x, buffType='mag', target='all')\n",
        "DebuffOukaS2 = lambda x: statsRec.update(-buff(0.6), x, 12, 'def_mag', 'boss')\n",
        "# Luna\n",
        "BuffLunaS1 = lambda x : statsRec.addAtkBuff(buff(7.5), timestamp=x, buffCritical=100, buffType='mag', target='nyaru')\n",
        "COUNTER_LunaFriends = 5\n",
        "def HitLunaUB(timestamp, debug=False):\n",
        "  charaNow = statsRec.getStatus(lunaInit, 'luna', timestamp)\n",
        "  bossNow = statsRec.getStatus(bossInit, 'boss', timestamp)\n",
        "  hits = LunaUB(charaNow['atk_mag'], bossNow['def_mag'], charaNow['crit_mag'], COUNTER_LunaFriends, charaNow['crit_damage_mag'], enemyLv=bossNow['lv'])\n",
        "  if(debug or DEBUG_FLAG):\n",
        "    print('Time ' + repr(timestamp) + 's : Luna attack - ' +repr(hits))\n",
        "  damageRec['luna'].append(hits)\n",
        "  return hits\n",
        "def HitLunaAttack(timestamp, debug=False):\n",
        "  charaNow = statsRec.getStatus(lunaInit, 'luna', timestamp)\n",
        "  bossNow = statsRec.getStatus(bossInit, 'boss', timestamp)\n",
        "  hits = critical_damage(charaNow['atk_mag'],\n",
        "                         critical_rate(charaNow['crit_mag'], bossNow['lv']), charaNow['crit_damage_mag'], defense = bossNow['def_mag'])\n",
        "  if(debug or DEBUG_FLAG):\n",
        "    print('Time ' + repr(timestamp) + 's : Luna attack - ' +repr(hits))\n",
        "  damageRec['luna'].append(hits)\n",
        "  return hits\n",
        "def HitLunaS2(timestamp, debug=False):\n",
        "  charaNow = statsRec.getStatus(lunaInit, 'luna', timestamp)\n",
        "  bossNow = statsRec.getStatus(bossInit, 'boss', timestamp)\n",
        "  hits = LunaS2(charaNow['atk_mag'], bossNow['def_mag'], charaNow['crit_mag'], COUNTER_LunaFriends, charaNow['crit_damage_mag'], enemyLv=bossNow['lv'])\n",
        "  if(debug or DEBUG_FLAG):\n",
        "    print('Time ' + repr(timestamp) + 's : Luna S2 - ' +repr(hits))\n",
        "  damageRec['luna'].append(hits)\n",
        "  return hits\n",
        "\n",
        "# HP check\n",
        "nyarruAttack = nyaru['attack'] + 1150000 * NYARU_UB_BUFF_COEFF * 2\n",
        "nyaruField = nyarruAttack * 0.08 + buff(3)\n",
        "print('No damage at 0:31 boss UB need physics defence > ', (bossInit['UB_damage'] / nyaruField - 1) * 100)\n",
        "\n",
        "# Timeline\n",
        "timelineBeta = [\n",
        "            (83, BuffNyaruS2), (81.5, DebuffOukaS2), (78, HitNyaruS1), (78, BuffLunaS1), (78, BuffOukaS1),\n",
        "            (78, HitNyaruUB), (74, HitNyaruAttack), (74, HitLunaAttack),\n",
        "            (74, HitNyaruUB), (72, HitNyaruS1), (71, BuffLunaS1),\n",
        "            (71, HitNyaruUB), (68.5, DebuffOukaS2), (68, HitNyaruAttack), (67, HitLunaS2), (66, HitNyaruS1), (65, BuffLunaS1),\n",
        "            (65, HitNyaruUB), (62, BuffOukaS1), (62, HitLunaUB), (62, HitNyaruAttack), (59, HitLunaAttack), (59, HitNyaruAttack),\n",
        "            (59, HitNyaruUB), (56, HitLunaS2), (56, HitNyaruS1), (54, BuffNyaruS2), (53, HitLunaAttack), (51, BuffLunaS1),\n",
        "            (50, DebuffOukaS2), (49, HitNyaruAttack), (49, HitNyaruUB), (47, HitLunaAttack), (46, HitNyaruS1),\n",
        "              (43.5, HitLunaAttack), (43, BuffOukaS1), (42, HitNyaruAttack),\n",
        "            (40, HitNyaruUB), (40, HitLunaS2), (40, HitLunaUB), (39, HitNyaruAttack), (37, HitLunaAttack), (36, HitNyaruS1),\n",
        "            (34, DebuffOukaS2), (35, BuffLunaS1), (34, BuffNyaruS2), (34, HitNyaruUB), (31, HitLunaAttack), (31, HitNyaruAttack),\n",
        "              (28, BuffOukaS1), (28, HitLunaAttack), (28, HitNyaruS1),\n",
        "            (26, HitNyaruUB), (24, HitLunaS2), (24, HitNyaruAttack), (23, HitLunaUB), (21, HitNyaruAttack), (20, BuffLunaS1), \n",
        "              (20, DebuffOukaS2), (17, HitNyaruS1), (20, HitNyaruUB), (17, HitLunaAttack),\n",
        "            (17, HitNyaruUB), (14, HitLunaAttack), (14, HitNyaruAttack), (13, BuffOukaS1), (11, HitNyaruS1),\n",
        "            (10, HitNyaruUB), (10, HitLunaS2), (7, HitNyaruAttack), (7, HitLunaAttack), (5, DebuffOukaS2),  (4, BuffLunaS1), (4, HitNyaruAttack),\n",
        "            (4, HitNyaruUB), (4, HitLunaUB), (1, HitNyaruS1), (1, HitLunaAttack)\n",
        "]\n",
        "\n",
        "timelineVideo = [\n",
        "            (83, BuffNyaruS2), (81.5, DebuffOukaS2), (78, HitNyaruS1), (78, BuffLunaS1), (78, BuffOukaS1),\n",
        "            (78, HitNyaruUB), (74, HitNyaruAttack), (74, HitLunaAttack),\n",
        "            (74, HitNyaruUB), (72, HitNyaruS1), (71, BuffLunaS1),\n",
        "            (71, HitNyaruUB), (68.5, DebuffOukaS2), (68, HitNyaruAttack), (67, HitLunaS2), (66, HitNyaruS1), (65, BuffLunaS1),\n",
        "            (65, HitNyaruUB), (62, BuffOukaS1), (62, HitNyaruAttack), (61, HitLunaAttack), (59, HitNyaruAttack),\n",
        "            (59, HitNyaruUB), (58, HitLunaAttack), (57, HitLunaUB), (56, HitNyaruS1), (54, BuffNyaruS2), (54, HitLunaAttack), (51, BuffLunaS1),\n",
        "            (51, HitNyaruUB), (50, DebuffOukaS2), (49, HitNyaruAttack), (48, HitLunaAttack), (46, HitNyaruS1),\n",
        "              (44, HitLunaAttack), (43, BuffOukaS1), (42, HitNyaruAttack), (41, HitLunaS2),\n",
        "            (40, HitNyaruUB), (39, HitNyaruAttack), (38.5, HitLunaAttack), (36, HitNyaruS1), (35, BuffLunaS1),\n",
        "            (35, HitNyaruUB), (34, DebuffOukaS2), (34, BuffNyaruS2), (32, HitLunaAttack), (29, HitNyaruAttack),\n",
        "              (29, HitLunaAttack), (28, BuffOukaS1), (26, HitNyaruS1),\n",
        "            (26, HitNyaruUB), (26, HitLunaUB), (23, HitNyaruAttack), (23, HitLunaAttack), (20, BuffLunaS1), (20, HitNyaruAttack),\n",
        "            (20, HitNyaruUB), (20, DebuffOukaS2),  (17, HitNyaruS1), (17, HitLunaAttack), (15, BuffNyaruS2),\n",
        "              (14, HitLunaAttack), (12, BuffOukaS1), (10, HitLunaS2), (10, HitNyaruAttack),\n",
        "            (10, HitNyaruUB), (7, HitNyaruS1), (7, HitLunaAttack), (4, BuffLunaS1), (4, DebuffOukaS2), (3, HitNyaruAttack),\n",
        "            (3, HitNyaruUB), (3, HitLunaUB), (1, HitNyaruAttack), (1, HitLunaAttack)\n",
        "]\n",
        "\n",
        "DEBUG_FLAG = False\n",
        "histDamage = []\n",
        "for ev in range(0, 1000):\n",
        "  for action in timelineBeta:\n",
        "    action[1](action[0])\n",
        "  totalDamage = (sum(damageRec['nyaru']) + sum(damageRec['luna'])) / 10000. + 40\n",
        "  histDamage.append(totalDamage)\n",
        "  damageRec = {}\n",
        "  for name in statsRec.party:\n",
        "    damageRec[name] = []\n",
        "  statsRec.status_delta = []\n",
        "\n",
        "histDamageOriginal = []\n",
        "for ev in range(0, 1000):\n",
        "  for action in timelineVideo:\n",
        "    action[1](action[0])\n",
        "  totalDamage = (sum(damageRec['nyaru']) + sum(damageRec['luna'])) / 10000. + 40\n",
        "  histDamageOriginal.append(totalDamage)\n",
        "  damageRec = {}\n",
        "  for name in statsRec.party:\n",
        "    damageRec[name] = []\n",
        "  statsRec.status_delta = []\n",
        "\n",
        "fig, ax = plt.subplots()\n",
        "pltKwargs = dict(histtype='stepfilled', alpha=0.3, density=True, bins=range(2000, 3000, 20))\n",
        "plotBeta = plt.hist(histDamage, **pltKwargs, label='Beta TL')\n",
        "plotRaw = plt.hist(histDamageOriginal, **pltKwargs, label='Raw TL (from video')\n",
        "leg = ax.legend()\n",
        "plt.title('Damage simulation for 2015/05 E3')\n",
        "plt.ylabel('Prob. Density')\n",
        "plt.xlabel('Total damage / 1e4')"
      ],
      "id": "YMUv2b2mPXTV",
      "execution_count": 111,
      "outputs": [
        {
          "output_type": "stream",
          "text": [
            "No damage at 0:31 boss UB need physics defence >  699.3835532532988\n"
          ],
          "name": "stdout"
        },
        {
          "output_type": "execute_result",
          "data": {
            "text/plain": [
              "Text(0.5, 0, 'Total damage / 1e4')"
            ]
          },
          "metadata": {
            "tags": []
          },
          "execution_count": 111
        },
        {
          "output_type": "display_data",
          "data": {
            "image/png": "[encoded data removed]",
            "text/plain": [
              "<Figure size 432x288 with 1 Axes>"
            ]
          },
          "metadata": {
            "tags": [],
            "needs_background": "light"
          }
        }
      ]
    },
    {
      "cell_type": "code",
      "metadata": {
        "colab": {
          "base_uri": "https://localhost:8080/",
          "height": 314
        },
        "id": "8ZygLA-1FCdZ",
        "outputId": "55874fa3-6e05-47c4-fea8-779268631e62"
      },
      "source": [
        "fig, ax = plt.subplots()\n",
        "pltKwargs = dict(histtype='stepfilled', alpha=0.3, density=True, bins=range(2200, 3000, 20))\n",
        "plotBeta = plt.hist(histDamage, **pltKwargs, label='Beta TL')\n",
        "plotRaw = plt.hist(histDamageOriginal, **pltKwargs, label='Raw TL (from video)')\n",
        "leg = ax.legend()\n",
        "plt.title('Damage simulation for 2015/05 E3')\n",
        "plt.ylabel('Prob. Density')\n",
        "plt.xlabel('Total damage / 1e4')"
      ],
      "id": "8ZygLA-1FCdZ",
      "execution_count": 114,
      "outputs": [
        {
          "output_type": "execute_result",
          "data": {
            "text/plain": [
              "Text(0.5, 0, 'Total damage / 1e4')"
            ]
          },
          "metadata": {
            "tags": []
          },
          "execution_count": 114
        },
        {
          "output_type": "display_data",
          "data": {
            "image/png": "[encoded data removed]",
            "text/plain": [
              "<Figure size 432x288 with 1 Axes>"
            ]
          },
          "metadata": {
            "tags": [],
            "needs_background": "light"
          }
        }
      ]
    },
    {
      "cell_type": "markdown",
      "metadata": {
        "id": "M7zoFGE0lzyT"
      },
      "source": [
        "## Damage limit with log barrier\n",
        "After the Nyaru shock in the clan battle of 2020/01, Cygames decided to add a new limitation sign for all the bossed under clan battle mode. According to unpaced data from server, the mechanism is deployed with a simple logarithm for damage above threshold, so called **'log barrier**'.\n",
        "\n",
        "The logarithm can be manipulated with two parameters, threshold and attenuation coefficient. Latest value in 2021/04 is **850,000** and 100,000."
      ],
      "id": "M7zoFGE0lzyT"
    },
    {
      "cell_type": "markdown",
      "metadata": {
        "id": "xWzRxfAHlzyU"
      },
      "source": [
        "### Example: Kaya vs Wyvern (2nd phase) 2021/01\n",
        "[video](https://www.youtube.com/watch?v=DA6hy8W1RTQ) from たつきちゃん"
      ],
      "id": "xWzRxfAHlzyU"
    },
    {
      "cell_type": "code",
      "metadata": {
        "id": "vK3mXpOalzyU",
        "colab": {
          "base_uri": "https://localhost:8080/"
        },
        "outputId": "a2e6b05f-fbcd-4c47-8cb4-afc93cb49efa"
      },
      "source": [
        "eff_lv = 187\n",
        "kaya_attack = 17337\n",
        "damage_final = 856088\n",
        "buff_miren = (18+2.5) * (eff_lv +1)\n",
        "buff_self = (20 *2 + 72) * (1 + eff_lv)\n",
        "\n",
        "damage = (120 * (eff_lv +1 ) + 9.6 * (kaya_attack + buff_miren + buff_self)) *2\n",
        "print(int(damage), int(LogBarrier(damage)), int (damage_final))"
      ],
      "id": "vK3mXpOalzyU",
      "execution_count": null,
      "outputs": [
        {
          "output_type": "stream",
          "text": [
            "856262 856074 856088\n"
          ],
          "name": "stdout"
        }
      ]
    },
    {
      "cell_type": "markdown",
      "metadata": {
        "id": "Z9qItCDa_kN7"
      },
      "source": [
        "### UB with multi-hits\n",
        "The method for multi-hit UB is still unclear. Here I suppose the possible process: \n",
        "1.   compute original damage without critical\n",
        "2.   divide the orignal damage into hits\n",
        "3.   define critical flags for hits\n",
        "4.   sum the total damge and apply log barrier\n",
        "5.   get a ratio of the total damage before and after\n",
        "6.   apply the ratio to each hit"
      ],
      "id": "Z9qItCDa_kN7"
    },
    {
      "cell_type": "markdown",
      "metadata": {
        "id": "cAWZ8Zq4Axjz"
      },
      "source": [
        "### Example: working with digit barrier\n",
        "Another case is from the limitation of hit damage (digit barrier). If Nyaru get more than 320,000 buff, the last hit of UB would exceed it when critical. For Nuneka patterns, the required buff could be even lower, around 275,000. The buff corresponds to 2,850k and 2,450k damage of Nyaru UB in last 18s."
      ],
      "id": "cAWZ8Zq4Axjz"
    },
    {
      "cell_type": "code",
      "metadata": {
        "colab": {
          "base_uri": "https://localhost:8080/"
        },
        "id": "xA937lo2lzyV",
        "outputId": "2fe6f549-3a64-4dc6-e3ad-33d9eb448d9c"
      },
      "source": [
        "buffRaw = 320000\n",
        "damageRaw = nyaruUB(NYARU['attack']+320000 , NYARU['critical'], enemyLv=120, detail=True)\n",
        "print('Nyaru UB with ' + repr(buffRaw) + ' buff: ' +repr(damageRaw))\n",
        "print('> Last hit with critical: %d' % (damageRaw[1] * 2.0))\n",
        "print('> Buff required damage of Nyaru UB: ' + repr(int(buffRaw / NYARU_UB_BUFF_COEFF)))\n",
        "\n",
        "buffNuneka = 275000\n",
        "damageNuneka = nyaruUB(NYARU['attack']+buffNuneka , NYARU['critical'], criticalDamageBuff=0.15, enemyLv=120, detail=True)\n",
        "print('Nyaru UB with ' + repr(buffNuneka) + ' buff and Nuneka critical damage buff: ' + repr(damageNuneka))\n",
        "print('> Last hit with critical: %d' % (damageNuneka[1] * 2.0 * 1.15))\n",
        "print('> Buff required damage of Nyaru UB: ' + repr(int(buffNuneka / NYARU_UB_BUFF_COEFF)))"
      ],
      "id": "xA937lo2lzyV",
      "execution_count": null,
      "outputs": [
        {
          "output_type": "stream",
          "text": [
            "Nyaru UB with 320000 buff: [126262, 505049, 3272715.0]\n",
            "> Last hit with critical: 1010098\n",
            "> Buff required damage of Nyaru UB: 2844444\n",
            "Nyaru UB with 275000 buff and Nuneka critical damage buff: [109647, 438587, 3269691.0]\n",
            "> Last hit with critical: 1008750\n",
            "> Buff required damage of Nyaru UB: 2444444\n"
          ],
          "name": "stdout"
        }
      ]
    },
    {
      "cell_type": "markdown",
      "metadata": {
        "id": "40dJAI92FUT4"
      },
      "source": [
        "To verify the method for multi-hit UB, the data from [video](https://www.youtube.com/watch?v=VIWQDPDHeJY) by ハンマリォch. was extracted, which is Nyaru vs Minotaur (3rd phase).\n",
        "\n",
        "The UB damage of Nyara:\n",
        "\n",
        "*   1:22, 241310\n",
        "*   1:18, 535032\n",
        "*   1:14, 985206\n",
        "*   1:11, 1120470\n",
        "*   1:07, 1079101 (no debuff, 100 magical defence)\n",
        "*   0:59, 1191251\n",
        "\n"
      ],
      "id": "40dJAI92FUT4"
    },
    {
      "cell_type": "code",
      "metadata": {
        "colab": {
          "base_uri": "https://localhost:8080/"
        },
        "id": "XABpbXFx5hcM",
        "outputId": "1e10556a-9d98-4339-992d-9477371efba8"
      },
      "source": [
        "# Rest time (seconds) and total UB damage\n",
        "exampleNyaruUBDmage = [(82, 241310), (78, 535032), (74, 985206), (71, 1120470), (67, 1079101), (59, 1191251)]\n",
        "\n",
        "# First UB\n",
        "otherBuff = (18. + 6. ) * (LV_MAX + 1)\n",
        "nextUBDamage = nyaruUB(NYARU_4['attack'] - 25 + otherBuff, NYARU['critical'], enemyLv=120, detail=True)\n",
        "print(nextUBDamage)\n",
        "\n",
        "# Test A: UB at 1:07\n",
        "## Neneka's debuff is missing, and the defence is 100, so damage is halved.\n",
        "ubDamageA = sum(x[1] for x in exampleNyaruUBDmage[0:4])\n",
        "# buff from Saren (S1, 1:24; S2, 1:15), Nyaru(S2, 1:22/1:12) and Luna (S1, 1:18/1:11/1:07)\n",
        "otherBuff = (18. + 2.5 + 6. *2 + 7.5 *3) * (LV_MAX + 1)\n",
        "nextUBDamage = nyaruUB(NYARU_4['attack'] + ubDamageA * NYARU_UB_BUFF_COEFF  + otherBuff, \n",
        "                       NYARU_4['critical'], enemyLv=120, detail=True)\n",
        "print('Total damage: ' + repr(nextUBDamage) + ', damge after logarithm :  ' + repr(round(LogBarrier(nextUBDamage[2] / 2.))))\n",
        "nextUBDamageWithoutDigitBarrier = nextUBDamage[0] * 2 * 9 + nextUBDamage[1] * 2\n",
        "print( 'Damage w/o digit barrier: %d, after logarithm : %d' % (nextUBDamageWithoutDigitBarrier , round( LogBarrier(nextUBDamageWithoutDigitBarrier /2. ))))\n",
        "\n",
        "# Test B: UB at 0:59\n",
        "# buff from Saren (S2, 1:02; UB, 1:05), Neneka(UB, 1:06) and Luna (S1, 1:11/1:07)\n",
        "otherBuff = (2.5 + 10.5 + 28 + 7.5 *2 ) * (LV_MAX + 1)\n",
        "ubDamageB = sum(x[1] for x in exampleNyaruUBDmage[2:5])\n",
        "nextUBDamage = nyaruUB(NYARU_4['attack'] + ubDamageB * NYARU_UB_BUFF_COEFF  + otherBuff, \n",
        "                       NYARU_4['critical'], enemyLv=120, detail=True)\n",
        "print('Total damage: ' + repr(nextUBDamage) + ', damge after logarithm :  ' + repr(round(LogBarrier(nextUBDamage[2]))))\n",
        "nextUBDamageWithoutDigitBarrier = nextUBDamage[0] * 2 * 9 + nextUBDamage[1] * 2\n",
        "print( 'Damage w/o digit barrier: %d, after logarithm : %d' % (nextUBDamageWithoutDigitBarrier , round( LogBarrier(nextUBDamageWithoutDigitBarrier ))))"
      ],
      "id": "XABpbXFx5hcM",
      "execution_count": null,
      "outputs": [
        {
          "output_type": "stream",
          "text": [
            "[9572, 38288, 248872.0]\n",
            "Total damage: [131585, 526340, 3368529.0], damge after logarithm :  1073459\n",
            "Damage w/o digit barrier: 3421210, after logarithm : 1076239\n",
            "Total damage: [144235, 576940, 3596229.0], damge after logarithm :  1184858\n",
            "Damage w/o digit barrier: 3750110, after logarithm : 1190123\n"
          ],
          "name": "stdout"
        }
      ]
    },
    {
      "cell_type": "markdown",
      "metadata": {
        "id": "rpUxNEq70SNR"
      },
      "source": [
        "## EX4 Dungeon - Nyaru patterns\n",
        "\n",
        "Basic Strategy\n",
        "1. Kill BLACK boss at 1:14 (before first buff clear action)\n",
        "2. Hit WHITE boss under 50% during 1:02-1:00 (actions to clear buff)\n",
        "\n",
        "The next action to clear buff is 0:46-0:43, and all the buff would be cleared at the end of damage hits, around 0:43-0:42. So the power of Nyaru-Luna patterns is unlimited in the first 46 seconds.\n",
        "\n",
        "HP of both boss should be adjusted to achive the above timeline. Upper limit is constrained by the maximum damage of Nyaru with 100% criticals, while lower limit is set to avoid reaching the HP target before the check point (for BLACK boss is more loose than WHITE). Considering the wide gap of level between boss and player (lv. 400  and lv. 196), the critical rate of Nyaru is around 30% to 40%. Therefore, the damage distribution is necessary to select proper range for HP adjusting.\n"
      ],
      "id": "rpUxNEq70SNR"
    },
    {
      "cell_type": "markdown",
      "metadata": {
        "id": "TDoBTCTy60cY"
      },
      "source": [
        "### 1. W-Neneka pattern\n",
        "Neneka (New year), Saren (Summer), Neneka, Nyaru, Luna\n"
      ],
      "id": "TDoBTCTy60cY"
    },
    {
      "cell_type": "code",
      "metadata": {
        "id": "5GOJXIPo7Y7e",
        "colab": {
          "base_uri": "https://localhost:8080/",
          "height": 516
        },
        "outputId": "be32bbd7-dfef-455b-83c2-ac892aee901a"
      },
      "source": [
        "# Time: 1:23\n",
        "ex4start = lambda x : nyaruUB(NYARU['attack'] + 19756, NYARU['critical']+180,0.15,400, detail=x)\n",
        "print(ex4start(True))\n",
        "histUB = []\n",
        "nyaruUB_ex4 = lambda x,y,z : nyaruUB(NYARU['attack'] + x, NYARU['critical']+y,z,400, detail=False)\n",
        "nyaruUB_ex4WHITE = lambda x,y,z : nyaruUB(NYARU['attack'] + x, NYARU['critical']+y,z,400, detail=False, magic_defense=80)\n",
        "DEBUG_FLAG = True\n",
        "LUNA_EX4 = LUNA_3\n",
        "for ev in range(0,100000):\n",
        "  # UB time: 1:23, 1:21, 1:21, 1:15, 1:14, 1:11, 1:11/1:08\n",
        "  # Nyaru Skill: S2, S1/x, A, S1, S2/x, A, S1, A, A, S1\n",
        "  # Array: UB/1:23, UB/1:21, UB/1:21, attack, S1, UB/1:15, UB/1:14, UB/1:11, UB/1:11or1:08\n",
        "  nyaruDamage = [0] * 11\n",
        "  #1:25 before Nuneka\n",
        "  otherBuff = (28+10.5) * (LV_MAX +1) \n",
        "  nunekaAttack = 7168 + 240 + 15 * LV_MAX # 5star, Rand12 with TP equiment ONLY\n",
        "  nunekaBuff = 10.5 * (LV_MAX + 1) + (nunekaAttack + otherBuff) * 0.08\n",
        "  nunekaCriticalBuff = 30 + 0.003 * (nunekaAttack + otherBuff)\n",
        "  otherCriticalBuff = nunekaCriticalBuff\n",
        "  otherCriticalDamageBuff = 0.1 # Nuneka UB\n",
        "  #1:23 Nyaru 1st UB\n",
        "  otherBuff +=  nunekaBuff + (18 + 6) * (LV_MAX +1) #Saren S1 (until 1:03) + Nyaru S2 (until 1:11)\n",
        "  nyaruBuff = otherBuff + 20. * (LV_MAX +1) # Nuneka S1 (until 1:11)\n",
        "  nyaruCriticalBuff = nunekaCriticalBuff + 100 # Nuneka S1 (until 1:11)\n",
        "  nyaruCriticalDamageBuff = otherCriticalDamageBuff + 0.05 # Nuneka S1 (until 1:11)\n",
        "  ubDamage = nyaruUB_ex4(nyaruBuff, nyaruCriticalBuff, nyaruCriticalDamageBuff)\n",
        "  nyaruBuff += ubDamage * NYARU_UB_BUFF_COEFF # until 1:05\n",
        "  nyaruDamage[0] = ubDamage\n",
        "    #DEBUG\n",
        "  if(DEBUG_FLAG):\n",
        "    print('Nyaru start UB : ' + repr(nyaruUB(NYARU['attack'] + nyaruBuff, NYARU['critical']+180,0.15,400,detail=True)))\n",
        "  # 1:22 - Nuneka 2nd UB\n",
        "  nunekaBuff = 10.5 * (LV_MAX + 1) + (nunekaAttack + otherBuff) * 0.08\n",
        "  nunekaCriticalBuff = 30 + 0.003 * (nunekaAttack + otherBuff)\n",
        "  otherBuff += nunekaBuff\n",
        "  otherCriticalBuff += nunekaCriticalBuff\n",
        "  otherCriticalDamageBuff += 0.1\n",
        "  #1:21 - Nyaru 2nd/3rd UB by Luna S1\n",
        "  nyaruBuff += 7.5 * (LV_MAX +1)\n",
        "  nyaruCriticalBuff += nunekaCriticalBuff + 100\n",
        "  nyaruCriticalDamageBuff += 0.1\n",
        "    #2nd UB\n",
        "  ubDamage = nyaruUB_ex4(nyaruBuff, nyaruCriticalBuff, nyaruCriticalDamageBuff)\n",
        "  nyaruBuff += ubDamage * NYARU_UB_BUFF_COEFF\n",
        "  nyaruDamage[1] = ubDamage\n",
        "    # 3rd UB\n",
        "  ubDamage = nyaruUB_ex4(nyaruBuff, nyaruCriticalBuff, nyaruCriticalDamageBuff)\n",
        "  nyaruBuff += ubDamage * NYARU_UB_BUFF_COEFF\n",
        "  nyaruDamage[2] = ubDamage\n",
        "    # Luna damage\n",
        "  nyaruHurt = LunaS1(LUNA_EX4['attack'] + otherBuff, NYARU['defence_magic'], LUNA_EX4['critical']+otherCriticalBuff, otherCriticalDamageBuff)\n",
        "  lunaCriticalRate = critical_rate(LUNA_EX4['critical'] + otherCriticalBuff, LV_MAX)\n",
        "  if(DEBUG_FLAG):\n",
        "    print('Luna critical rate at 1:21 : ' + repr(lunaCriticalRate))\n",
        "    print('Luna hit Nyaru : ' + repr(nyaruHurt))\n",
        "  # 1:18 Nyaru Attack\n",
        "  nyaruDamage[3] = critical_damage(\n",
        "      NYARU['attack'] + nyaruBuff,\n",
        "      critical_rate(NYARU['critical'] + nyaruCriticalBuff, 400),\n",
        "      nyaruCriticalDamageBuff )\n",
        "  # Nyaru HP check\n",
        "  nyaruHpAbsorbRate = 6. / (100 + 400 + 6)\n",
        "  if sum(nyaruDamage[1:4]) * nyaruHpAbsorbRate < nyaruHurt:\n",
        "    histUB.append(nyaruDamage)\n",
        "    DEBUG_FLAG = False\n",
        "    continue\n",
        "  # 1:15 Nyaru S1\n",
        "  nyaruDamage[4] =NyaruS1(NYARU['attack'] + nyaruBuff, 0, NYARU['critical'] + nyaruCriticalBuff, nyaruCriticalDamageBuff, 400)\n",
        "  nyaruDamageWHITE = NyaruS1(NYARU['attack'] + nyaruBuff, 80, NYARU['critical'] + nyaruCriticalBuff, nyaruCriticalDamageBuff, 400)\n",
        "  nyaruDamageWHITE += NyaruS1(NYARU['attack'] + nyaruBuff, 50, NYARU['critical'] + nyaruCriticalBuff, nyaruCriticalDamageBuff, 400)\n",
        "  nyaruDamageWHITE += NyaruS1(NYARU['attack'] + nyaruBuff, 50, NYARU['critical'] + nyaruCriticalBuff, nyaruCriticalDamageBuff, 400)\n",
        "  # 1:15 Saren S2\n",
        "  otherBuff += 2.5 * (LV_MAX + 1)\n",
        "  otherCriticalBuff += 20\n",
        "  nyaruBuff += 2.5 * (LV_MAX + 1)\n",
        "  nyaruCriticalBuff += 20\n",
        "  # 1:14 Nyaru 4/5th UB by Luna S1\n",
        "    # Luna S1\n",
        "  nyaruHurt = LunaS1(LUNA_EX4['attack'] + otherBuff, NYARU['defence_magic'], LUNA_EX4['critical']+otherCriticalBuff, otherCriticalDamageBuff)\n",
        "  if(DEBUG_FLAG):\n",
        "    lunaCriticalRate = critical_rate(LUNA_EX4['critical'] + otherCriticalBuff, LV_MAX)\n",
        "    print('Luna critical rate at 1:15 : ' + repr(lunaCriticalRate))\n",
        "    print('Luna hit Nyaru : ' + repr(nyaruHurt))\n",
        "  nyaruBuff += 7.5 * (LV_MAX +1)\n",
        "  nyaruCriticalBuff += 100\n",
        "    # Nyaru 4th UB\n",
        "  ubDamage = nyaruUB_ex4(nyaruBuff, nyaruCriticalBuff, nyaruCriticalDamageBuff)\n",
        "  nyaruBuff += ubDamage * NYARU_UB_BUFF_COEFF\n",
        "  nyaruDamage[5] = ubDamage\n",
        "    # Nyaru 5th UB (TP check)\n",
        "  nyarutpBoost = 1 + NYARU['tp_boost'] / 100. + 0.15 + 0.05 # Nenek UB + Nuneka UB x2\n",
        "  nyaruTP = round(90 * nyarutpBoost) * 2 + 170\n",
        "  if(nyaruHurt < (1000 - nyaruTP) / 500. / nyarutpBoost * NYARU['hp']):\n",
        "    histUB.append(nyaruDamage)\n",
        "    DEBUG_FLAG = False\n",
        "    continue\n",
        "  ubDamage = nyaruUB_ex4(nyaruBuff, nyaruCriticalBuff, nyaruCriticalDamageBuff)\n",
        "  nyaruBuff += ubDamage * NYARU_UB_BUFF_COEFF\n",
        "  nyaruDamage[6] = ubDamage\n",
        "  # Kill BLACK and MOVE to WHITE\n",
        "  # 1:14 Saren UB\n",
        "  otherBuff += 10.5 * (LV_MAX + 1)\n",
        "  nyaruBuff += 10.5 * (LV_MAX + 1)\n",
        "  # 1:14 Nuneka S1\n",
        "  nyaruBuff += 20. * (LV_MAX +1)\n",
        "  nyaruCriticalBuff += 100\n",
        "  nyaruCriticalDamageBuff += 0.05\n",
        "  # 1:13 Buff check - Saren UB at 1:25\n",
        "  otherBuff -= 10.5 * (LV_MAX + 1)\n",
        "  nyaruBuff -= 10.5 * (LV_MAX + 1)  \n",
        "  # 1:12 Nyaru Attack to WHITE + 1:15 S1 AOE to 3 targets\n",
        "  nyaruDamage[7] = nyaruDamageWHITE + critical_damage(NYARU['attack'] + nyaruBuff, critical_rate(NYARU['critical'] + nyaruCriticalBuff, 400), nyaruCriticalDamageBuff, 2.0, 80)\n",
        "  # 1:11 Luna S1\n",
        "  nyaruHurt = LunaS1(LUNA_EX4['attack'] + otherBuff, NYARU['defence_magic'], LUNA_EX4['critical']+otherCriticalBuff, otherCriticalDamageBuff)\n",
        "  if(nyaruHurt > NYARU['hp'] or DEBUG_FLAG):\n",
        "    print('> TL check - Nyaru killed by Luna at 1:11 (%d, %d)' % (nyaruHurt, NYARU['hp']))\n",
        "  if(DEBUG_FLAG):\n",
        "    lunaCriticalRate = critical_rate(LUNA_EX4['critical'] + otherCriticalBuff, LV_MAX)\n",
        "    print('Luna critical rate at 1:11 : ' + repr(lunaCriticalRate))\n",
        "    print('Luna hit Nyaru : ' + repr(nyaruHurt))\n",
        "  nyaruBuff += 7.5 * (LV_MAX +1)\n",
        "  nyaruCriticalBuff += 100\n",
        "  # 1:11 Nyaru 6th UB\n",
        "  ubDamage = nyaruUB_ex4WHITE(nyaruBuff, nyaruCriticalBuff, nyaruCriticalDamageBuff)\n",
        "  nyaruBuff += ubDamage * NYARU_UB_BUFF_COEFF\n",
        "  nyaruDamage[8] = ubDamage\n",
        "  # 1:11 Neneka + Nuneka UB\n",
        "  otherBuff += 28 * (LV_MAX + 1)\n",
        "  nyaruBuff += 28 * (LV_MAX + 1)\n",
        "  nunekaBuff = 10.5 * (LV_MAX +1) + (nunekaAttack +otherBuff) * 0.08\n",
        "  nunekaCriticalBuff += 30 + (nunekaAttack +otherBuff) * 0.003\n",
        "  otherBuff += nunekaBuff\n",
        "  otherCriticalBuff += nunekaCriticalBuff\n",
        "  otherCriticalDamageBuff += 0.1\n",
        "  nyaruBuff += nunekaBuff\n",
        "  nyaruCriticalBuff += nunekaCriticalBuff\n",
        "  nyaruCriticalDamageBuff += 0.1\n",
        "  # 1:11 Nyaru 7th UB\n",
        "  ubDamage = nyaruUB_ex4WHITE(nyaruBuff, nyaruCriticalBuff, nyaruCriticalDamageBuff)\n",
        "  nyaruDamage[9] = ubDamage\n",
        "  # 1:08 Nyaru 7th UB (IF)\n",
        "    #Buff check (1:23 Nuneka, 1:21 Luna)\n",
        "  nyaruBuff -= 20. * (LV_MAX +1)\n",
        "  nyaruCriticalBuff -= 100\n",
        "  nyaruCriticalDamageBuff -= 0.05\n",
        "  nyaruBuff -= 7.5 * (LV_MAX +1)\n",
        "  nyaruCriticalBuff -= 100\n",
        "  ubDamage = nyaruUB_ex4(nyaruBuff, nyaruCriticalBuff, nyaruCriticalDamageBuff)\n",
        "  nyaruDamage[10] = ubDamage\n",
        "  # END\n",
        "  histUB.append(nyaruDamage)\n",
        "  DEBUG_FLAG = False\n",
        "\n",
        "\n",
        "hurtFlag = [int(bool(x[4])) for x in histUB]\n",
        "counts, binedges = np.histogram(hurtFlag, bins=[-0.5,0.5,1.5])\n",
        "print(' > TL check - Nyaru HP at 1:18 [FAIL, PASS] =[%d vs %d]' % (counts[0], counts[1]))\n",
        "\n",
        "successFlag = [int(bool(x[6])) for x in histUB]\n",
        "counts, binedges = np.histogram(successFlag, bins=[-0.5,0.5,1.5])\n",
        "print(' > TL check - Nyaru TP at 1:14 [FAIL, PASS] =[%d vs %d]' % (counts[0], counts[1]))\n",
        "\n",
        "fig, ax = plt.subplots()\n",
        "damageSumBefore115 = [ sum(x[0:5])/10000. for x in histUB if x[4] > 0]\n",
        "damageSum115 = [ sum(x[0:6])/10000. for x in histUB if x[5] > 0]\n",
        "damageSum114 = [ sum(x[0:7])/10000. for x in histUB if x[6] > 0]\n",
        "damageSumWHITE = [(x[7]+x[8]+x[9])/10000 + 500 for x in histUB if x[7] > 0]\n",
        "damageSumWHITE_if = [(x[7]+x[8]+x[10])/10000 + 500 for x in histUB if x[7] > 0]\n",
        "pltKwargs = dict(histtype='stepfilled', alpha=0.3, density=True, bins=range(100,2500,10))\n",
        "histBefore115 = plt.hist(damageSumBefore115, **pltKwargs, label='Nyaru damage after 1:15 S1')\n",
        "hist115 = plt.hist(damageSum115, **pltKwargs, label='+ 1:15 UB')\n",
        "hist114 = plt.hist(damageSum114, **pltKwargs, label='+ 1:14 UB')\n",
        "histWHITE = plt.hist(damageSumWHITE, **pltKwargs, label='Damage to WHITE until 1:00')\n",
        "histWHITE_if = plt.hist(damageSumWHITE_if, **pltKwargs, label='Damage to WHITE until 1:00 (IF)')\n",
        "leg = ax.legend()\n",
        "plt.title('EX4 Nyaru total damge simulation (W-Neneka pattern)')\n",
        "plt.ylabel('Prob. Density')\n",
        "plt.xlabel('Nyaru total damage / 1e4')"
      ],
      "id": "5GOJXIPo7Y7e",
      "execution_count": 96,
      "outputs": [
        {
          "output_type": "stream",
          "text": [
            "[15403, 61611, 260310]\n",
            "Nyaru start UB : [29749, 118996, 773469]\n",
            "Luna critical rate at 1:21 : 0.7628001600000002\n",
            "Luna hit Nyaru : 22783\n",
            "Luna critical rate at 1:15 : 0.7728001600000001\n",
            "Luna hit Nyaru : 23084\n",
            "> TL check - Nyaru killed by Luna at 1:11 (9619, 23855)\n",
            "Luna critical rate at 1:11 : 0.7728001600000001\n",
            "Luna hit Nyaru : 9619\n",
            " > TL check - Nyaru HP at 1:18 [FAIL, PASS] =[10925 vs 89075]\n",
            " > TL check - Nyaru TP at 1:14 [FAIL, PASS] =[31290 vs 68710]\n"
          ],
          "name": "stdout"
        },
        {
          "output_type": "execute_result",
          "data": {
            "text/plain": [
              "Text(0.5, 0, 'Nyaru total damage / 1e4')"
            ]
          },
          "metadata": {
            "tags": []
          },
          "execution_count": 96
        },
        {
          "output_type": "display_data",
          "data": {
            "image/png": "[encoded data removed]",
            "text/plain": [
              "<Figure size 432x288 with 1 Axes>"
            ]
          },
          "metadata": {
            "tags": [],
            "needs_background": "light"
          }
        }
      ]
    },
    {
      "cell_type": "code",
      "metadata": {
        "colab": {
          "base_uri": "https://localhost:8080/",
          "height": 295
        },
        "id": "s4izl6LqXOhi",
        "outputId": "8a29ddd0-96b5-4ab1-ebd2-e616e795b1cd"
      },
      "source": [
        "# Optimize plots\n",
        "fig, ax = plt.subplots()\n",
        "pltKwargs = dict(histtype='stepfilled', alpha=0.3, density=True, bins=range(100,2500,10))\n",
        "histBefore115 = plt.hist(damageSumBefore115, **pltKwargs, label='Nyaru damage after 1:15 S1')\n",
        "hist115 = plt.hist(damageSum115, **pltKwargs, label='+ 1:15 UB')\n",
        "hist114 = plt.hist(damageSum114, **pltKwargs, label='+ 1:14 UB')\n",
        "histWHITE = plt.hist(damageSumWHITE, **pltKwargs, label='Damage to WHITE until 1:00')\n",
        "histWHITE_if = plt.hist(damageSumWHITE_if, **pltKwargs, label='Damage to WHITE until 1:00 (IF)')\n",
        "leg = ax.legend()\n",
        "plt.title('EX4 Nyaru total damge simulation (W-Neneka pattern)')\n",
        "plt.ylabel('Prob. Density')\n",
        "plt.xlabel('Nyaru total damage / 1e4')\n",
        "plt.savefig('pcr_ex4.png')"
      ],
      "id": "s4izl6LqXOhi",
      "execution_count": 17,
      "outputs": [
        {
          "output_type": "display_data",
          "data": {
            "image/png": "[encoded data removed]",
            "text/plain": [
              "<Figure size 432x288 with 1 Axes>"
            ]
          },
          "metadata": {
            "tags": [],
            "needs_background": "light"
          }
        }
      ]
    },
    {
      "cell_type": "code",
      "metadata": {
        "colab": {
          "base_uri": "https://localhost:8080/"
        },
        "id": "cGihuIaz5_p-",
        "outputId": "03db50f2-a751-4e9f-89e9-650a521a06f8"
      },
      "source": [
        "# Damage and buff check\n",
        "print(LunaS1(LUNA_4['attack'] + 6 *(LV_MAX +1), NYARU['defence_magic'], LUNA_4['critical'] ))\n",
        "print(nyaruUB(NYARU['attack'] + 19756, NYARU['critical']+180,0.15,enemyLv=400, lv=LV_MAX,detail=True, magic_defense=0))\n",
        "print((nunekaAttack + (10.5 + 28 + 10.5 + 2.5) *(LV_MAX+1) +1300) * 0.003)\n",
        "print(critical_rate(LUNA_4['critical'] + 30 + 70, LV_MAX))"
      ],
      "id": "cGihuIaz5_p-",
      "execution_count": 18,
      "outputs": [
        {
          "output_type": "stream",
          "text": [
            "9695\n",
            "[15403, 61611, 240286]\n",
            "65.979\n",
            "0.7160000000000001\n"
          ],
          "name": "stdout"
        }
      ]
    },
    {
      "cell_type": "code",
      "metadata": {
        "colab": {
          "base_uri": "https://localhost:8080/"
        },
        "id": "eqyMCcQUk8tS",
        "outputId": "92d20d60-2549-41c0-c049-13df32c71758"
      },
      "source": [
        "# HP absord check\n",
        "print(14808/nyaruHpAbsorbRate)\n",
        "print(14808./1249290)\n",
        "print(3367./294031)"
      ],
      "id": "eqyMCcQUk8tS",
      "execution_count": 19,
      "outputs": [
        {
          "output_type": "stream",
          "text": [
            "1248808.0\n",
            "0.011853132579305046\n",
            "0.011451173515717731\n"
          ],
          "name": "stdout"
        }
      ]
    },
    {
      "cell_type": "code",
      "metadata": {
        "colab": {
          "base_uri": "https://localhost:8080/"
        },
        "id": "JaAhKDyqPJCD",
        "outputId": "c9fdd4b3-b0b0-4597-e106-35e6ca3f8a8f"
      },
      "source": [
        "# Luna attack check (if crtical to kill Nyaru)\n",
        "LunaAttack115 = round(23115 / 2.4 * 3.88)\n",
        "overHP = (LunaAttack115 - (LUNA_4['attack'] - LUNA_3['attack']) + 6 * (LV_MAX +1))/ 3.88 * 2.4 - NYARU['hp']\n",
        "print(overHP + NYARU['hp'])\n",
        "LUNA_4['attack'] - LUNA_3['attack']\n",
        "testOverHP = 23656 - NYARU['hp']\n",
        "13873 - (testOverHP * 3.88 / 2.4) "
      ],
      "id": "JaAhKDyqPJCD",
      "execution_count": 20,
      "outputs": [
        {
          "output_type": "stream",
          "text": [
            "23502.061855670105\n"
          ],
          "name": "stdout"
        },
        {
          "output_type": "execute_result",
          "data": {
            "text/plain": [
              "14194.716666666667"
            ]
          },
          "metadata": {
            "tags": []
          },
          "execution_count": 20
        }
      ]
    },
    {
      "cell_type": "markdown",
      "metadata": {
        "id": "yLb_6vS57YSr"
      },
      "source": [
        "#### Nyaru TP check\n",
        "* 1:15 Luna MUST hit **CRITICAL** at Nyaru\n",
        "* 1:11 PASS with NO critical\n",
        "* 1:00/0:58 WHITE perform All hit to Nyaru (if not, still OK at 0:57 with Luna S1)\n",
        "* 0:44 Luna MUST hit **CRITICAL** + **1 hits** from WHITE boss\n",
        "\n",
        "*ISSUE*: Nyaru hurt from WHITE at 0:44 is 1733/hit but not 1922 (calculated from data). IF SLv of Main 4 (WHITE) should be 250 not 500?\n",
        "\n",
        "**SOLVED**: Buff clear at 1:00 was cancelled as well as the self buff."
      ],
      "id": "yLb_6vS57YSr"
    },
    {
      "cell_type": "code",
      "metadata": {
        "colab": {
          "base_uri": "https://localhost:8080/"
        },
        "id": "UtqOto7LsQV6",
        "outputId": "17d3af1b-5e76-45ec-c4cd-77db8788157c"
      },
      "source": [
        "# Nyaru TP check\n",
        "# 1:15\n",
        "tpBoost = 15 + 5 *2 + NYARU['tp_boost']\n",
        "hurtNyaru = hurt_for_UB(2, tpBoost, NYARU['tp_retain'], NYARU['hp'], NYARU['defence_magic'], 0)\n",
        "print('Damage required at 1:15 - %d' % hurtNyaru)\n",
        "# 1:11\n",
        "tpBoost = 15 + 5*2 + NYARU['tp_boost']\n",
        "hurtNyaru = hurt_for_UB(1, tpBoost, NYARU['tp_retain'], NYARU['hp'], NYARU['defence_magic'], \n",
        "                        kill_tp(tpBoost) + nuneka_tp(tpBoost))\n",
        "print('Damage required at 1:11 - %d' % hurtNyaru)\n",
        "# 1:00\n",
        "tpBoost = 15 + 5 + NYARU['tp_boost']\n",
        "tpBoost108 = 15 * 2 + 5*3 + NYARU['tp_boost']\n",
        "tpBoost106 = 15 + 5*2 + NYARU['tp_boost']\n",
        "hurtNyaru = hurt_for_UB(3, tpBoost, NYARU['tp_retain'], NYARU['hp'], NYARU['defence_magic'],\n",
        "                        nuneka_tp(tpBoost108) +action_tp(tpBoost106) )\n",
        "print('Damage required at 1:00 - %d' % hurtNyaru)\n",
        "print('> Nuneka TP boost at 1:07 = %d'  % nuneka_tp(tpBoost108))\n",
        "whiteS1 = 100 + 50 * 400 + (0.1 + 0.0005 * 400) * 5000\n",
        "print('> Nyaru hurt per hit from WHITE S1 - %d' % (whiteS1/4/(1+NYARU['defence_magic']/100.)))\n",
        "print('> WHITE damage at 1:00 - %d, %d, %d, %d' % (whiteS1/4, whiteS1/2, whiteS1*3/4, whiteS1))\n",
        "# 0:44\n",
        "tpBoost = 15 + 5 + NYARU['tp_boost']\n",
        "hurtNyaru = hurt_for_UB(3, tpBoost, NYARU['tp_retain'], NYARU['hp'], NYARU['defence_magic'], 0)\n",
        "print('Damage required at 0:44 - %d' % hurtNyaru)\n",
        "whiteS1 = 100 + 50 * 400 + (0.1 + 0.0005 * 400) * (5000 +1 + 40 *500)\n",
        "print('> Nyaru hurt per hit from WHITE S1 - %d' % (whiteS1/4/(1+NYARU['defence_magic']/100.)))\n",
        "print('> WHITE damage at 0:44 - %d, %d, %d, %d' % (whiteS1/4, whiteS1/2, whiteS1*3/4, whiteS1))\n",
        "nunekaAttack053 = NUNEKA_ATTACK + (28 * 2 + 10.5 + 10.5 + 2.5) * (LV_MAX +1)  # delta from 111\n",
        "lunaAttack = LUNA_3['attack'] + (28 + 10.5 + 10.5 + 2.5) * (LV_MAX +1) + nunekaAttack053 * 0.08\n",
        "print('> Luna damage at 0:44 - %d, %d/critical' % (lunaAttack, lunaAttack * 2 * 1.1))\n",
        "hurtNyaru = hurt_for_UB(2, tpBoost, NYARU['tp_retain'], NYARU['hp'], NYARU['defence_magic'], 0)\n",
        "print('> (IF) Damage required at 0:44 - %d' % hurtNyaru)\n",
        "# 0:19\n",
        "tpBoost = 15 +5 + NYARU['tp_boost']\n",
        "hurtNyaru = hurt_for_UB(4, tpBoost, NYARU['tp_retain'], NYARU['hp'], NYARU['defence_magic'], nuneka_tp(tpBoost))\n",
        "print('Damage required at 0:19 - %d' % hurtNyaru)\n",
        "whiteS1 = 100 + 50 * 400 + (0.1 + 0.0005 * 400) * (5000 + 25 * 400 +1 + 40 *500)\n",
        "print('> Nyaru hurt per hit from WHITE S1 - %d' % (whiteS1/4/(1+NYARU['defence_magic']/100.)))\n",
        "print('> WHITE damage at 0:19 - %d, %d, %d, %d' % (whiteS1/4, whiteS1/2, whiteS1*3/4, whiteS1))\n",
        "hurtNyaru = hurt_for_UB(3, tpBoost, NYARU['tp_retain'], NYARU['hp'], NYARU['defence_magic'], nuneka_tp(tpBoost))\n",
        "print('> Damage required at 0:19 (Nyaru 3 actions ONLY) - %d' % hurtNyaru)"
      ],
      "id": "UtqOto7LsQV6",
      "execution_count": 21,
      "outputs": [
        {
          "output_type": "stream",
          "text": [
            "Damage required at 1:15 - 80082\n",
            "Damage required at 1:11 - 33023\n",
            "Damage required at 1:00 - 18417\n",
            "> Nuneka TP boost at 1:07 = 217\n",
            "> Nyaru hurt per hit from WHITE S1 - 1356\n",
            "> WHITE damage at 1:00 - 5400, 10800, 16200, 21600\n",
            "Damage required at 0:44 - 67102\n",
            "> Nyaru hurt per hit from WHITE S1 - 1733\n",
            "> WHITE damage at 0:44 - 6900, 13800, 20700, 27600\n",
            "> Luna damage at 0:44 - 29926, 65838/critical\n",
            "> (IF) Damage required at 0:44 - 84235\n",
            "Damage required at 0:19 - 23842\n",
            "> Nyaru hurt per hit from WHITE S1 - 1922\n",
            "> WHITE damage at 0:19 - 7650, 15300, 22950, 30600\n",
            "> Damage required at 0:19 (Nyaru 3 actions ONLY) - 40975\n"
          ],
          "name": "stdout"
        }
      ]
    }
  ]
}