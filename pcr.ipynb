{
  "nbformat": 4,
  "nbformat_minor": 5,
  "metadata": {
    "kernelspec": {
      "display_name": "Python 3",
      "language": "python",
      "name": "python3"
    },
    "language_info": {
      "codemirror_mode": {
        "name": "ipython",
        "version": 3
      },
      "file_extension": ".py",
      "mimetype": "text/x-python",
      "name": "python",
      "nbconvert_exporter": "python",
      "pygments_lexer": "ipython3",
      "version": "3.8.5"
    },
    "colab": {
      "name": "pcr.ipynb",
      "provenance": [],
      "toc_visible": true,
      "include_colab_link": true
    }
  },
  "cells": [
    {
      "cell_type": "markdown",
      "metadata": {
        "id": "view-in-github",
        "colab_type": "text"
      },
      "source": [
        "<a href=\"https://colab.research.google.com/github/yatowoo/Priconne/blob/main/pcr.ipynb\" target=\"_parent\"><img src=\"https://colab.research.google.com/assets/colab-badge.svg\" alt=\"Open In Colab\"/></a>"
      ]
    },
    {
      "cell_type": "markdown",
      "metadata": {
        "id": "gaSMmfPclzx-"
      },
      "source": [
        "## Global data"
      ],
      "id": "gaSMmfPclzx-"
    },
    {
      "cell_type": "code",
      "metadata": {
        "id": "XW4InokTPggl"
      },
      "source": [
        "from math import *\n",
        "from random import uniform as rng\n",
        "import numpy as np\n",
        "import matplotlib.pyplot as plt"
      ],
      "id": "XW4InokTPggl",
      "execution_count": 6,
      "outputs": []
    },
    {
      "cell_type": "code",
      "metadata": {
        "id": "VXAF_spQlzyA"
      },
      "source": [
        "LV_MAX = 199\n",
        "HIT_DAMAGE_LIMIT = 999999"
      ],
      "id": "VXAF_spQlzyA",
      "execution_count": 7,
      "outputs": []
    },
    {
      "cell_type": "markdown",
      "metadata": {
        "id": "XeWPW48qlzyB"
      },
      "source": [
        "### Character properties"
      ],
      "id": "XeWPW48qlzyB"
    },
    {
      "cell_type": "code",
      "metadata": {
        "id": "oZf731YYlzyB"
      },
      "source": [
        "# Properties of Luna\n",
        "\n",
        "LUNA = {\n",
        "    'attack': 15666 + (240 + 15 * LV_MAX),\n",
        "    'critical': 1332,\n",
        "    'defence_phys': 222,\n",
        "    'defence_magic': 326,\n",
        "    'hp': 24090,\n",
        "    'tp_rise': 13,\n",
        "    'tp_rest': 28\n",
        "}\n",
        "\n",
        "LUNA_4 = {\n",
        "    'attack': 15093 + (15 + 15 * LV_MAX),\n",
        "    'critical': 1332,\n",
        "    'defence_phys': 198,\n",
        "    'defence_magic': 302,\n",
        "    'hp': 20535,\n",
        "    'tp_rise': 13,\n",
        "    'tp_rest': 28\n",
        "}\n",
        "\n",
        "LUNA_3 = {\n",
        "    'attack': 14519 + (15 + 15 * LV_MAX),\n",
        "    'critical': 1332,\n",
        "    'defence_phys': 171,\n",
        "    'defence_magic': 275,\n",
        "    'hp': 16977,\n",
        "    'tp_rise': 13,\n",
        "    'tp_rest': 28\n",
        "}\n",
        "\n",
        "\n",
        "# Properties of Nyaru\n",
        "\n",
        "NYARU = {\n",
        "    'attack': 16235 + (240 + 15 * LV_MAX),\n",
        "    'critical': 1367,\n",
        "    'defence_phys': 236,\n",
        "    'defence_magic': 298,\n",
        "    'hp': 23855,\n",
        "    'tp_rise': 13,\n",
        "    'tp_rest': 17\n",
        "}\n",
        "\n",
        "NYARU_4 = {\n",
        "    'attack': 15649 + (15 + 15 * LV_MAX),\n",
        "    'critical': 1537,\n",
        "    'defence_phys': 209,\n",
        "    'defence_magic': 278,\n",
        "    'hp': 20354,\n",
        "    'tp_rise': 13,\n",
        "    'tp_rest': 17\n",
        "}\n",
        "\n",
        "NYARU_3 = {\n",
        "    'attack': 15064 + (15 + 15 * LV_MAX),\n",
        "    'critical': 1537,\n",
        "    'defence_phys': 180,\n",
        "    'defence_magic': 256,\n",
        "    'hp': 16850,\n",
        "    'tp_rise': 13,\n",
        "    'tp_rest': 17\n",
        "}"
      ],
      "id": "oZf731YYlzyB",
      "execution_count": 8,
      "outputs": []
    },
    {
      "cell_type": "markdown",
      "metadata": {
        "id": "g02XTi2VlzyD"
      },
      "source": [
        "### Skills and battle fomules"
      ],
      "id": "g02XTi2VlzyD"
    },
    {
      "cell_type": "code",
      "metadata": {
        "id": "tOkzg610lzyE"
      },
      "source": [
        "def tp_integer(tp_orignal, tp_rise):\n",
        "    return round(tp_orignal * (1 + tp_rise/100.))\n",
        "\n",
        "def yukari_tp(tp_rise, lv = LV_MAX):\n",
        "    return round((75 + 2.5 *lv) * (1+tp_rise/100.))\n",
        "\n",
        "def miren_tp(tp_rise, lv = LV_MAX):\n",
        "    return round((250 + 1.35 * lv))\n",
        "\n",
        "def action_tp(tp_rise, lv = LV_MAX):\n",
        "    return round(90*(1+tp_rise/100.))\n",
        "\n",
        "def hurt_tp_magic(damage, role):\n",
        "    return hurt_tp(damage, role['hp'], role['defence_magic'],role['tp_rise'])\n",
        "\n",
        "def hurt_tp(damage, hp, defence, tp_rise):\n",
        "    return round(damage/(1+defence/100.) / hp * 500 * (1+tp_rise/100.))\n",
        "\n",
        "def LogBarrier(damage, threshold=850000, factor=100000):\n",
        "    if(damage < threshold):\n",
        "        return damage\n",
        "    else:\n",
        "        return (factor * log((damage-threshold)/factor + 1) + threshold)\n",
        "  \n",
        "def critical_rate(criVal, enemyLv, lv = LV_MAX):\n",
        "    return (0.05 * criVal / 100 * lv / enemyLv)\n",
        "\n",
        "def critical_damage(orignalDamage, rate, criticalDamageBuff = 0., criticalCoeff = 2.0, defense = 0):\n",
        "    hit = 0\n",
        "    if(rng(0,1) < rate ):\n",
        "        hit = round(orignalDamage * criticalCoeff * (1 + criticalDamageBuff))\n",
        "    else:\n",
        "        hit = round(orignalDamage)\n",
        "    return min(HIT_DAMAGE_LIMIT, hit / (1+defense/100.))\n",
        "\n",
        "NYARU_UB_BUFF_COEFF = 0.1125\n",
        "def nyaruUB(attackWithBuff, criticalWithBuff, criticalDamageBuff = 0., enemyLv = LV_MAX, lv = LV_MAX, detail=False, magic_defense = 0):\n",
        "    # split in 10 parts = 1/13 * 9 + 4/13\n",
        "    totalDamage = 0\n",
        "    orignalDamage = 60 * (LV_MAX + 1 ) + 4.8 * attackWithBuff\n",
        "    for i in ([1] * 9 + [4]):\n",
        "        totalDamage += critical_damage(orignalDamage*i/13, critical_rate(criticalWithBuff, enemyLv, lv), criticalDamageBuff, defense=magic_defense)\n",
        "    if detail:\n",
        "        return [round(orignalDamage * 1/13), round(orignalDamage * 4/13), totalDamage]\n",
        "    else:\n",
        "        return totalDamage\n",
        "\n",
        "def NyaruS1(attackWithBuff, enemyDefense, criticalWithBuff, criticalDamageBuff =0., enemyLv = LV_MAX, lv = LV_MAX):\n",
        "   original = 27 * (LV_MAX + 1) + 2.1 * attackWithBuff\n",
        "   damage = critical_damage(original, critical_rate(criticalWithBuff, enemyLv, lv), criticalDamageBuff)\n",
        "   return damage\n",
        "\n",
        "def LunaS1(attackWithBuff, enemyDefense, criticalWithBuff, criticalDamageBuff = 0., enemyLv = LV_MAX, lv = LV_MAX):\n",
        "    return round(critical_damage(attackWithBuff, critical_rate(criticalWithBuff, enemyLv, lv), criticalDamageBuff, defense=enemyDefense))\n"
      ],
      "id": "tOkzg610lzyE",
      "execution_count": 9,
      "outputs": []
    },
    {
      "cell_type": "markdown",
      "metadata": {
        "id": "r-3PdNkBlzyH"
      },
      "source": [
        "#### Test : Nyaru UB damage distribution\n",
        "Nyaru's UB is splitted into 10 hits, including the first 9 hits took 1/13 damage and the last hit took 4/13. For simplicity, I suppose the critical for each hit is calculated independently. "
      ],
      "id": "r-3PdNkBlzyH"
    },
    {
      "cell_type": "code",
      "metadata": {
        "colab": {
          "base_uri": "https://localhost:8080/",
          "height": 278
        },
        "id": "hhS82fQ3lzyI",
        "outputId": "deb63035-b308-427b-ad12-5eb09bce3d00"
      },
      "source": [
        "nyaruTest = lambda x : nyaruUB(NYARU['attack'] + x, NYARU['critical']+180,0.25,400)\n",
        "a = [nyaruTest(100000) for i in range(0,10000)]\n",
        "_ = plt.hist(a, bins='auto')"
      ],
      "id": "hhS82fQ3lzyI",
      "execution_count": 13,
      "outputs": [
        {
          "output_type": "display_data",
          "data": {
            "image/png": "[encoded data removed]",
            "text/plain": [
              "<Figure size 432x288 with 1 Axes>"
            ]
          },
          "metadata": {
            "tags": [],
            "needs_background": "light"
          }
        }
      ]
    },
    {
      "cell_type": "markdown",
      "metadata": {
        "id": "idebBK_fpxOi"
      },
      "source": [
        "Nyaru UB to reach digit barrier without log barrier. Require around **24M** damage by UB in last 18 seconds."
      ],
      "id": "idebBK_fpxOi"
    },
    {
      "cell_type": "code",
      "metadata": {
        "colab": {
          "base_uri": "https://localhost:8080/"
        },
        "id": "2dQw1gmulzyK",
        "outputId": "97e8b40a-b49d-4515-d8f9-d422fe1bac90"
      },
      "source": [
        "totalDamageIn18s = (999999*13/4.8-NYARU['attack'])/NYARU_UB_BUFF_COEFF\n",
        "d = nyaruUB(NYARU['attack'] + totalDamageIn18s*NYARU_UB_BUFF_COEFF, NYARU['critical'],0.15,400, LV_MAX, True)\n",
        "print(d)\n",
        "print(d[0]*9 + 999999)\n",
        "print(totalDamageIn18s)"
      ],
      "id": "2dQw1gmulzyK",
      "execution_count": 11,
      "outputs": [
        {
          "output_type": "stream",
          "text": [
            "[1000922, 4003688, 9999990]\n",
            "10008297\n",
            "23901072.22222222\n"
          ],
          "name": "stdout"
        }
      ]
    },
    {
      "cell_type": "markdown",
      "metadata": {
        "id": "hGDG7NoclzyL"
      },
      "source": [
        "### TP interger check"
      ],
      "id": "hGDG7NoclzyL"
    },
    {
      "cell_type": "code",
      "metadata": {
        "colab": {
          "base_uri": "https://localhost:8080/"
        },
        "id": "sB6IdQ7MlzyS",
        "outputId": "c8fc76f3-c202-47d4-aa8c-4ff4cfc09d69"
      },
      "source": [
        "tp_cache = 1.10\n",
        "tp_charge = 107.9\n",
        "tp_charge_int = 108\n",
        "\n",
        "for i in range(0,20):\n",
        "    tp_up_tmp = tp_cache + 0.01 * i\n",
        "    print('%.2f %.2f %.2f' % (tp_up_tmp, tp_charge * tp_up_tmp, tp_charge_int * tp_up_tmp))"
      ],
      "id": "sB6IdQ7MlzyS",
      "execution_count": 12,
      "outputs": [
        {
          "output_type": "stream",
          "text": [
            "1.10 118.69 118.80\n",
            "1.11 119.77 119.88\n",
            "1.12 120.85 120.96\n",
            "1.13 121.93 122.04\n",
            "1.14 123.01 123.12\n",
            "1.15 124.09 124.20\n",
            "1.16 125.16 125.28\n",
            "1.17 126.24 126.36\n",
            "1.18 127.32 127.44\n",
            "1.19 128.40 128.52\n",
            "1.20 129.48 129.60\n",
            "1.21 130.56 130.68\n",
            "1.22 131.64 131.76\n",
            "1.23 132.72 132.84\n",
            "1.24 133.80 133.92\n",
            "1.25 134.88 135.00\n",
            "1.26 135.95 136.08\n",
            "1.27 137.03 137.16\n",
            "1.28 138.11 138.24\n",
            "1.29 139.19 139.32\n"
          ],
          "name": "stdout"
        }
      ]
    },
    {
      "cell_type": "markdown",
      "metadata": {
        "id": "M7zoFGE0lzyT"
      },
      "source": [
        "## Damage limit with log barrier\n",
        "After the Nyaru shock in the clan battle of 2020/01, Cygames decided to add a new limitation sign for all the bossed under clan battle mode. According to unpaced data from server, the mechanism is deployed with a simple logarithm for damage above threshold, so called **'log barrier**'.\n",
        "\n",
        "The logarithm can be manipulated with two parameters, threshold and attenuation coefficient. Latest value in 2021/04 is **850,000** and 100,000."
      ],
      "id": "M7zoFGE0lzyT"
    },
    {
      "cell_type": "markdown",
      "metadata": {
        "id": "xWzRxfAHlzyU"
      },
      "source": [
        "### Example: Kaya vs Wyvern (2nd phase) 2021/01\n",
        "[video](https://www.youtube.com/watch?v=DA6hy8W1RTQ) from たつきちゃん"
      ],
      "id": "xWzRxfAHlzyU"
    },
    {
      "cell_type": "code",
      "metadata": {
        "id": "vK3mXpOalzyU",
        "colab": {
          "base_uri": "https://localhost:8080/"
        },
        "outputId": "caca782a-32f4-49f0-91b1-19438415c8cb"
      },
      "source": [
        "eff_lv = 187\n",
        "kaya_attack = 17337\n",
        "damage_final = 856088\n",
        "buff_miren = (18+2.5) * (eff_lv +1)\n",
        "buff_self = (20 *2 + 72) * (1 + eff_lv)\n",
        "\n",
        "damage = (120 * (eff_lv +1 ) + 9.6 * (kaya_attack + buff_miren + buff_self)) *2\n",
        "print(int(damage), int(LogBarrier(damage)), int (damage_final))"
      ],
      "id": "vK3mXpOalzyU",
      "execution_count": null,
      "outputs": [
        {
          "output_type": "stream",
          "text": [
            "856262 856074 856088\n"
          ],
          "name": "stdout"
        }
      ]
    },
    {
      "cell_type": "markdown",
      "metadata": {
        "id": "Z9qItCDa_kN7"
      },
      "source": [
        "### UB with multi-hits\n",
        "The method for multi-hit UB is still unclear. Here I suppose the possible process: \n",
        "1.   compute original damage without critical\n",
        "2.   divide the orignal damage into hits\n",
        "3.   define critical flags for hits\n",
        "4.   sum the total damge and apply log barrier\n",
        "5.   get a ratio of the total damage before and after\n",
        "6.   apply the ratio to each hit"
      ],
      "id": "Z9qItCDa_kN7"
    },
    {
      "cell_type": "markdown",
      "metadata": {
        "id": "cAWZ8Zq4Axjz"
      },
      "source": [
        "### Example: working with digit barrier\n",
        "Another case is from the limitation of hit damage (digit barrier). If Nyaru get more than 320,000 buff, the last hit of UB would exceed it when critical. For Nuneka patterns, the required buff could be even lower, around 275,000. The buff corresponds to 2,850k and 2,450k damage of Nyaru UB in last 18s."
      ],
      "id": "cAWZ8Zq4Axjz"
    },
    {
      "cell_type": "code",
      "metadata": {
        "colab": {
          "base_uri": "https://localhost:8080/"
        },
        "id": "xA937lo2lzyV",
        "outputId": "805f9b4f-0349-441c-e0e8-9b32cb175bbd"
      },
      "source": [
        "buffRaw = 320000\n",
        "damageRaw = nyaruUB(NYARU['attack']+320000 , NYARU['critical'], enemyLv=120, detail=True)\n",
        "print('Nyaru UB with ' + repr(buffRaw) + ' buff: ' +repr(damageRaw))\n",
        "print('> Last hit with critical: %d' % (damageRaw[1] * 2.0))\n",
        "print('> Buff required damage of Nyaru UB: ' + repr(int(buffRaw / NYARU_UB_BUFF_COEFF)))\n",
        "\n",
        "buffNuneka = 275000\n",
        "damageNuneka = nyaruUB(NYARU['attack']+buffNuneka , NYARU['critical'], criticalDamageBuff=0.15, enemyLv=120, detail=True)\n",
        "print('Nyaru UB with ' + repr(buffNuneka) + ' buff and Nuneka critical damage buff: ' + repr(damageNuneka))\n",
        "print('> Last hit with critical: %d' % (damageNuneka[1] * 2.0 * 1.15))\n",
        "print('> Buff required damage of Nyaru UB: ' + repr(int(buffNuneka / NYARU_UB_BUFF_COEFF)))"
      ],
      "id": "xA937lo2lzyV",
      "execution_count": null,
      "outputs": [
        {
          "output_type": "stream",
          "text": [
            "Nyaru UB with 320000 buff: [125911, 503645, 3266397.0]\n",
            "> Last hit with critical: 1007290\n",
            "> Buff required damage of Nyaru UB: 2844444\n",
            "Nyaru UB with 275000 buff and Nuneka critical damage buff: [109296, 437183, 3262419.0]\n",
            "> Last hit with critical: 1005520\n",
            "> Buff required damage of Nyaru UB: 2444444\n"
          ],
          "name": "stdout"
        }
      ]
    },
    {
      "cell_type": "markdown",
      "metadata": {
        "id": "40dJAI92FUT4"
      },
      "source": [
        "To verify the method for multi-hit UB, the data from [video](https://www.youtube.com/watch?v=VIWQDPDHeJY) by ハンマリォch. was extracted, which is Nyaru vs Minotaur (3rd phase).\n",
        "\n",
        "The UB damage of Nyara:\n",
        "\n",
        "*   1:22, 241310\n",
        "*   1:18, 535032\n",
        "*   1:14, 985206\n",
        "*   1:11, 1120470\n",
        "*   1:07, 1079101 (no debuff, 100 magical defence)\n",
        "*   0:59, 1191251\n",
        "\n"
      ],
      "id": "40dJAI92FUT4"
    },
    {
      "cell_type": "code",
      "metadata": {
        "colab": {
          "base_uri": "https://localhost:8080/"
        },
        "id": "XABpbXFx5hcM",
        "outputId": "27699fd8-bc45-4ad0-e423-daf10a59bd43"
      },
      "source": [
        "# Rest time (seconds) and total UB damage\n",
        "exampleNyaruUBDmage = [(82, 241310), (78, 535032), (74, 985206), (71, 1120470), (67, 1079101), (59, 1191251)]\n",
        "\n",
        "# First UB\n",
        "otherBuff = (18. + 6. ) * (LV_MAX + 1)\n",
        "nextUBDamage = nyaruUB(NYARU_4['attack'] - 25 + otherBuff, NYARU['critical'], enemyLv=120, detail=True)\n",
        "print(nextUBDamage)\n",
        "\n",
        "# Test A: UB at 1:07\n",
        "## Neneka's debuff is missing, and the defence is 100, so damage is halved.\n",
        "ubDamageA = sum(x[1] for x in exampleNyaruUBDmage[0:4])\n",
        "# buff from Saren (S1, 1:24; S2, 1:15), Nyaru(S2, 1:22/1:12) and Luna (S1, 1:18/1:11/1:07)\n",
        "otherBuff = (18. + 2.5 + 6. *2 + 7.5 *3) * (LV_MAX + 1)\n",
        "nextUBDamage = nyaruUB(NYARU_4['attack'] + ubDamageA * NYARU_UB_BUFF_COEFF  + otherBuff, \n",
        "                       NYARU_4['critical'], enemyLv=120, detail=True)\n",
        "print('Total damage: ' + repr(nextUBDamage) + ', damge after logarithm :  ' + repr(round(LogBarrier(nextUBDamage[2] / 2.))))\n",
        "nextUBDamageWithoutDigitBarrier = nextUBDamage[0] * 2 * 9 + nextUBDamage[1] * 2\n",
        "print( 'Damage w/o digit barrier: %d, after logarithm : %d' % (nextUBDamageWithoutDigitBarrier , round( LogBarrier(nextUBDamageWithoutDigitBarrier /2. ))))\n",
        "\n",
        "# Test B: UB at 0:59\n",
        "# buff from Saren (S2, 1:02; UB, 1:05), Neneka(UB, 1:06) and Luna (S1, 1:11/1:07)\n",
        "otherBuff = (2.5 + 10.5 + 28 + 7.5 *2 ) * (LV_MAX + 1)\n",
        "ubDamageB = sum(x[1] for x in exampleNyaruUBDmage[2:5])\n",
        "nextUBDamage = nyaruUB(NYARU_4['attack'] + ubDamageB * NYARU_UB_BUFF_COEFF  + otherBuff, \n",
        "                       NYARU_4['critical'], enemyLv=120, detail=True)\n",
        "print('Total damage: ' + repr(nextUBDamage) + ', damge after logarithm :  ' + repr(round(LogBarrier(nextUBDamage[2]))))\n",
        "nextUBDamageWithoutDigitBarrier = nextUBDamage[0] * 2 * 9 + nextUBDamage[1] * 2\n",
        "print( 'Damage w/o digit barrier: %d, after logarithm : %d' % (nextUBDamageWithoutDigitBarrier , round( LogBarrier(nextUBDamageWithoutDigitBarrier ))))"
      ],
      "id": "XABpbXFx5hcM",
      "execution_count": null,
      "outputs": [
        {
          "output_type": "stream",
          "text": [
            "[9198, 36794, 239161.0]\n",
            "Total damage: [131177, 524709, 3361185.0], damge after logarithm :  1073065\n",
            "Damage w/o digit barrier: 3410604, after logarithm : 1075686\n",
            "Total damage: [143826, 575304, 3588867.0], damge after logarithm :  1184599\n",
            "Damage w/o digit barrier: 3739476, after logarithm : 1189768\n"
          ],
          "name": "stdout"
        }
      ]
    },
    {
      "cell_type": "markdown",
      "metadata": {
        "id": "rpUxNEq70SNR"
      },
      "source": [
        "## EX4 Dungeon - Nyaru patterns\n",
        "\n",
        "Basic Strategy\n",
        "1. Kill BLACK boss at 1:14 (before first buff clear action)\n",
        "2. Hit WHITE boss under 50% during 1:02-1:00 (actions to clear buff)\n",
        "\n",
        "The next action to clear buff is 0:46-0:43, and all the buff would be cleared at the end of damage hits, around 0:43-0:42. So the power of Nyaru-Luna patterns is unlimited in the first 46 seconds.\n",
        "\n",
        "HP of both boss should be adjusted to achive the above timeline. Upper limit is constrained by the maximum damage of Nyaru with 100% criticals, while lower limit is set to avoid reaching the HP target before the check point (for BLACK boss is more loose than WHITE). Considering the wide gap of level between boss and player (lv. 400  and lv. 196), the critical rate of Nyaru is around 30% to 40%. Therefore, the damage distribution is necessary to select proper range for HP adjusting.\n"
      ],
      "id": "rpUxNEq70SNR"
    },
    {
      "cell_type": "markdown",
      "metadata": {
        "id": "TDoBTCTy60cY"
      },
      "source": [
        "### 1. W-Neneka pattern\n",
        "Neneka (New year), Saren (Summer), Neneka, Nyaru, Luna\n"
      ],
      "id": "TDoBTCTy60cY"
    },
    {
      "cell_type": "code",
      "metadata": {
        "id": "5GOJXIPo7Y7e",
        "colab": {
          "base_uri": "https://localhost:8080/",
          "height": 1000
        },
        "outputId": "e9df0cd1-25aa-4c9b-d0ad-06b5e962de80"
      },
      "source": [
        "# Time: 1:23\n",
        "ex4start = lambda x : nyaruUB(NYARU['attack'] + 19756, NYARU['critical']+180,0.15,400, detail=x)\n",
        "print(ex4start(True))\n",
        "histUB = []\n",
        "nyaruUB_ex4 = lambda x,y,z : nyaruUB(NYARU['attack'] + x, NYARU['critical']+y,z,400, detail=False)\n",
        "nyaruUB_ex4WHITE = lambda x,y,z : nyaruUB(NYARU['attack'] + x, NYARU['critical']+y,z,400, detail=False, magic_defense=80)\n",
        "DEBUG_FLAG = True\n",
        "LUNA_EX4 = LUNA_3\n",
        "for ev in range(0,100):\n",
        "  # UB time: 1:23, 1:21, 1:21, 1:15, 1:14, 1:11, 1:11/1:08\n",
        "  # Nyaru Skill: S2, S1/x, A, S1, S2/x, A, S1, A, A, S1\n",
        "  # Array: UB/1:23, UB/1:21, UB/1:21, attack, S1, UB/1:15, UB/1:14, UB/1:11, UB/1:11or1:08\n",
        "  nyaruDamage = [0] * 11\n",
        "  #1:25 before Nuneka\n",
        "  otherBuff = (28+10.5) * (LV_MAX +1) \n",
        "  nunekaAttack = 7168 + 240 + 15 * LV_MAX # 5star, Rand12 with TP equiment ONLY\n",
        "  nunekaBuff = 10.5 * (LV_MAX + 1) + (nunekaAttack + otherBuff) * 0.08\n",
        "  nunekaCriticalBuff = 30 + 0.003 * (nunekaAttack + otherBuff)\n",
        "  otherCriticalBuff = nunekaCriticalBuff\n",
        "  otherCriticalDamageBuff = 0.1 # Nuneka UB\n",
        "  #1:23 Nyaru 1st UB\n",
        "  otherBuff +=  nunekaBuff + (18 + 6) * (LV_MAX +1) #Saren S1 (until 1:03) + Nyaru S2 (until 1:11)\n",
        "  nyaruBuff = otherBuff + 20. * (LV_MAX +1) # Nuneka S1 (until 1:11)\n",
        "  nyaruCriticalBuff = nunekaCriticalBuff + 100 # Nuneka S1 (until 1:11)\n",
        "  nyaruCriticalDamageBuff = otherCriticalDamageBuff + 0.05 # Nuneka S1 (until 1:11)\n",
        "  ubDamage = nyaruUB_ex4(nyaruBuff, nyaruCriticalBuff, nyaruCriticalDamageBuff)\n",
        "  nyaruBuff += ubDamage * NYARU_UB_BUFF_COEFF # until 1:05\n",
        "  nyaruDamage[0] = ubDamage\n",
        "    #DEBUG\n",
        "  if(DEBUG_FLAG):\n",
        "    print('Nyaru start UB : ' + repr(nyaruUB(NYARU['attack'] + nyaruBuff, NYARU['critical']+180,0.15,400,detail=True)))\n",
        "  # 1:22 - Nuneka 2nd UB\n",
        "  nunekaBuff = 10.5 * (LV_MAX + 1) + (nunekaAttack + otherBuff) * 0.08\n",
        "  nunekaCriticalBuff = 30 + 0.003 * (nunekaAttack + otherBuff)\n",
        "  otherBuff += nunekaBuff\n",
        "  otherCriticalBuff += nunekaCriticalBuff\n",
        "  otherCriticalDamageBuff += 0.1\n",
        "  #1:21 - Nyaru 2nd/3rd UB by Luna S1\n",
        "  nyaruBuff += 7.5 * (LV_MAX +1)\n",
        "  nyaruCriticalBuff += nunekaCriticalBuff + 100\n",
        "  nyaruCriticalDamageBuff += 0.1\n",
        "    #2nd UB\n",
        "  ubDamage = nyaruUB_ex4(nyaruBuff, nyaruCriticalBuff, nyaruCriticalDamageBuff)\n",
        "  nyaruBuff += ubDamage * NYARU_UB_BUFF_COEFF\n",
        "  nyaruDamage[1] = ubDamage\n",
        "    # 3rd UB\n",
        "  ubDamage = nyaruUB_ex4(nyaruBuff, nyaruCriticalBuff, nyaruCriticalDamageBuff)\n",
        "  nyaruBuff += ubDamage * NYARU_UB_BUFF_COEFF\n",
        "  nyaruDamage[2] = ubDamage\n",
        "    # Luna damage\n",
        "  nyaruHurt = LunaS1(LUNA_EX4['attack'] + otherBuff, NYARU['defence_magic'], LUNA_EX4['critical']+otherCriticalBuff, otherCriticalDamageBuff)\n",
        "  lunaCriticalRate = critical_rate(LUNA_EX4['critical'] + otherCriticalBuff, LV_MAX)\n",
        "  if(DEBUG_FLAG):\n",
        "    print('Luna critical rate at 1:21 : ' + repr(lunaCriticalRate))\n",
        "    print('Luna hit Nyaru : ' + repr(nyaruHurt))\n",
        "  # 1:18 Nyaru Attack\n",
        "  nyaruDamage[3] = critical_damage(\n",
        "      NYARU['attack'] + nyaruBuff,\n",
        "      critical_rate(NYARU['critical'] + nyaruCriticalBuff, 400),\n",
        "      nyaruCriticalDamageBuff )\n",
        "  # Nyaru HP check\n",
        "  nyaruHpAbsorbRate = 6. / (100 + 400 + 6)\n",
        "  if sum(nyaruDamage[1:4]) * nyaruHpAbsorbRate < nyaruHurt:\n",
        "    histUB.append(nyaruDamage)\n",
        "    DEBUG_FLAG = False\n",
        "    continue\n",
        "  # 1:15 Nyaru S1\n",
        "  nyaruDamage[4] =NyaruS1(NYARU['attack'] + nyaruBuff, 0, NYARU['critical'] + nyaruCriticalBuff, nyaruCriticalDamageBuff, 400)\n",
        "  nyaruDamageWHITE = NyaruS1(NYARU['attack'] + nyaruBuff, 80, NYARU['critical'] + nyaruCriticalBuff, nyaruCriticalDamageBuff, 400)\n",
        "  nyaruDamageWHITE += NyaruS1(NYARU['attack'] + nyaruBuff, 50, NYARU['critical'] + nyaruCriticalBuff, nyaruCriticalDamageBuff, 400)\n",
        "  nyaruDamageWHITE += NyaruS1(NYARU['attack'] + nyaruBuff, 50, NYARU['critical'] + nyaruCriticalBuff, nyaruCriticalDamageBuff, 400)\n",
        "  # 1:15 Saren S2\n",
        "  otherBuff += 2.5 * (LV_MAX + 1)\n",
        "  otherCriticalBuff += 20\n",
        "  nyaruBuff += 2.5 * (LV_MAX + 1)\n",
        "  nyaruCriticalBuff += 20\n",
        "  # 1:14 Nyaru 4/5th UB by Luna S1\n",
        "    # Luna S1\n",
        "  nyaruHurt = LunaS1(LUNA_EX4['attack'] + otherBuff, NYARU['defence_magic'], LUNA_EX4['critical']+otherCriticalBuff, otherCriticalDamageBuff)\n",
        "  if(DEBUG_FLAG):\n",
        "    lunaCriticalRate = critical_rate(LUNA_EX4['critical'] + otherCriticalBuff, LV_MAX)\n",
        "    print('Luna critical rate at 1:15 : ' + repr(lunaCriticalRate))\n",
        "    print('Luna hit Nyaru : ' + repr(nyaruHurt))\n",
        "  nyaruBuff += 7.5 * (LV_MAX +1)\n",
        "  nyaruCriticalBuff += 100\n",
        "    # Nyaru 4th UB\n",
        "  ubDamage = nyaruUB_ex4(nyaruBuff, nyaruCriticalBuff, nyaruCriticalDamageBuff)\n",
        "  nyaruBuff += ubDamage * NYARU_UB_BUFF_COEFF\n",
        "  nyaruDamage[5] = ubDamage\n",
        "    # Nyaru 5th UB (TP check)\n",
        "  nyaruTPrise = 1 + NYARU['tp_rise'] / 100. + 0.15 + 0.05 # Nenek UB + Nuneka UB x2\n",
        "  nyaruTP = round(90 * nyaruTPrise) * 2 + 170\n",
        "  if(nyaruHurt < (1000 - nyaruTP) / 500. / nyaruTPrise * NYARU['hp']):\n",
        "    histUB.append(nyaruDamage)\n",
        "    DEBUG_FLAG = False\n",
        "    continue\n",
        "  ubDamage = nyaruUB_ex4(nyaruBuff, nyaruCriticalBuff, nyaruCriticalDamageBuff)\n",
        "  nyaruBuff += ubDamage * NYARU_UB_BUFF_COEFF\n",
        "  nyaruDamage[6] = ubDamage\n",
        "  # Kill BLACK and MOVE to WHITE\n",
        "  # 1:14 Saren UB\n",
        "  otherBuff += 10.5 * (LV_MAX + 1)\n",
        "  nyaruBuff += 10.5 * (LV_MAX + 1)\n",
        "  # 1:14 Nuneka S1\n",
        "  nyaruBuff += 20. * (LV_MAX +1)\n",
        "  nyaruCriticalBuff += 100\n",
        "  nyaruCriticalDamageBuff += 0.05\n",
        "  # 1:12 Nyaru Attack to WHITE + 1:15 S1 AOE to 3 targets\n",
        "  nyaruDamage[7] = nyaruDamageWHITE + critical_damage(NYARU['attack'] + nyaruBuff, critical_rate(NYARU['critical'] + nyaruCriticalBuff, 400), nyaruCriticalDamageBuff, 2.0, 80)\n",
        "  # 1:11 Luna S1\n",
        "  nyaruHurt = LunaS1(LUNA_EX4['attack'] + otherBuff, NYARU['defence_magic'], LUNA_EX4['critical']+otherCriticalBuff, otherCriticalDamageBuff)\n",
        "  if(nyaruHurt > NYARU['hp'] or DEBUG_FLAG):\n",
        "    print('> TL check - Nyaru killed by Luna at 1:11 (%d, %d)' % (nyaruHurt, NYARU['hp']))\n",
        "  if(DEBUG_FLAG):\n",
        "    lunaCriticalRate = critical_rate(LUNA_EX4['critical'] + otherCriticalBuff, LV_MAX)\n",
        "    print('Luna critical rate at 1:11 : ' + repr(lunaCriticalRate))\n",
        "    print('Luna hit Nyaru : ' + repr(nyaruHurt))\n",
        "  nyaruBuff += 7.5 * (LV_MAX +1)\n",
        "  nyaruCriticalBuff += 100\n",
        "  # 1:11 Nyaru 6th UB\n",
        "  ubDamage = nyaruUB_ex4WHITE(nyaruBuff, nyaruCriticalBuff, nyaruCriticalDamageBuff)\n",
        "  nyaruBuff += ubDamage * NYARU_UB_BUFF_COEFF\n",
        "  nyaruDamage[8] = ubDamage\n",
        "  # 1:11 Neneka + Nuneka UB\n",
        "  otherBuff += 28 * (LV_MAX + 1)\n",
        "  nyaruBuff += 28 * (LV_MAX + 1)\n",
        "  nunekaBuff = 10.5 * (LV_MAX +1) + (nunekaAttack +otherBuff) * 0.08\n",
        "  nunekaCriticalBuff += 30 + (nunekaAttack +otherBuff) * 0.003\n",
        "  otherBuff += nunekaBuff\n",
        "  otherCriticalBuff += nunekaCriticalBuff\n",
        "  otherCriticalDamageBuff += 0.1\n",
        "  nyaruBuff += nunekaBuff\n",
        "  nyaruCriticalBuff += nunekaCriticalBuff\n",
        "  nyaruCriticalDamageBuff += 0.1\n",
        "  # 1:11 Nyaru 7th UB\n",
        "  ubDamage = nyaruUB_ex4WHITE(nyaruBuff, nyaruCriticalBuff, nyaruCriticalDamageBuff)\n",
        "  nyaruDamage[9] = ubDamage\n",
        "  # 1:08 Nyaru 7th UB (IF)\n",
        "    #Buff check (1:23 Nuneka, 1:21 Luna)\n",
        "  nyaruBuff -= 20. * (LV_MAX +1)\n",
        "  nyaruCriticalBuff -= 100\n",
        "  nyaruCriticalDamageBuff -= 0.05\n",
        "  nyaruBuff -= 7.5 * (LV_MAX +1)\n",
        "  nyaruCriticalBuff -= 100\n",
        "  ubDamage = nyaruUB_ex4(nyaruBuff, nyaruCriticalBuff, nyaruCriticalDamageBuff)\n",
        "  nyaruDamage[10] = ubDamage\n",
        "  # END\n",
        "  histUB.append(nyaruDamage)\n",
        "  DEBUG_FLAG = False\n",
        "\n",
        "\n",
        "hurtFlag = [int(bool(x[4])) for x in histUB]\n",
        "counts, binedges = np.histogram(hurtFlag, bins=[-0.5,0.5,1.5])\n",
        "print(' > TL check - Nyaru HP at 1:18 [FAIL, PASS] =[%d vs %d]' % (counts[0], counts[1]))\n",
        "\n",
        "successFlag = [int(bool(x[6])) for x in histUB]\n",
        "counts, binedges = np.histogram(successFlag, bins=[-0.5,0.5,1.5])\n",
        "print(' > TL check - Nyaru TP at 1:14 [FAIL, PASS] =[%d vs %d]' % (counts[0], counts[1]))\n",
        "\n",
        "fig, ax = plt.subplots()\n",
        "damageSumBefore115 = [ sum(x[0:5])/10000. for x in histUB if x[4] > 0]\n",
        "damageSum115 = [ sum(x[0:6])/10000. for x in histUB if x[5] > 0]\n",
        "damageSum114 = [ sum(x[0:7])/10000. for x in histUB if x[6] > 0]\n",
        "damageSumWHITE = [(x[7]+x[8]+x[9])/10000 + 500 for x in histUB if x[7] > 0]\n",
        "damageSumWHITE_if = [(x[7]+x[8]+x[10])/10000 + 500 for x in histUB if x[7] > 0]\n",
        "pltKwargs = dict(histtype='stepfilled', alpha=0.3, density=True, bins=range(100,2500,10))\n",
        "histBefore115 = plt.hist(damageSumBefore115, **pltKwargs, label='Nyaru damage after 1:15 S1')\n",
        "hist115 = plt.hist(damageSum115, **pltKwargs, label='+ 1:15 UB')\n",
        "hist114 = plt.hist(damageSum114, **pltKwargs, label='+ 1:14 UB')\n",
        "histWHITE = plt.hist(damageSumWHITE, **pltKwargs, label='Damage to WHITE until 1:00')\n",
        "histWHITE_if = plt.hist(damageSumWHITE_if, **pltKwargs, label='Damage to WHITE until 1:00 (IF)')\n",
        "leg = ax.legend()\n",
        "plt.title('EX4 Nyaru total damge simulation (W-Neneka pattern)')\n",
        "plt.ylabel('Prob. Density')\n",
        "plt.xlabel('Nyaru total damage / 1e4')"
      ],
      "id": "5GOJXIPo7Y7e",
      "execution_count": 29,
      "outputs": [
        {
          "output_type": "stream",
          "text": [
            "[15403, 61611, 420501.0]\n",
            "Nyaru start UB : [25561, 102244, 465209.0]\n",
            "Luna critical rate at 1:21 : 0.7628001600000002\n",
            "Luna hit Nyaru : 9493\n",
            "Luna critical rate at 1:15 : 0.7728001600000001\n",
            "Luna hit Nyaru : 23084\n",
            "> TL check - Nyaru killed by Luna at 1:11 (24351, 23855)\n",
            "Luna critical rate at 1:11 : 0.7728001600000001\n",
            "Luna hit Nyaru : 24351\n",
            "> TL check - Nyaru killed by Luna at 1:11 (24351, 23855)\n",
            "> TL check - Nyaru killed by Luna at 1:11 (24351, 23855)\n",
            "> TL check - Nyaru killed by Luna at 1:11 (24351, 23855)\n",
            "> TL check - Nyaru killed by Luna at 1:11 (24351, 23855)\n",
            "> TL check - Nyaru killed by Luna at 1:11 (24351, 23855)\n",
            "> TL check - Nyaru killed by Luna at 1:11 (24351, 23855)\n",
            "> TL check - Nyaru killed by Luna at 1:11 (24351, 23855)\n",
            "> TL check - Nyaru killed by Luna at 1:11 (24351, 23855)\n",
            "> TL check - Nyaru killed by Luna at 1:11 (24351, 23855)\n",
            "> TL check - Nyaru killed by Luna at 1:11 (24351, 23855)\n",
            "> TL check - Nyaru killed by Luna at 1:11 (24351, 23855)\n",
            "> TL check - Nyaru killed by Luna at 1:11 (24351, 23855)\n",
            "> TL check - Nyaru killed by Luna at 1:11 (24351, 23855)\n",
            "> TL check - Nyaru killed by Luna at 1:11 (24351, 23855)\n",
            "> TL check - Nyaru killed by Luna at 1:11 (24351, 23855)\n",
            "> TL check - Nyaru killed by Luna at 1:11 (24351, 23855)\n",
            "> TL check - Nyaru killed by Luna at 1:11 (24351, 23855)\n",
            "> TL check - Nyaru killed by Luna at 1:11 (24351, 23855)\n",
            "> TL check - Nyaru killed by Luna at 1:11 (24351, 23855)\n",
            "> TL check - Nyaru killed by Luna at 1:11 (24351, 23855)\n",
            "> TL check - Nyaru killed by Luna at 1:11 (24351, 23855)\n",
            "> TL check - Nyaru killed by Luna at 1:11 (24351, 23855)\n",
            "> TL check - Nyaru killed by Luna at 1:11 (24351, 23855)\n",
            "> TL check - Nyaru killed by Luna at 1:11 (24351, 23855)\n",
            "> TL check - Nyaru killed by Luna at 1:11 (24351, 23855)\n",
            "> TL check - Nyaru killed by Luna at 1:11 (24351, 23855)\n",
            "> TL check - Nyaru killed by Luna at 1:11 (24351, 23855)\n",
            "> TL check - Nyaru killed by Luna at 1:11 (24351, 23855)\n",
            "> TL check - Nyaru killed by Luna at 1:11 (24351, 23855)\n",
            "> TL check - Nyaru killed by Luna at 1:11 (24351, 23855)\n",
            "> TL check - Nyaru killed by Luna at 1:11 (24351, 23855)\n",
            "> TL check - Nyaru killed by Luna at 1:11 (24351, 23855)\n",
            "> TL check - Nyaru killed by Luna at 1:11 (24351, 23855)\n",
            "> TL check - Nyaru killed by Luna at 1:11 (24351, 23855)\n",
            "> TL check - Nyaru killed by Luna at 1:11 (24351, 23855)\n",
            "> TL check - Nyaru killed by Luna at 1:11 (24351, 23855)\n",
            "> TL check - Nyaru killed by Luna at 1:11 (24351, 23855)\n",
            "> TL check - Nyaru killed by Luna at 1:11 (24351, 23855)\n",
            "> TL check - Nyaru killed by Luna at 1:11 (24351, 23855)\n",
            "> TL check - Nyaru killed by Luna at 1:11 (24351, 23855)\n",
            "> TL check - Nyaru killed by Luna at 1:11 (24351, 23855)\n",
            "> TL check - Nyaru killed by Luna at 1:11 (24351, 23855)\n",
            "> TL check - Nyaru killed by Luna at 1:11 (24351, 23855)\n",
            "> TL check - Nyaru killed by Luna at 1:11 (24351, 23855)\n",
            "> TL check - Nyaru killed by Luna at 1:11 (24351, 23855)\n",
            "> TL check - Nyaru killed by Luna at 1:11 (24351, 23855)\n",
            "> TL check - Nyaru killed by Luna at 1:11 (24351, 23855)\n",
            "> TL check - Nyaru killed by Luna at 1:11 (24351, 23855)\n",
            "> TL check - Nyaru killed by Luna at 1:11 (24351, 23855)\n",
            "> TL check - Nyaru killed by Luna at 1:11 (24351, 23855)\n",
            " > TL check - Nyaru HP at 1:18 [FAIL, PASS] =[20 vs 80]\n",
            " > TL check - Nyaru TP at 1:14 [FAIL, PASS] =[37 vs 63]\n"
          ],
          "name": "stdout"
        },
        {
          "output_type": "execute_result",
          "data": {
            "text/plain": [
              "Text(0.5, 0, 'Nyaru total damage / 1e4')"
            ]
          },
          "metadata": {
            "tags": []
          },
          "execution_count": 29
        },
        {
          "output_type": "display_data",
          "data": {
            "image/png": "[encoded data removed]",
            "text/plain": [
              "<Figure size 432x288 with 1 Axes>"
            ]
          },
          "metadata": {
            "tags": [],
            "needs_background": "light"
          }
        }
      ]
    },
    {
      "cell_type": "code",
      "metadata": {
        "colab": {
          "base_uri": "https://localhost:8080/"
        },
        "id": "5sBqLjxXaHLD",
        "outputId": "a18f2158-8cb1-45fe-e1ce-f8d6565b82cc"
      },
      "source": [
        "(24351-23885) * (1+NYARU['defence_magic']/100.) / 2.4\n"
      ],
      "id": "5sBqLjxXaHLD",
      "execution_count": 31,
      "outputs": [
        {
          "output_type": "execute_result",
          "data": {
            "text/plain": [
              "772.7833333333334"
            ]
          },
          "metadata": {
            "tags": []
          },
          "execution_count": 31
        }
      ]
    },
    {
      "cell_type": "code",
      "metadata": {
        "colab": {
          "base_uri": "https://localhost:8080/",
          "height": 295
        },
        "id": "s4izl6LqXOhi",
        "outputId": "86d05188-3d30-4cc1-9c9c-93026fdff5e1"
      },
      "source": [
        "# Optimize plots\n",
        "fig, ax = plt.subplots()\n",
        "pltKwargs = dict(histtype='stepfilled', alpha=0.3, density=True, bins=range(100,2500,10))\n",
        "histBefore115 = plt.hist(damageSumBefore115, **pltKwargs, label='Nyaru damage after 1:15 S1')\n",
        "hist115 = plt.hist(damageSum115, **pltKwargs, label='+ 1:15 UB')\n",
        "hist114 = plt.hist(damageSum114, **pltKwargs, label='+ 1:14 UB')\n",
        "histWHITE = plt.hist(damageSumWHITE, **pltKwargs, label='Damage to WHITE until 1:00')\n",
        "histWHITE_if = plt.hist(damageSumWHITE_if, **pltKwargs, label='Damage to WHITE until 1:00 (IF)')\n",
        "leg = ax.legend()\n",
        "plt.title('EX4 Nyaru total damge simulation (W-Neneka pattern)')\n",
        "plt.ylabel('Prob. Density')\n",
        "plt.xlabel('Nyaru total damage / 1e4')\n",
        "plt.savefig('pcr_ex4.png')"
      ],
      "id": "s4izl6LqXOhi",
      "execution_count": null,
      "outputs": [
        {
          "output_type": "display_data",
          "data": {
            "image/png": "[encoded data removed]",
            "text/plain": [
              "<Figure size 432x288 with 1 Axes>"
            ]
          },
          "metadata": {
            "tags": [],
            "needs_background": "light"
          }
        }
      ]
    },
    {
      "cell_type": "code",
      "metadata": {
        "colab": {
          "base_uri": "https://localhost:8080/"
        },
        "id": "cGihuIaz5_p-",
        "outputId": "f3bd9c6e-785a-4fb7-b8e4-0f690aa4770d"
      },
      "source": [
        "# Damage and buff check\n",
        "print(LunaS1(LUNA_4['attack'] + 6 *(LV_MAX +1), NYARU['defence_magic'], LUNA_4['critical'] ))\n",
        "print(nyaruUB(NYARU['attack'] + 19756, NYARU['critical']+180,0.15,enemyLv=400, lv=LV_MAX,detail=True, magic_defense=0))\n",
        "print((nunekaAttack + (10.5 + 28 + 10.5 + 2.5) *(LV_MAX+1) +1300) * 0.003)\n",
        "print(critical_rate(LUNA_4['critical'] + 30 + 70, LV_MAX))"
      ],
      "id": "cGihuIaz5_p-",
      "execution_count": null,
      "outputs": [
        {
          "output_type": "stream",
          "text": [
            "4787\n",
            "[15052, 60208, 215243.0]\n",
            "65.3805\n",
            "0.631\n"
          ],
          "name": "stdout"
        }
      ]
    },
    {
      "cell_type": "code",
      "metadata": {
        "colab": {
          "base_uri": "https://localhost:8080/"
        },
        "id": "eqyMCcQUk8tS",
        "outputId": "13e8c5df-836f-4e7a-c598-c3653fe2284c"
      },
      "source": [
        "# HP absord check\n",
        "print(14808/nyaruHpAbsorbRate)\n",
        "print(14808./1249290)\n",
        "print(3367./294031)"
      ],
      "id": "eqyMCcQUk8tS",
      "execution_count": null,
      "outputs": [
        {
          "output_type": "stream",
          "text": [
            "1248808.0\n",
            "0.011853132579305046\n",
            "0.011451173515717731\n"
          ],
          "name": "stdout"
        }
      ]
    },
    {
      "cell_type": "code",
      "metadata": {
        "colab": {
          "base_uri": "https://localhost:8080/"
        },
        "id": "JaAhKDyqPJCD",
        "outputId": "e8d0602b-36b4-4759-a54b-542f04164392"
      },
      "source": [
        "# Luna attack check (if crtical to kill Nyaru)\n",
        "LunaAttack115 = round(23115 / 2.4 * 3.88)\n",
        "overHP = (LunaAttack115 - (LUNA_4['attack'] - LUNA_3['attack']) + 6 * (LV_MAX +1))/ 3.88 * 2.4 - NYARU['hp']\n",
        "print(overHP + NYARU['hp'])\n",
        "LUNA_4['attack'] - LUNA_3['attack']\n",
        "testOverHP = 23656 - NYARU['hp']\n",
        "13873 - (testOverHP * 3.88 / 2.4) "
      ],
      "id": "JaAhKDyqPJCD",
      "execution_count": null,
      "outputs": [
        {
          "output_type": "stream",
          "text": [
            "23497.113402061852\n"
          ],
          "name": "stdout"
        },
        {
          "output_type": "execute_result",
          "data": {
            "text/plain": [
              "13586.85"
            ]
          },
          "metadata": {
            "tags": []
          },
          "execution_count": 14
        }
      ]
    }
  ]
}