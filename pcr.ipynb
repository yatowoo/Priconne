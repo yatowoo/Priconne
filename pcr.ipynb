{
 "cells": [
  {
   "cell_type": "code",
   "execution_count": 13,
   "metadata": {},
   "outputs": [],
   "source": [
    "from math import *\n",
    "from random import uniform as rng"
   ]
  },
  {
   "cell_type": "markdown",
   "metadata": {},
   "source": [
    "## Global data"
   ]
  },
  {
   "cell_type": "code",
   "execution_count": 15,
   "metadata": {},
   "outputs": [],
   "source": [
    "LV_MAX = 196\n",
    "HIT_DAMAGE_LIMIT = 999999"
   ]
  },
  {
   "cell_type": "markdown",
   "metadata": {},
   "source": [
    "### Character properties"
   ]
  },
  {
   "cell_type": "code",
   "execution_count": 5,
   "metadata": {},
   "outputs": [],
   "source": [
    "# Properties of Luna\n",
    "\n",
    "LUNA = {\n",
    "    'attack': 14799 + (240 + 15 * LV_MAX),\n",
    "    'critical': 1162,\n",
    "    'defence_phys': 214,\n",
    "    'defence_magic': 316,\n",
    "    'hp': 23708,\n",
    "    'tp_rise': 13,\n",
    "    'tp_rest': 28\n",
    "}\n",
    "\n",
    "LUNA_4 = {\n",
    "    'attack': 14237 + (240 + 15 * LV_MAX),\n",
    "    'critical': 1162,\n",
    "    'defence_phys': 190,\n",
    "    'defence_magic': 292,\n",
    "    'hp': 20217,\n",
    "    'tp_rise': 13,\n",
    "    'tp_rest': 28\n",
    "}\n",
    "\n",
    "LUNA_3 = {\n",
    "    'attack': 13673 + (240 + 15 * LV_MAX),\n",
    "    'critical': 1162,\n",
    "    'defence_phys': 163,\n",
    "    'defence_magic': 265,\n",
    "    'hp': 16723,\n",
    "    'tp_rise': 13,\n",
    "    'tp_rest': 28\n",
    "}\n",
    "\n",
    "\n",
    "# Properties of Nyaru\n",
    "\n",
    "NYARU = {\n",
    "    'attack': 15367 + (240 + 15 * LV_MAX),\n",
    "    'critical': 1367,\n",
    "    'defence_phys': 227,\n",
    "    'defence_magic': 23479,\n",
    "    'hp': 23479,\n",
    "    'tp_rise': 13,\n",
    "    'tp_rest': 17\n",
    "}\n",
    "\n",
    "NYARU_4 = {\n",
    "    'attack': 14792 + (240 + 15 * LV_MAX),\n",
    "    'critical': 1367,\n",
    "    'defence_phys': 201,\n",
    "    'defence_magic': 268,\n",
    "    'hp': 20041,\n",
    "    'tp_rise': 13,\n",
    "    'tp_rest': 17\n",
    "}\n",
    "\n",
    "NYARU_3 = {\n",
    "    'attack': 14217 + (240 + 15 * LV_MAX),\n",
    "    'critical': 1367,\n",
    "    'defence_phys': 172,\n",
    "    'defence_magic': 246,\n",
    "    'hp': 16599,\n",
    "    'tp_rise': 13,\n",
    "    'tp_rest': 17\n",
    "}"
   ]
  },
  {
   "cell_type": "markdown",
   "metadata": {},
   "source": [
    "### Skills and battle fomules"
   ]
  },
  {
   "cell_type": "code",
   "execution_count": 26,
   "metadata": {},
   "outputs": [],
   "source": [
    "def tp_integer(tp_orignal, tp_rise):\n",
    "    return round(tp_orignal * (1 + tp_rise/100.))\n",
    "\n",
    "def yukari_tp(tp_rise, lv = LV_MAX):\n",
    "    return round((75 + 2.5 *lv) * (1+tp_rise/100.))\n",
    "\n",
    "def miren_tp(tp_rise, lv = LV_MAX):\n",
    "    return round((250 + 1.35 * lv))\n",
    "\n",
    "def action_tp(tp_rise, lv = LV_MAX):\n",
    "    return round(90*(1+tp_rise/100.))\n",
    "\n",
    "def hurt_tp_magic(damage, role):\n",
    "    return hurt_tp(damage, role['hp'], role['defence_magic'],role['tp_rise'])\n",
    "\n",
    "def hurt_tp(damage, hp, defence, tp_rise):\n",
    "    return round(damage/(1+defence/100.) / hp * 500 * (1+tp_rise/100.))\n",
    "\n",
    "def LogBarrier(damage, threshold=850000, factor=100000):\n",
    "    if(damage < threshold):\n",
    "        return damage\n",
    "    else:\n",
    "        return (factor * log((damage-threshold)/factor + 1) + threshold)\n",
    "  \n",
    "def critical_rate(criVal, enemyLv, lv = LV_MAX):\n",
    "    return (0.05 * criVal / 100 * lv / enemyLv)\n",
    "\n",
    "def critical_damage(orignalDamage, rate, criticalCoeff = 2.0, criticalDamageBuff = 0.):\n",
    "    hit = 0\n",
    "    if(rng(0,1) < rate ):\n",
    "        hit = round(orignalDamage * criticalCoeff * (1 + criticalDamageBuff))\n",
    "    else:\n",
    "        hit = round(orignalDamage)\n",
    "    return min(HIT_DAMAGE_LIMIT, hit)\n",
    "\n",
    "def nyaruUB(atackWithBuff, criticalWithBuff, criticalDamageBuff = 0., enemyLv = LV_MAX, lv = LV_MAX, detail=False):\n",
    "    # split in 10 parts = 1/13 * 9 + 4/13\n",
    "    totalDamage = 0\n",
    "    orignalDamage = 60 * (LV_MAX + 1 ) + 4.8 * atackWithBuff\n",
    "    for i in ([1] * 9 + [4]):\n",
    "        totalDamage += critical_damage(orignalDamage*i/13, critical_rate(criticalWithBuff, enemyLv, lv), criticalCoeff = 2.0, criticalDamageBuff = 0.)\n",
    "    if detail:\n",
    "        return [round(orignalDamage * 1/13), round(orignalDamage * 4/13), totalDamage]\n",
    "    else:\n",
    "        return totalDamage"
   ]
  },
  {
   "cell_type": "code",
   "execution_count": 19,
   "metadata": {},
   "outputs": [
    {
     "name": "stdout",
     "output_type": "stream",
     "text": [
      "842\n",
      "177\n",
      "201694\n"
     ]
    }
   ],
   "source": [
    "print(action_tp(13)*2 + yukari_tp(13))\n",
    "print(hurt_tp_magic(LUNA['attack'], NYARU_3))"
   ]
  },
  {
   "cell_type": "markdown",
   "metadata": {},
   "source": [
    "### Test : Nyaru UB damage distribution"
   ]
  },
  {
   "cell_type": "code",
   "execution_count": 64,
   "metadata": {},
   "outputs": [
    {
     "data": {
      "image/png": "[encoded data removed]",
      "text/plain": [
       "<Figure size 432x288 with 1 Axes>"
      ]
     },
     "metadata": {
      "needs_background": "light"
     },
     "output_type": "display_data"
    }
   ],
   "source": [
    "ex4start = lambda x : nyaruUB(NYARU['attack'] + (28+10.5+10.5+20+6+18) * (LV_MAX +1) + 1308, NYARU['critical']+180,0.15,400)\n",
    "ex4start(0)\n",
    "import numpy as np\n",
    "import matplotlib.pyplot as plt\n",
    "ex4nyaru = lambda x : nyaruUB(NYARU['attack'] + x, NYARU['critical']+180,0.25,400)\n",
    "a = [ex4nyaru(1000000)/10000 for i in range(0,10000)]\n",
    "_ = plt.hist(a, bins='auto')"
   ]
  },
  {
   "cell_type": "code",
   "execution_count": 50,
   "metadata": {},
   "outputs": [
    {
     "data": {
      "text/plain": [
       "[15005, 60020, 300100]"
      ]
     },
     "execution_count": 50,
     "metadata": {},
     "output_type": "execute_result"
    }
   ],
   "source": [
    "nyaruUB(NYARU['attack'] + (28+10.5+10.5+20+6+18) * (LV_MAX +1) + 1308, NYARU['critical'],0.15,400, LV_MAX, True)"
   ]
  },
  {
   "cell_type": "markdown",
   "metadata": {},
   "source": [
    "### TP interger check"
   ]
  },
  {
   "cell_type": "code",
   "execution_count": 10,
   "metadata": {},
   "outputs": [
    {
     "name": "stdout",
     "output_type": "stream",
     "text": [
      "1.10 118.69 118.80\n",
      "1.11 119.77 119.88\n",
      "1.12 120.85 120.96\n",
      "1.13 121.93 122.04\n",
      "1.14 123.01 123.12\n",
      "1.15 124.09 124.20\n",
      "1.16 125.16 125.28\n",
      "1.17 126.24 126.36\n",
      "1.18 127.32 127.44\n",
      "1.19 128.40 128.52\n",
      "1.20 129.48 129.60\n",
      "1.21 130.56 130.68\n",
      "1.22 131.64 131.76\n",
      "1.23 132.72 132.84\n",
      "1.24 133.80 133.92\n",
      "1.25 134.88 135.00\n",
      "1.26 135.95 136.08\n",
      "1.27 137.03 137.16\n",
      "1.28 138.11 138.24\n",
      "1.29 139.19 139.32\n"
     ]
    }
   ],
   "source": [
    "tp_cache = 1.10\n",
    "tp_charge = 107.9\n",
    "tp_charge_int = 108\n",
    "\n",
    "for i in range(0,20):\n",
    "    tp_up_tmp = tp_cache + 0.01 * i\n",
    "    print('%.2f %.2f %.2f' % (tp_up_tmp, tp_charge * tp_up_tmp, tp_charge_int * tp_up_tmp))"
   ]
  },
  {
   "cell_type": "markdown",
   "metadata": {},
   "source": [
    "## Damage limit with log barrier"
   ]
  },
  {
   "cell_type": "markdown",
   "metadata": {},
   "source": [
    "Example: Kaya vs b1 2021/01, [video](https://www.youtube.com/watch?v=DA6hy8W1RTQ)"
   ]
  },
  {
   "cell_type": "code",
   "execution_count": 11,
   "metadata": {},
   "outputs": [
    {
     "name": "stdout",
     "output_type": "stream",
     "text": [
      "856262 856074 856088\n"
     ]
    }
   ],
   "source": [
    "eff_lv = 187\n",
    "kaya_attack = 17337\n",
    "damage_final = 856088\n",
    "buff_miren = (18+2.5) * (eff_lv +1)\n",
    "buff_self = (20 *2 + 72) * (1 + eff_lv)\n",
    "\n",
    "damage = (120 * (eff_lv +1 ) + 9.6 * (kaya_attack + buff_miren + buff_self)) *2\n",
    "print(int(damage), int(LogBarrier(damage)), int (damage_final))"
   ]
  },
  {
   "cell_type": "code",
   "execution_count": null,
   "metadata": {},
   "outputs": [],
   "source": [
    "critical_rate()"
   ]
  }
 ],
 "metadata": {
  "kernelspec": {
   "display_name": "Python 3",
   "language": "python",
   "name": "python3"
  },
  "language_info": {
   "codemirror_mode": {
    "name": "ipython",
    "version": 3
   },
   "file_extension": ".py",
   "mimetype": "text/x-python",
   "name": "python",
   "nbconvert_exporter": "python",
   "pygments_lexer": "ipython3",
   "version": "3.8.5"
  }
 },
 "nbformat": 4,
 "nbformat_minor": 5
}
