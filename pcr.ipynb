{
  "nbformat": 4,
  "nbformat_minor": 5,
  "metadata": {
    "kernelspec": {
      "display_name": "Python 3",
      "language": "python",
      "name": "python3"
    },
    "language_info": {
      "codemirror_mode": {
        "name": "ipython",
        "version": 3
      },
      "file_extension": ".py",
      "mimetype": "text/x-python",
      "name": "python",
      "nbconvert_exporter": "python",
      "pygments_lexer": "ipython3",
      "version": "3.8.5"
    },
    "colab": {
      "name": "pcr.ipynb",
      "provenance": [],
      "include_colab_link": true
    }
  },
  "cells": [
    {
      "cell_type": "markdown",
      "metadata": {
        "id": "view-in-github",
        "colab_type": "text"
      },
      "source": [
        "<a href=\"https://colab.research.google.com/github/yatowoo/Priconne/blob/main/pcr.ipynb\" target=\"_parent\"><img src=\"https://colab.research.google.com/assets/colab-badge.svg\" alt=\"Open In Colab\"/></a>"
      ]
    },
    {
      "cell_type": "markdown",
      "metadata": {
        "id": "gaSMmfPclzx-"
      },
      "source": [
        "## Global data"
      ],
      "id": "gaSMmfPclzx-"
    },
    {
      "cell_type": "code",
      "metadata": {
        "id": "XW4InokTPggl"
      },
      "source": [
        "from math import *\n",
        "from random import uniform as rng\n",
        "import numpy as np\n",
        "import matplotlib.pyplot as plt\n",
        "from copy import deepcopy as cp_dict"
      ],
      "id": "XW4InokTPggl",
      "execution_count": 1,
      "outputs": []
    },
    {
      "cell_type": "code",
      "metadata": {
        "id": "VXAF_spQlzyA"
      },
      "source": [
        "LV_MAX = 199\n",
        "HIT_DAMAGE_LIMIT = 999999"
      ],
      "id": "VXAF_spQlzyA",
      "execution_count": 2,
      "outputs": []
    },
    {
      "cell_type": "markdown",
      "metadata": {
        "id": "XeWPW48qlzyB"
      },
      "source": [
        "### Character properties"
      ],
      "id": "XeWPW48qlzyB"
    },
    {
      "cell_type": "code",
      "metadata": {
        "id": "oZf731YYlzyB"
      },
      "source": [
        "# Properties of Luna\n",
        "\n",
        "LUNA = {\n",
        "    'attack': 15666 + (240 + 15 * LV_MAX),\n",
        "    'critical': 1332,\n",
        "    'defence_phys': 222,\n",
        "    'defence_magic': 326,\n",
        "    'hp': 24090,\n",
        "    'tp_boost': 13,\n",
        "    'tp_retain': 28\n",
        "}\n",
        "\n",
        "LUNA_4 = {\n",
        "    'attack': 15093 + (15 + 15 * LV_MAX),\n",
        "    'critical': 1332,\n",
        "    'defence_phys': 198,\n",
        "    'defence_magic': 302,\n",
        "    'hp': 20535,\n",
        "    'tp_boost': 13,\n",
        "    'tp_retain': 28\n",
        "}\n",
        "\n",
        "LUNA_3 = {\n",
        "    'attack': 14519 + (15 + 15 * LV_MAX),\n",
        "    'critical': 1332,\n",
        "    'defence_phys': 171,\n",
        "    'defence_magic': 275,\n",
        "    'hp': 16977,\n",
        "    'tp_boost': 13,\n",
        "    'tp_retain': 28\n",
        "}\n",
        "\n",
        "\n",
        "# Properties of Nyaru\n",
        "\n",
        "NYARU = {\n",
        "    'attack': 16235 + (240 + 15 * LV_MAX),\n",
        "    'critical': 1367,\n",
        "    'defence_phys': 236,\n",
        "    'defence_magic': 298,\n",
        "    'hp': 23855,\n",
        "    'tp_boost': 13,\n",
        "    'tp_retain': 17\n",
        "}\n",
        "\n",
        "NYARU_4 = {\n",
        "    'attack': 15649 + (15 + 15 * LV_MAX),\n",
        "    'critical': 1537,\n",
        "    'defence_phys': 209,\n",
        "    'defence_magic': 278,\n",
        "    'hp': 20354,\n",
        "    'tp_boost': 13,\n",
        "    'tp_retain': 17\n",
        "}\n",
        "\n",
        "NYARU_3 = {\n",
        "    'attack': 15064 + (15 + 15 * LV_MAX),\n",
        "    'critical': 1537,\n",
        "    'defence_phys': 180,\n",
        "    'defence_magic': 256,\n",
        "    'hp': 16850,\n",
        "    'tp_boost': 13,\n",
        "    'tp_retain': 17\n",
        "}\n",
        "\n",
        "# Nuneka\n",
        "# Rank 12, TP equip ONLY, 12-1/3 + 12-3/5\n",
        "NUNEKA_ATTACK = 7219 + (240 + 15 * LV_MAX)"
      ],
      "id": "oZf731YYlzyB",
      "execution_count": 3,
      "outputs": []
    },
    {
      "cell_type": "markdown",
      "metadata": {
        "id": "g02XTi2VlzyD"
      },
      "source": [
        "### Skills and battle fomules"
      ],
      "id": "g02XTi2VlzyD"
    },
    {
      "cell_type": "code",
      "metadata": {
        "id": "tOkzg610lzyE"
      },
      "source": [
        "def buff(buffCoef, lv = LV_MAX):\n",
        "  return buffCoef * (lv + 1)\n",
        "\n",
        "def tp_integer(tp_orignal, tp_boost):\n",
        "  return round(tp_orignal * (1 + tp_boost/100.))\n",
        "\n",
        "def yukari_tp(tp_boost, lv = LV_MAX):\n",
        "  return tp_integer(75 + 2.5 *lv, tp_boost)\n",
        "\n",
        "def miren_tp(tp_boost, lv = LV_MAX):\n",
        "  return tp_integer(250 + 1.35 * lv, tp_boost)\n",
        "\n",
        "def uzuki_tp(tp_boost, lv = LV_MAX):\n",
        "  return tp_integer(50 + 0.3 * lv, tp_boost)\n",
        "\n",
        "def nuneka_tp(tp_boost, lv = LV_MAX):\n",
        "  return tp_integer(18 + 0.6 * lv, tp_boost)\n",
        "\n",
        "def action_tp(tp_boost):\n",
        "  return tp_integer(90, tp_boost)\n",
        "\n",
        "def kill_tp(tp_boost):\n",
        "  return tp_integer(200, tp_boost)\n",
        "\n",
        "def hurt_tp_magic(damage, role):\n",
        "  return hurt_tp(damage, role['hp'], role['defence_magic'],role['tp_boost'])\n",
        "\n",
        "def hurt_tp(damage, hp, defence, tp_boost):\n",
        "  return tp_integer(damage/(1+defence/100.) / hp * 500, tp_boost)\n",
        "\n",
        "def hurt_for_UB(nActions, tpBoost, tpRetain, hpMAX, defence, otherTP = 0):\n",
        "  tpAction = nActions * action_tp(tpBoost)\n",
        "  dTP = 1000 - 1000 * tpRetain / 100 - tpAction - otherTP\n",
        "  return dTP / 500 * hpMAX / (1+tpBoost/100.) * (1+ defence/100.)\n",
        "\n",
        "def LogBarrier(damage, threshold=850000, factor=100000):\n",
        "    if(damage < threshold):\n",
        "        return damage\n",
        "    else:\n",
        "        return (factor * log((damage-threshold)/factor + 1) + threshold)\n",
        "  \n",
        "def critical_rate(criVal, enemyLv, lv = LV_MAX):\n",
        "    return (0.05 * criVal / 100 * lv / enemyLv)\n",
        "\n",
        "def critical_damage(orignalDamage, rate, criticalDamageBuff = 0., criticalCoeff = 2.0, defense = 0, logBarrier=False):\n",
        "    hit = 0\n",
        "    if(rng(0,1) < rate ):\n",
        "        hit = round(orignalDamage * criticalCoeff * (1 + criticalDamageBuff))\n",
        "    else:\n",
        "        hit = round(orignalDamage)\n",
        "    if(logBarrier):\n",
        "      hit = LogBarrier(hit)\n",
        "    return min(HIT_DAMAGE_LIMIT, round(hit / (1+defense/100.)))\n",
        "\n",
        "NYARU_UB_BUFF_COEFF = 0.1125\n",
        "def nyaruUB(attackWithBuff, criticalWithBuff, criticalDamageBuff = 0.,\n",
        "            enemyLv = LV_MAX, lv = LV_MAX,\n",
        "            detail=False, magic_defense = 0, logBarrier=False):\n",
        "    # split in 10 parts = 1/13 * 9 + 4/13\n",
        "    orignalDamage = 60 * (LV_MAX + 1 ) + 4.8 * attackWithBuff\n",
        "    hits = []\n",
        "    for i in ([1] * 9 + [4]):\n",
        "      hit = critical_damage(orignalDamage*i/13, critical_rate(criticalWithBuff, enemyLv, lv), criticalDamageBuff, defense=magic_defense)\n",
        "      hits.append(hit)\n",
        "    totalDamage = sum(hits)\n",
        "    if(logBarrier):\n",
        "      effectDamage = LogBarrier(totalDamage)\n",
        "      ratio = effectDamage / totalDamage\n",
        "      effectDamage = sum([round(hit * ratio) for hit in hits])\n",
        "    else:\n",
        "      effectDamage = round(totalDamage)\n",
        "    if detail:\n",
        "        return [round(orignalDamage * 1/13), round(orignalDamage * 4/13), effectDamage]\n",
        "    else:\n",
        "        return effectDamage\n",
        "\n",
        "def NyaruS1(attackWithBuff, enemyDefense, criticalWithBuff, criticalDamageBuff =0., enemyLv = LV_MAX, lv = LV_MAX, logBarrier=False):\n",
        "   original = 27 * (LV_MAX + 1) + 2.1 * attackWithBuff\n",
        "   damage = critical_damage(original, critical_rate(criticalWithBuff, enemyLv, lv), criticalDamageBuff, defense = enemyDefense, logBarrier=logBarrier)\n",
        "   return damage\n",
        "\n",
        "def LunaS1(attackWithBuff, enemyDefense, criticalWithBuff, criticalDamageBuff = 0., enemyLv = LV_MAX, lv = LV_MAX):\n",
        "    return round(critical_damage(attackWithBuff, critical_rate(criticalWithBuff, enemyLv, lv), criticalDamageBuff, defense=enemyDefense))\n"
      ],
      "id": "tOkzg610lzyE",
      "execution_count": 74,
      "outputs": []
    },
    {
      "cell_type": "markdown",
      "metadata": {
        "id": "r-3PdNkBlzyH"
      },
      "source": [
        "#### Test : Nyaru UB damage distribution\n",
        "Nyaru's UB is splitted into 10 hits, including the first 9 hits took 1/13 damage and the last hit took 4/13. For simplicity, I suppose the critical for each hit is calculated independently. "
      ],
      "id": "r-3PdNkBlzyH"
    },
    {
      "cell_type": "code",
      "metadata": {
        "colab": {
          "base_uri": "https://localhost:8080/",
          "height": 280
        },
        "id": "hhS82fQ3lzyI",
        "outputId": "e83277f7-4f37-4aab-9f28-052bb5ff6251"
      },
      "source": [
        "nyaruTest = lambda x : nyaruUB(NYARU['attack'] + x, NYARU['critical']+180,0.25,400)\n",
        "a = [nyaruTest(100000) for i in range(0,10000)]\n",
        "_ = plt.hist(a, bins='auto')"
      ],
      "id": "hhS82fQ3lzyI",
      "execution_count": 5,
      "outputs": [
        {
          "output_type": "display_data",
          "data": {
            "image/png": "[encoded data removed]",
            "text/plain": [
              "<Figure size 432x288 with 1 Axes>"
            ]
          },
          "metadata": {
            "tags": [],
            "needs_background": "light"
          }
        }
      ]
    },
    {
      "cell_type": "markdown",
      "metadata": {
        "id": "idebBK_fpxOi"
      },
      "source": [
        "Nyaru UB to reach digit barrier without log barrier. Require around **24M** damage by UB in last 18 seconds."
      ],
      "id": "idebBK_fpxOi"
    },
    {
      "cell_type": "code",
      "metadata": {
        "colab": {
          "base_uri": "https://localhost:8080/"
        },
        "id": "2dQw1gmulzyK",
        "outputId": "76fa3174-e428-420a-c23f-7f2e6313965a"
      },
      "source": [
        "totalDamageIn18s = (999999*13/4.8-NYARU['attack'])/NYARU_UB_BUFF_COEFF\n",
        "d = nyaruUB(NYARU['attack'] + totalDamageIn18s*NYARU_UB_BUFF_COEFF, NYARU['critical'],0.15,400, LV_MAX, True)\n",
        "print(d)\n",
        "print(d[0]*9 + 999999)\n",
        "print(totalDamageIn18s)"
      ],
      "id": "2dQw1gmulzyK",
      "execution_count": 6,
      "outputs": [
        {
          "output_type": "stream",
          "text": [
            "[1000922, 4003688, 9999990]\n",
            "10008297\n",
            "23901072.22222222\n"
          ],
          "name": "stdout"
        }
      ]
    },
    {
      "cell_type": "markdown",
      "metadata": {
        "id": "aRZ5R_zpqgDQ"
      },
      "source": [
        "#### Test: Damage needed for UB "
      ],
      "id": "aRZ5R_zpqgDQ"
    },
    {
      "cell_type": "code",
      "metadata": {
        "id": "DSM41nwzqfGr",
        "colab": {
          "base_uri": "https://localhost:8080/"
        },
        "outputId": "04961131-5665-42b6-fe80-7d02f58daa73"
      },
      "source": [
        "# Nyaru with Yukari and Luna at 1:18\n",
        "print('Hit4UB, LunaATK, BuffCoef')\n",
        "for chara in [NYARU, NYARU_4, NYARU_3]:\n",
        "  hurtNyaru = round( hurt_for_UB(2, chara['tp_boost'], 0, chara['hp'], chara['defence_magic'], yukari_tp(chara['tp_boost'])))\n",
        "  buffNeeded = round( (hurtNyaru-LUNA['attack'])/(LV_MAX+1) )\n",
        "  print(hurtNyaru, LUNA['attack'], buffNeeded, sep=' , ')"
      ],
      "id": "DSM41nwzqfGr",
      "execution_count": 7,
      "outputs": [
        {
          "output_type": "stream",
          "text": [
            "Hit4UB, LunaATK, BuffCoef\n",
            "25038 , 18891 , 31\n",
            "20290 , 18891 , 7\n",
            "15819 , 18891 , -15\n"
          ],
          "name": "stdout"
        }
      ]
    },
    {
      "cell_type": "markdown",
      "metadata": {
        "id": "hGDG7NoclzyL"
      },
      "source": [
        "### TP interger check"
      ],
      "id": "hGDG7NoclzyL"
    },
    {
      "cell_type": "code",
      "metadata": {
        "colab": {
          "base_uri": "https://localhost:8080/"
        },
        "id": "sB6IdQ7MlzyS",
        "outputId": "494fbfea-a490-442d-cd10-04dd7245a0e2"
      },
      "source": [
        "# Miren, Uzuki TP charge\n",
        "print(\"TP Boost\\tAction\\tMiren\\tUzuki\")\n",
        "for tp_boost in [6, 8, 11, 13, 16, 21, 26, 28, 31, 33, 34, 35, 36, 39, 40, 43, 46, 50, 54, 56, 66]:\n",
        "    print(\"%d\\t%d\\t%d\\t%d\" % (tp_boost, action_tp(tp_boost), miren_tp(tp_boost), uzuki_tp(tp_boost+8)))"
      ],
      "id": "sB6IdQ7MlzyS",
      "execution_count": 12,
      "outputs": [
        {
          "output_type": "stream",
          "text": [
            "TP Boost\tAction\tMiren\tUzuki\n",
            "6\t95\t550\t125\n",
            "8\t97\t560\t127\n",
            "11\t100\t576\t131\n",
            "13\t102\t586\t133\n",
            "16\t104\t602\t136\n",
            "21\t109\t628\t142\n",
            "26\t113\t653\t147\n",
            "28\t115\t664\t149\n",
            "31\t118\t679\t152\n",
            "33\t120\t690\t155\n",
            "34\t121\t695\t156\n",
            "35\t122\t700\t157\n",
            "36\t122\t705\t158\n",
            "39\t125\t721\t161\n",
            "40\t126\t726\t162\n",
            "43\t129\t742\t166\n",
            "46\t131\t757\t169\n",
            "50\t135\t778\t173\n",
            "54\t139\t799\t178\n",
            "56\t140\t809\t180\n",
            "66\t149\t861\t191\n"
          ],
          "name": "stdout"
        }
      ]
    },
    {
      "cell_type": "markdown",
      "metadata": {
        "id": "q-4G2bn5LXra"
      },
      "source": [
        "## Timeline simulation\n",
        "\n",
        "Timeline:\n",
        "* Objects: Characters, Boss(es), Summon(s)\n",
        "* Properties: Initial stats, Skill/Actions (formula, animation and loop)\n",
        "* Status: HP/TP for each object\n",
        "* Status recorder: for each object and overall player objects, store array of delta value of properties with function object and timestamp of start and end"
      ],
      "id": "q-4G2bn5LXra"
    },
    {
      "cell_type": "code",
      "metadata": {
        "id": "Q9_3IZYuWIzu"
      },
      "source": [
        "# Class: Status recorder\n",
        "# Data: LIST for delta information (DICT)\n",
        "# Methods: input object, TIMESTAMP and properties, return accumulated buff/debuff and current status\n",
        "# Status change (buff/debuff): \n",
        "#   physic_attack, magic_attack\n",
        "#   physic_defence, magic_defence\n",
        "#   physic_critical, magic_critical, physical_critical_damage, magic_critical_damage\n",
        "#   TP boost\n",
        "#   speed (final value, not delta)\n",
        "#   field (overlap?)\n",
        "#   Other: HP drain rate, HOT/DOT\n",
        "#   Info: caster, target (name/ID), timestamp (start/end) [seconds or frame?]\n",
        "\n",
        "class StatusRecorder:\n",
        "  STATS_NAME = ['atk_phy', 'atk_mag', 'def_phy', 'def_mag', 'crit_phy', 'crit_mag', 'crit_damgage_phy', 'crit_damage_mag','tp_boost','speed']\n",
        "  INFO_NAME = ['caster', 'target', 'start', 'stop', 'duration']\n",
        "  party = []\n",
        "  status_delta = []\n",
        "  status_delta_template = {}\n",
        "  def __init__(self, party):\n",
        "    self.status_delta = []\n",
        "    self.party = party\n",
        "  # Input check and change function object abbr to list\n",
        "  def append(self, newStatusChange):\n",
        "    # Argument type check\n",
        "    if(type(newStatusChange) is not dict or not bool(newStatusChange)):\n",
        "      print('[X] Argument error - require dict with stats name and value - from StatusRecorder.append')\n",
        "      return False\n",
        "    delta =cp_dict(newStatusChange)\n",
        "    # Name check\n",
        "    for k in delta.keys():\n",
        "      if(k not in self.STATS_NAME + self.INFO_NAME):\n",
        "        print('[X] Argument error - can not find key ' + repr(k) + ' - from StatusRecorder.append')\n",
        "        return False\n",
        "    # Target check\n",
        "    tgt = delta['target']\n",
        "    if(type(tgt) is not list):\n",
        "      if(tgt is 'all'):\n",
        "        delta['target'] = self.party\n",
        "      elif(tgt in self.party):\n",
        "          delta['target'] = [tgt]\n",
        "      else:\n",
        "        print('[X] Argument error - can not find target ' +repr(tgt) + ' in current party ' + repr(self.party) + '- from StatusRecorder.append')\n",
        "    else:\n",
        "      for name in tgt:\n",
        "        if(name not in self.party):\n",
        "          print('[X] Argument error - can not find target ' +repr(name) + ' in current party ' + repr(self.party) + '- from StatusRecorder.append')\n",
        "    # End time\n",
        "    delta['stop'] = delta['start'] - delta['duration']\n",
        "    self.status_delta.append(delta)\n",
        "    return True\n",
        "  def addAtkBuff(self, buffValue, timestamp, duration=12, buffCritical = 0, buffCritDamage=0, buffType='phy', target='all', caster=None):\n",
        "    delta = {'start': timestamp, 'stop': timestamp - duration, 'duration': duration, 'target': target, 'caster': caster}\n",
        "    if(buffType is 'phy'):\n",
        "      delta['atk_phy'] = buffValue\n",
        "      delta['crit_phy'] = buffCritical\n",
        "      delta['crit_damage_phy'] = buffCritDamage\n",
        "    elif(buffType is 'mag'):\n",
        "      delta['atk_mag'] = buffValue\n",
        "      delta['crit_mag'] = buffCritical\n",
        "      delta['crit_damage_mag'] = buffCritDamage\n",
        "    else:\n",
        "      print('[X] Input buff type error - ', buffType, ' not defined - from StatusRecorder.addAtkBuff')\n",
        "      return\n",
        "    return self.append(delta)\n",
        "  def getStatus(self, initStats, target, timestamp=90, statsKey='all'):\n",
        "    nowStats = cp_dict(initStats)\n",
        "    for delta in self.status_delta:\n",
        "      if(delta['stop'] > timestamp or target not in delta['target']):\n",
        "        continue\n",
        "      for k in [name for name in delta.keys() if name not in self.INFO_NAME]:\n",
        "        nowStats[k] += delta[k]\n",
        "    if(statsKey is 'all'):\n",
        "      return nowStats\n",
        "    else:\n",
        "      return nowStats[statsKey]\n",
        "# END - Class definition"
      ],
      "id": "Q9_3IZYuWIzu",
      "execution_count": 16,
      "outputs": []
    },
    {
      "cell_type": "markdown",
      "metadata": {
        "id": "_zDjpJlsCvae"
      },
      "source": [
        "### Test : class StatusRecorder\n",
        "\n",
        "Case: 2020/05, C4 [video from Hanmario](https://youtu.be/n0Ht7fAF744)\n",
        "\n",
        "Party: Yukari, Anna, Akari, Nyaru, Luna\n",
        "\n",
        "**ISSUE**: Damage difference with Nyaru UB at 0:30, (video) 1194154 vs 1188894 (simulation)\n",
        "```\n",
        "TL\n",
        "118　にゃる\n",
        "116　アカリ\n",
        "115　にゃる　通常後\n",
        "110　にゃる　フィールドキャンセル\n",
        "104　にゃる　バレット後\n",
        "102　ルナ\n",
        "053　ユカリ\n",
        "048　アカリ\n",
        "047　にゃる\n",
        "　　　にゃる\n",
        "031　にゃる　ムンラ\n",
        "　　　ユカリ\n",
        "　　　にゃる　ソルコン\n",
        "　　　ルナ\n",
        "025　にゃるバレット討伐？足りないならアンナUB\n",
        "```"
      ],
      "id": "_zDjpJlsCvae"
    },
    {
      "cell_type": "code",
      "metadata": {
        "colab": {
          "base_uri": "https://localhost:8080/"
        },
        "id": "Ofs-rgk4C3KR",
        "outputId": "5dde3511-ed95-4567-a228-ee45d7545f80"
      },
      "source": [
        "statsRec = StatusRecorder(['yukari', 'anna', 'akari', 'nyaru', 'luna'])\n",
        "luna = LUNA\n",
        "nyaru = NYARU_3\n",
        "nyaruInit = {'atk_mag':nyaru['attack'], 'crit_mag':nyaru['critical'], 'crit_damage_mag': 0}\n",
        "bossC4_level = 115\n",
        "damage_nyaru = []\n",
        "\n",
        "DEBUG_FLAG = True\n",
        "def HitNyaruUB(timestamp, debug=False):\n",
        "  nyaruNow = statsRec.getStatus(nyaruInit, 'nyaru', timestamp)\n",
        "  hits = nyaruUB(nyaruNow['atk_mag'], nyaruNow['crit_mag'], nyaruNow['crit_damage_mag'], enemyLv=bossC4_level, detail=True, logBarrier=True)\n",
        "  if(debug or DEBUG_FLAG):\n",
        "    print('Time ' + repr(timestamp) + 's : Nyaru UB - ' +repr(hits))\n",
        "  damage = hits[2]\n",
        "  statsRec.addAtkBuff(buff(10) + round(damage * NYARU_UB_BUFF_COEFF), timestamp, duration=18, buffType='mag', target='nyaru')\n",
        "  damage_nyaru.append(damage)\n",
        "  return round(damage)\n",
        "def HitNyaruAttack(timestamp, debug=False):\n",
        "  nyaruNow = statsRec.getStatus(nyaruInit, 'nyaru', timestamp)\n",
        "  hits = critical_damage(nyaruNow['atk_mag'],\n",
        "                         critical_rate(nyaruNow['crit_mag'], bossC4_level), nyaruNow['crit_damage_mag'], logBarrier=True)\n",
        "  if(debug or DEBUG_FLAG):\n",
        "    print('Time ' + repr(timestamp) + 's : Nyaru attack - ' +repr(hits))\n",
        "  damage_nyaru.append(hits)\n",
        "  return hits\n",
        "def HitNyaruS1(timestamp, defence=0, debug=False):\n",
        "  nyaruNow = statsRec.getStatus(nyaruInit, 'nyaru', timestamp)\n",
        "  hits = NyaruS1(nyaruNow['atk_mag'], defence, nyaruNow['crit_mag'], enemyLv=bossC4_level, logBarrier=True)\n",
        "  if(debug or DEBUG_FLAG):\n",
        "    print('Time ' + repr(timestamp) + 's : Nyaru S1 - ' +repr(hits))\n",
        "  damage_nyaru.append(hits)\n",
        "  return hits\n",
        "\n",
        "# Timeline\n",
        "HitLunaS1 = lambda x, y : statsRec.addAtkBuff(buff(7.5), timestamp=x, buffCritical=100, buffType='mag', target=y)\n",
        "#1:23 Nyaru S2\n",
        "statsRec.addAtkBuff(buff(6), 83, buffType='mag')\n",
        "#1:18 Luna S1\n",
        "HitNyaruUB(78)\n",
        "HitLunaS1(78, 'nyaru')\n",
        "#1:16 Akari UB\n",
        "statsRec.addAtkBuff(buff(24), 76, 18, 100, buffType='mag')\n",
        "HitNyaruAttack(75)\n",
        "HitNyaruUB(75)\n",
        "HitNyaruS1(72)\n",
        "#1:11 Luna S1\n",
        "HitLunaS1(71, 'nyaru')\n",
        "HitNyaruUB(70)\n",
        "HitNyaruAttack(67)\n",
        "HitNyaruS1(64) # 917311\n",
        "#1:04 Luna S1\n",
        "HitLunaS1(64, 'nyaru')\n",
        "HitNyaruUB(64)\n",
        "HitNyaruAttack(60) # 700164\n",
        "HitNyaruAttack(57) # 636552\n",
        "HitNyaruS1(53, defence=130) # 476597, boss debuff=0.8, rest defence=290-200*0.8=130\n",
        "#0:51 Nyaru S2\n",
        "statsRec.addAtkBuff(buff(6), 51, buffType='mag')\n",
        "#0:48 Akari UB\n",
        "statsRec.addAtkBuff(buff(24), 48, 18, 100, buffType='mag')\n",
        "HitNyaruUB(47)\n",
        "HitLunaS1(47,'nyaru')\n",
        "HitNyaruUB(47)\n",
        "HitNyaruS1(44) # 993747\n",
        "HitNyaruAttack(41) # 552476\n",
        "HitNyaruAttack(36) # 550076\n",
        "HitNyaruS1(33) # 991016\n",
        "HitNyaruUB(31)\n",
        "HitLunaS1(30,'nyaru')\n",
        "HitNyaruUB(30)\n",
        "HitNyaruAttack(28) # 573310\n",
        "HitNyaruS1(25) # 999999\n",
        "# Results\n",
        "STATS_NYARU_VIDEO = 15757521\n",
        "simDamageNyaru = sum(damage_nyaru)\n",
        "errorTotal = (simDamageNyaru - STATS_NYARU_VIDEO) / float(STATS_NYARU_VIDEO)\n",
        "print('Simulation result (Nyaru total damage) : %d vs %d, error=%.2f%%' % (simDamageNyaru, STATS_NYARU_VIDEO, errorTotal*100))"
      ],
      "id": "Ofs-rgk4C3KR",
      "execution_count": 79,
      "outputs": [
        {
          "output_type": "stream",
          "text": [
            "Time 78s : Nyaru UB - [8036, 32144, 208936]\n",
            "Time 75s : Nyaru attack - 102138\n",
            "Time 75s : Nyaru UB - [19779, 79117, 514266]\n",
            "Time 72s : Nyaru S1 - 476681\n",
            "Time 70s : Nyaru UB - [41990, 167962, 972893]\n",
            "Time 67s : Nyaru attack - 445348\n",
            "Time 64s : Nyaru S1 - 914044\n",
            "Time 64s : Nyaru UB - [83141, 332565, 1114737]\n",
            "Time 60s : Nyaru attack - 700164\n",
            "Time 57s : Nyaru attack - 636554\n",
            "Time 53s : Nyaru S1 - 423555\n",
            "Time 47s : Nyaru UB - [56851, 227405, 1048530]\n",
            "Time 47s : Nyaru UB - [101698, 406792, 1144132]\n",
            "Time 44s : Nyaru S1 - 993747\n",
            "Time 41s : Nyaru attack - 552478\n",
            "Time 36s : Nyaru attack - 550078\n",
            "Time 33s : Nyaru S1 - 991017\n",
            "Time 31s : Nyaru UB - [101922, 407688, 1144442]\n",
            "Time 30s : Nyaru UB - [150753, 603011, 1188894]\n",
            "Time 28s : Nyaru attack - 572130\n",
            "Time 25s : Nyaru S1 - 999999\n",
            "Simulation result (Nyaru total damage) : 15694763 vs 15757521, error=-0.40%\n"
          ],
          "name": "stdout"
        }
      ]
    },
    {
      "cell_type": "markdown",
      "metadata": {
        "id": "M7zoFGE0lzyT"
      },
      "source": [
        "## Damage limit with log barrier\n",
        "After the Nyaru shock in the clan battle of 2020/01, Cygames decided to add a new limitation sign for all the bossed under clan battle mode. According to unpaced data from server, the mechanism is deployed with a simple logarithm for damage above threshold, so called **'log barrier**'.\n",
        "\n",
        "The logarithm can be manipulated with two parameters, threshold and attenuation coefficient. Latest value in 2021/04 is **850,000** and 100,000."
      ],
      "id": "M7zoFGE0lzyT"
    },
    {
      "cell_type": "markdown",
      "metadata": {
        "id": "xWzRxfAHlzyU"
      },
      "source": [
        "### Example: Kaya vs Wyvern (2nd phase) 2021/01\n",
        "[video](https://www.youtube.com/watch?v=DA6hy8W1RTQ) from たつきちゃん"
      ],
      "id": "xWzRxfAHlzyU"
    },
    {
      "cell_type": "code",
      "metadata": {
        "id": "vK3mXpOalzyU",
        "colab": {
          "base_uri": "https://localhost:8080/"
        },
        "outputId": "a2e6b05f-fbcd-4c47-8cb4-afc93cb49efa"
      },
      "source": [
        "eff_lv = 187\n",
        "kaya_attack = 17337\n",
        "damage_final = 856088\n",
        "buff_miren = (18+2.5) * (eff_lv +1)\n",
        "buff_self = (20 *2 + 72) * (1 + eff_lv)\n",
        "\n",
        "damage = (120 * (eff_lv +1 ) + 9.6 * (kaya_attack + buff_miren + buff_self)) *2\n",
        "print(int(damage), int(LogBarrier(damage)), int (damage_final))"
      ],
      "id": "vK3mXpOalzyU",
      "execution_count": 28,
      "outputs": [
        {
          "output_type": "stream",
          "text": [
            "856262 856074 856088\n"
          ],
          "name": "stdout"
        }
      ]
    },
    {
      "cell_type": "markdown",
      "metadata": {
        "id": "Z9qItCDa_kN7"
      },
      "source": [
        "### UB with multi-hits\n",
        "The method for multi-hit UB is still unclear. Here I suppose the possible process: \n",
        "1.   compute original damage without critical\n",
        "2.   divide the orignal damage into hits\n",
        "3.   define critical flags for hits\n",
        "4.   sum the total damge and apply log barrier\n",
        "5.   get a ratio of the total damage before and after\n",
        "6.   apply the ratio to each hit"
      ],
      "id": "Z9qItCDa_kN7"
    },
    {
      "cell_type": "markdown",
      "metadata": {
        "id": "cAWZ8Zq4Axjz"
      },
      "source": [
        "### Example: working with digit barrier\n",
        "Another case is from the limitation of hit damage (digit barrier). If Nyaru get more than 320,000 buff, the last hit of UB would exceed it when critical. For Nuneka patterns, the required buff could be even lower, around 275,000. The buff corresponds to 2,850k and 2,450k damage of Nyaru UB in last 18s."
      ],
      "id": "cAWZ8Zq4Axjz"
    },
    {
      "cell_type": "code",
      "metadata": {
        "colab": {
          "base_uri": "https://localhost:8080/"
        },
        "id": "xA937lo2lzyV",
        "outputId": "2fe6f549-3a64-4dc6-e3ad-33d9eb448d9c"
      },
      "source": [
        "buffRaw = 320000\n",
        "damageRaw = nyaruUB(NYARU['attack']+320000 , NYARU['critical'], enemyLv=120, detail=True)\n",
        "print('Nyaru UB with ' + repr(buffRaw) + ' buff: ' +repr(damageRaw))\n",
        "print('> Last hit with critical: %d' % (damageRaw[1] * 2.0))\n",
        "print('> Buff required damage of Nyaru UB: ' + repr(int(buffRaw / NYARU_UB_BUFF_COEFF)))\n",
        "\n",
        "buffNuneka = 275000\n",
        "damageNuneka = nyaruUB(NYARU['attack']+buffNuneka , NYARU['critical'], criticalDamageBuff=0.15, enemyLv=120, detail=True)\n",
        "print('Nyaru UB with ' + repr(buffNuneka) + ' buff and Nuneka critical damage buff: ' + repr(damageNuneka))\n",
        "print('> Last hit with critical: %d' % (damageNuneka[1] * 2.0 * 1.15))\n",
        "print('> Buff required damage of Nyaru UB: ' + repr(int(buffNuneka / NYARU_UB_BUFF_COEFF)))"
      ],
      "id": "xA937lo2lzyV",
      "execution_count": 29,
      "outputs": [
        {
          "output_type": "stream",
          "text": [
            "Nyaru UB with 320000 buff: [126262, 505049, 3272715.0]\n",
            "> Last hit with critical: 1010098\n",
            "> Buff required damage of Nyaru UB: 2844444\n",
            "Nyaru UB with 275000 buff and Nuneka critical damage buff: [109647, 438587, 3269691.0]\n",
            "> Last hit with critical: 1008750\n",
            "> Buff required damage of Nyaru UB: 2444444\n"
          ],
          "name": "stdout"
        }
      ]
    },
    {
      "cell_type": "markdown",
      "metadata": {
        "id": "40dJAI92FUT4"
      },
      "source": [
        "To verify the method for multi-hit UB, the data from [video](https://www.youtube.com/watch?v=VIWQDPDHeJY) by ハンマリォch. was extracted, which is Nyaru vs Minotaur (3rd phase).\n",
        "\n",
        "The UB damage of Nyara:\n",
        "\n",
        "*   1:22, 241310\n",
        "*   1:18, 535032\n",
        "*   1:14, 985206\n",
        "*   1:11, 1120470\n",
        "*   1:07, 1079101 (no debuff, 100 magical defence)\n",
        "*   0:59, 1191251\n",
        "\n"
      ],
      "id": "40dJAI92FUT4"
    },
    {
      "cell_type": "code",
      "metadata": {
        "colab": {
          "base_uri": "https://localhost:8080/"
        },
        "id": "XABpbXFx5hcM",
        "outputId": "1e10556a-9d98-4339-992d-9477371efba8"
      },
      "source": [
        "# Rest time (seconds) and total UB damage\n",
        "exampleNyaruUBDmage = [(82, 241310), (78, 535032), (74, 985206), (71, 1120470), (67, 1079101), (59, 1191251)]\n",
        "\n",
        "# First UB\n",
        "otherBuff = (18. + 6. ) * (LV_MAX + 1)\n",
        "nextUBDamage = nyaruUB(NYARU_4['attack'] - 25 + otherBuff, NYARU['critical'], enemyLv=120, detail=True)\n",
        "print(nextUBDamage)\n",
        "\n",
        "# Test A: UB at 1:07\n",
        "## Neneka's debuff is missing, and the defence is 100, so damage is halved.\n",
        "ubDamageA = sum(x[1] for x in exampleNyaruUBDmage[0:4])\n",
        "# buff from Saren (S1, 1:24; S2, 1:15), Nyaru(S2, 1:22/1:12) and Luna (S1, 1:18/1:11/1:07)\n",
        "otherBuff = (18. + 2.5 + 6. *2 + 7.5 *3) * (LV_MAX + 1)\n",
        "nextUBDamage = nyaruUB(NYARU_4['attack'] + ubDamageA * NYARU_UB_BUFF_COEFF  + otherBuff, \n",
        "                       NYARU_4['critical'], enemyLv=120, detail=True)\n",
        "print('Total damage: ' + repr(nextUBDamage) + ', damge after logarithm :  ' + repr(round(LogBarrier(nextUBDamage[2] / 2.))))\n",
        "nextUBDamageWithoutDigitBarrier = nextUBDamage[0] * 2 * 9 + nextUBDamage[1] * 2\n",
        "print( 'Damage w/o digit barrier: %d, after logarithm : %d' % (nextUBDamageWithoutDigitBarrier , round( LogBarrier(nextUBDamageWithoutDigitBarrier /2. ))))\n",
        "\n",
        "# Test B: UB at 0:59\n",
        "# buff from Saren (S2, 1:02; UB, 1:05), Neneka(UB, 1:06) and Luna (S1, 1:11/1:07)\n",
        "otherBuff = (2.5 + 10.5 + 28 + 7.5 *2 ) * (LV_MAX + 1)\n",
        "ubDamageB = sum(x[1] for x in exampleNyaruUBDmage[2:5])\n",
        "nextUBDamage = nyaruUB(NYARU_4['attack'] + ubDamageB * NYARU_UB_BUFF_COEFF  + otherBuff, \n",
        "                       NYARU_4['critical'], enemyLv=120, detail=True)\n",
        "print('Total damage: ' + repr(nextUBDamage) + ', damge after logarithm :  ' + repr(round(LogBarrier(nextUBDamage[2]))))\n",
        "nextUBDamageWithoutDigitBarrier = nextUBDamage[0] * 2 * 9 + nextUBDamage[1] * 2\n",
        "print( 'Damage w/o digit barrier: %d, after logarithm : %d' % (nextUBDamageWithoutDigitBarrier , round( LogBarrier(nextUBDamageWithoutDigitBarrier ))))"
      ],
      "id": "XABpbXFx5hcM",
      "execution_count": 30,
      "outputs": [
        {
          "output_type": "stream",
          "text": [
            "[9572, 38288, 248872.0]\n",
            "Total damage: [131585, 526340, 3368529.0], damge after logarithm :  1073459\n",
            "Damage w/o digit barrier: 3421210, after logarithm : 1076239\n",
            "Total damage: [144235, 576940, 3596229.0], damge after logarithm :  1184858\n",
            "Damage w/o digit barrier: 3750110, after logarithm : 1190123\n"
          ],
          "name": "stdout"
        }
      ]
    },
    {
      "cell_type": "markdown",
      "metadata": {
        "id": "rpUxNEq70SNR"
      },
      "source": [
        "## EX4 Dungeon - Nyaru patterns\n",
        "\n",
        "Basic Strategy\n",
        "1. Kill BLACK boss at 1:14 (before first buff clear action)\n",
        "2. Hit WHITE boss under 50% during 1:02-1:00 (actions to clear buff)\n",
        "\n",
        "The next action to clear buff is 0:46-0:43, and all the buff would be cleared at the end of damage hits, around 0:43-0:42. So the power of Nyaru-Luna patterns is unlimited in the first 46 seconds.\n",
        "\n",
        "HP of both boss should be adjusted to achive the above timeline. Upper limit is constrained by the maximum damage of Nyaru with 100% criticals, while lower limit is set to avoid reaching the HP target before the check point (for BLACK boss is more loose than WHITE). Considering the wide gap of level between boss and player (lv. 400  and lv. 196), the critical rate of Nyaru is around 30% to 40%. Therefore, the damage distribution is necessary to select proper range for HP adjusting.\n"
      ],
      "id": "rpUxNEq70SNR"
    },
    {
      "cell_type": "markdown",
      "metadata": {
        "id": "TDoBTCTy60cY"
      },
      "source": [
        "### 1. W-Neneka pattern\n",
        "Neneka (New year), Saren (Summer), Neneka, Nyaru, Luna\n"
      ],
      "id": "TDoBTCTy60cY"
    },
    {
      "cell_type": "code",
      "metadata": {
        "id": "5GOJXIPo7Y7e",
        "colab": {
          "base_uri": "https://localhost:8080/",
          "height": 516
        },
        "outputId": "33afc47e-eaa9-4fd3-8db6-c65a8f88d368"
      },
      "source": [
        "# Time: 1:23\n",
        "ex4start = lambda x : nyaruUB(NYARU['attack'] + 19756, NYARU['critical']+180,0.15,400, detail=x)\n",
        "print(ex4start(True))\n",
        "histUB = []\n",
        "nyaruUB_ex4 = lambda x,y,z : nyaruUB(NYARU['attack'] + x, NYARU['critical']+y,z,400, detail=False)\n",
        "nyaruUB_ex4WHITE = lambda x,y,z : nyaruUB(NYARU['attack'] + x, NYARU['critical']+y,z,400, detail=False, magic_defense=80)\n",
        "DEBUG_FLAG = True\n",
        "LUNA_EX4 = LUNA_3\n",
        "for ev in range(0,100000):\n",
        "  # UB time: 1:23, 1:21, 1:21, 1:15, 1:14, 1:11, 1:11/1:08\n",
        "  # Nyaru Skill: S2, S1/x, A, S1, S2/x, A, S1, A, A, S1\n",
        "  # Array: UB/1:23, UB/1:21, UB/1:21, attack, S1, UB/1:15, UB/1:14, UB/1:11, UB/1:11or1:08\n",
        "  nyaruDamage = [0] * 11\n",
        "  #1:25 before Nuneka\n",
        "  otherBuff = (28+10.5) * (LV_MAX +1) \n",
        "  nunekaAttack = 7168 + 240 + 15 * LV_MAX # 5star, Rand12 with TP equiment ONLY\n",
        "  nunekaBuff = 10.5 * (LV_MAX + 1) + (nunekaAttack + otherBuff) * 0.08\n",
        "  nunekaCriticalBuff = 30 + 0.003 * (nunekaAttack + otherBuff)\n",
        "  otherCriticalBuff = nunekaCriticalBuff\n",
        "  otherCriticalDamageBuff = 0.1 # Nuneka UB\n",
        "  #1:23 Nyaru 1st UB\n",
        "  otherBuff +=  nunekaBuff + (18 + 6) * (LV_MAX +1) #Saren S1 (until 1:03) + Nyaru S2 (until 1:11)\n",
        "  nyaruBuff = otherBuff + 20. * (LV_MAX +1) # Nuneka S1 (until 1:11)\n",
        "  nyaruCriticalBuff = nunekaCriticalBuff + 100 # Nuneka S1 (until 1:11)\n",
        "  nyaruCriticalDamageBuff = otherCriticalDamageBuff + 0.05 # Nuneka S1 (until 1:11)\n",
        "  ubDamage = nyaruUB_ex4(nyaruBuff, nyaruCriticalBuff, nyaruCriticalDamageBuff)\n",
        "  nyaruBuff += ubDamage * NYARU_UB_BUFF_COEFF # until 1:05\n",
        "  nyaruDamage[0] = ubDamage\n",
        "    #DEBUG\n",
        "  if(DEBUG_FLAG):\n",
        "    print('Nyaru start UB : ' + repr(nyaruUB(NYARU['attack'] + nyaruBuff, NYARU['critical']+180,0.15,400,detail=True)))\n",
        "  # 1:22 - Nuneka 2nd UB\n",
        "  nunekaBuff = 10.5 * (LV_MAX + 1) + (nunekaAttack + otherBuff) * 0.08\n",
        "  nunekaCriticalBuff = 30 + 0.003 * (nunekaAttack + otherBuff)\n",
        "  otherBuff += nunekaBuff\n",
        "  otherCriticalBuff += nunekaCriticalBuff\n",
        "  otherCriticalDamageBuff += 0.1\n",
        "  #1:21 - Nyaru 2nd/3rd UB by Luna S1\n",
        "  nyaruBuff += 7.5 * (LV_MAX +1)\n",
        "  nyaruCriticalBuff += nunekaCriticalBuff + 100\n",
        "  nyaruCriticalDamageBuff += 0.1\n",
        "    #2nd UB\n",
        "  ubDamage = nyaruUB_ex4(nyaruBuff, nyaruCriticalBuff, nyaruCriticalDamageBuff)\n",
        "  nyaruBuff += ubDamage * NYARU_UB_BUFF_COEFF\n",
        "  nyaruDamage[1] = ubDamage\n",
        "    # 3rd UB\n",
        "  ubDamage = nyaruUB_ex4(nyaruBuff, nyaruCriticalBuff, nyaruCriticalDamageBuff)\n",
        "  nyaruBuff += ubDamage * NYARU_UB_BUFF_COEFF\n",
        "  nyaruDamage[2] = ubDamage\n",
        "    # Luna damage\n",
        "  nyaruHurt = LunaS1(LUNA_EX4['attack'] + otherBuff, NYARU['defence_magic'], LUNA_EX4['critical']+otherCriticalBuff, otherCriticalDamageBuff)\n",
        "  lunaCriticalRate = critical_rate(LUNA_EX4['critical'] + otherCriticalBuff, LV_MAX)\n",
        "  if(DEBUG_FLAG):\n",
        "    print('Luna critical rate at 1:21 : ' + repr(lunaCriticalRate))\n",
        "    print('Luna hit Nyaru : ' + repr(nyaruHurt))\n",
        "  # 1:18 Nyaru Attack\n",
        "  nyaruDamage[3] = critical_damage(\n",
        "      NYARU['attack'] + nyaruBuff,\n",
        "      critical_rate(NYARU['critical'] + nyaruCriticalBuff, 400),\n",
        "      nyaruCriticalDamageBuff )\n",
        "  # Nyaru HP check\n",
        "  nyaruHpAbsorbRate = 6. / (100 + 400 + 6)\n",
        "  if sum(nyaruDamage[1:4]) * nyaruHpAbsorbRate < nyaruHurt:\n",
        "    histUB.append(nyaruDamage)\n",
        "    DEBUG_FLAG = False\n",
        "    continue\n",
        "  # 1:15 Nyaru S1\n",
        "  nyaruDamage[4] =NyaruS1(NYARU['attack'] + nyaruBuff, 0, NYARU['critical'] + nyaruCriticalBuff, nyaruCriticalDamageBuff, 400)\n",
        "  nyaruDamageWHITE = NyaruS1(NYARU['attack'] + nyaruBuff, 80, NYARU['critical'] + nyaruCriticalBuff, nyaruCriticalDamageBuff, 400)\n",
        "  nyaruDamageWHITE += NyaruS1(NYARU['attack'] + nyaruBuff, 50, NYARU['critical'] + nyaruCriticalBuff, nyaruCriticalDamageBuff, 400)\n",
        "  nyaruDamageWHITE += NyaruS1(NYARU['attack'] + nyaruBuff, 50, NYARU['critical'] + nyaruCriticalBuff, nyaruCriticalDamageBuff, 400)\n",
        "  # 1:15 Saren S2\n",
        "  otherBuff += 2.5 * (LV_MAX + 1)\n",
        "  otherCriticalBuff += 20\n",
        "  nyaruBuff += 2.5 * (LV_MAX + 1)\n",
        "  nyaruCriticalBuff += 20\n",
        "  # 1:14 Nyaru 4/5th UB by Luna S1\n",
        "    # Luna S1\n",
        "  nyaruHurt = LunaS1(LUNA_EX4['attack'] + otherBuff, NYARU['defence_magic'], LUNA_EX4['critical']+otherCriticalBuff, otherCriticalDamageBuff)\n",
        "  if(DEBUG_FLAG):\n",
        "    lunaCriticalRate = critical_rate(LUNA_EX4['critical'] + otherCriticalBuff, LV_MAX)\n",
        "    print('Luna critical rate at 1:15 : ' + repr(lunaCriticalRate))\n",
        "    print('Luna hit Nyaru : ' + repr(nyaruHurt))\n",
        "  nyaruBuff += 7.5 * (LV_MAX +1)\n",
        "  nyaruCriticalBuff += 100\n",
        "    # Nyaru 4th UB\n",
        "  ubDamage = nyaruUB_ex4(nyaruBuff, nyaruCriticalBuff, nyaruCriticalDamageBuff)\n",
        "  nyaruBuff += ubDamage * NYARU_UB_BUFF_COEFF\n",
        "  nyaruDamage[5] = ubDamage\n",
        "    # Nyaru 5th UB (TP check)\n",
        "  nyarutpBoost = 1 + NYARU['tp_boost'] / 100. + 0.15 + 0.05 # Nenek UB + Nuneka UB x2\n",
        "  nyaruTP = round(90 * nyarutpBoost) * 2 + 170\n",
        "  if(nyaruHurt < (1000 - nyaruTP) / 500. / nyarutpBoost * NYARU['hp']):\n",
        "    histUB.append(nyaruDamage)\n",
        "    DEBUG_FLAG = False\n",
        "    continue\n",
        "  ubDamage = nyaruUB_ex4(nyaruBuff, nyaruCriticalBuff, nyaruCriticalDamageBuff)\n",
        "  nyaruBuff += ubDamage * NYARU_UB_BUFF_COEFF\n",
        "  nyaruDamage[6] = ubDamage\n",
        "  # Kill BLACK and MOVE to WHITE\n",
        "  # 1:14 Saren UB\n",
        "  otherBuff += 10.5 * (LV_MAX + 1)\n",
        "  nyaruBuff += 10.5 * (LV_MAX + 1)\n",
        "  # 1:14 Nuneka S1\n",
        "  nyaruBuff += 20. * (LV_MAX +1)\n",
        "  nyaruCriticalBuff += 100\n",
        "  nyaruCriticalDamageBuff += 0.05\n",
        "  # 1:13 Buff check - Saren UB at 1:25\n",
        "  otherBuff -= 10.5 * (LV_MAX + 1)\n",
        "  nyaruBuff -= 10.5 * (LV_MAX + 1)  \n",
        "  # 1:12 Nyaru Attack to WHITE + 1:15 S1 AOE to 3 targets\n",
        "  nyaruDamage[7] = nyaruDamageWHITE + critical_damage(NYARU['attack'] + nyaruBuff, critical_rate(NYARU['critical'] + nyaruCriticalBuff, 400), nyaruCriticalDamageBuff, 2.0, 80)\n",
        "  # 1:11 Luna S1\n",
        "  nyaruHurt = LunaS1(LUNA_EX4['attack'] + otherBuff, NYARU['defence_magic'], LUNA_EX4['critical']+otherCriticalBuff, otherCriticalDamageBuff)\n",
        "  if(nyaruHurt > NYARU['hp'] or DEBUG_FLAG):\n",
        "    print('> TL check - Nyaru killed by Luna at 1:11 (%d, %d)' % (nyaruHurt, NYARU['hp']))\n",
        "  if(DEBUG_FLAG):\n",
        "    lunaCriticalRate = critical_rate(LUNA_EX4['critical'] + otherCriticalBuff, LV_MAX)\n",
        "    print('Luna critical rate at 1:11 : ' + repr(lunaCriticalRate))\n",
        "    print('Luna hit Nyaru : ' + repr(nyaruHurt))\n",
        "  nyaruBuff += 7.5 * (LV_MAX +1)\n",
        "  nyaruCriticalBuff += 100\n",
        "  # 1:11 Nyaru 6th UB\n",
        "  ubDamage = nyaruUB_ex4WHITE(nyaruBuff, nyaruCriticalBuff, nyaruCriticalDamageBuff)\n",
        "  nyaruBuff += ubDamage * NYARU_UB_BUFF_COEFF\n",
        "  nyaruDamage[8] = ubDamage\n",
        "  # 1:11 Neneka + Nuneka UB\n",
        "  otherBuff += 28 * (LV_MAX + 1)\n",
        "  nyaruBuff += 28 * (LV_MAX + 1)\n",
        "  nunekaBuff = 10.5 * (LV_MAX +1) + (nunekaAttack +otherBuff) * 0.08\n",
        "  nunekaCriticalBuff += 30 + (nunekaAttack +otherBuff) * 0.003\n",
        "  otherBuff += nunekaBuff\n",
        "  otherCriticalBuff += nunekaCriticalBuff\n",
        "  otherCriticalDamageBuff += 0.1\n",
        "  nyaruBuff += nunekaBuff\n",
        "  nyaruCriticalBuff += nunekaCriticalBuff\n",
        "  nyaruCriticalDamageBuff += 0.1\n",
        "  # 1:11 Nyaru 7th UB\n",
        "  ubDamage = nyaruUB_ex4WHITE(nyaruBuff, nyaruCriticalBuff, nyaruCriticalDamageBuff)\n",
        "  nyaruDamage[9] = ubDamage\n",
        "  # 1:08 Nyaru 7th UB (IF)\n",
        "    #Buff check (1:23 Nuneka, 1:21 Luna)\n",
        "  nyaruBuff -= 20. * (LV_MAX +1)\n",
        "  nyaruCriticalBuff -= 100\n",
        "  nyaruCriticalDamageBuff -= 0.05\n",
        "  nyaruBuff -= 7.5 * (LV_MAX +1)\n",
        "  nyaruCriticalBuff -= 100\n",
        "  ubDamage = nyaruUB_ex4(nyaruBuff, nyaruCriticalBuff, nyaruCriticalDamageBuff)\n",
        "  nyaruDamage[10] = ubDamage\n",
        "  # END\n",
        "  histUB.append(nyaruDamage)\n",
        "  DEBUG_FLAG = False\n",
        "\n",
        "\n",
        "hurtFlag = [int(bool(x[4])) for x in histUB]\n",
        "counts, binedges = np.histogram(hurtFlag, bins=[-0.5,0.5,1.5])\n",
        "print(' > TL check - Nyaru HP at 1:18 [FAIL, PASS] =[%d vs %d]' % (counts[0], counts[1]))\n",
        "\n",
        "successFlag = [int(bool(x[6])) for x in histUB]\n",
        "counts, binedges = np.histogram(successFlag, bins=[-0.5,0.5,1.5])\n",
        "print(' > TL check - Nyaru TP at 1:14 [FAIL, PASS] =[%d vs %d]' % (counts[0], counts[1]))\n",
        "\n",
        "fig, ax = plt.subplots()\n",
        "damageSumBefore115 = [ sum(x[0:5])/10000. for x in histUB if x[4] > 0]\n",
        "damageSum115 = [ sum(x[0:6])/10000. for x in histUB if x[5] > 0]\n",
        "damageSum114 = [ sum(x[0:7])/10000. for x in histUB if x[6] > 0]\n",
        "damageSumWHITE = [(x[7]+x[8]+x[9])/10000 + 500 for x in histUB if x[7] > 0]\n",
        "damageSumWHITE_if = [(x[7]+x[8]+x[10])/10000 + 500 for x in histUB if x[7] > 0]\n",
        "pltKwargs = dict(histtype='stepfilled', alpha=0.3, density=True, bins=range(100,2500,10))\n",
        "histBefore115 = plt.hist(damageSumBefore115, **pltKwargs, label='Nyaru damage after 1:15 S1')\n",
        "hist115 = plt.hist(damageSum115, **pltKwargs, label='+ 1:15 UB')\n",
        "hist114 = plt.hist(damageSum114, **pltKwargs, label='+ 1:14 UB')\n",
        "histWHITE = plt.hist(damageSumWHITE, **pltKwargs, label='Damage to WHITE until 1:00')\n",
        "histWHITE_if = plt.hist(damageSumWHITE_if, **pltKwargs, label='Damage to WHITE until 1:00 (IF)')\n",
        "leg = ax.legend()\n",
        "plt.title('EX4 Nyaru total damge simulation (W-Neneka pattern)')\n",
        "plt.ylabel('Prob. Density')\n",
        "plt.xlabel('Nyaru total damage / 1e4')"
      ],
      "id": "5GOJXIPo7Y7e",
      "execution_count": 31,
      "outputs": [
        {
          "output_type": "stream",
          "text": [
            "[15403, 61611, 280334.0]\n",
            "Nyaru start UB : [28911, 115646, 563770.0]\n",
            "Luna critical rate at 1:21 : 0.7628001600000002\n",
            "Luna hit Nyaru : 22783\n",
            "Luna critical rate at 1:15 : 0.7728001600000001\n",
            "Luna hit Nyaru : 23084\n",
            "> TL check - Nyaru killed by Luna at 1:11 (9619, 23855)\n",
            "Luna critical rate at 1:11 : 0.7728001600000001\n",
            "Luna hit Nyaru : 9619\n",
            " > TL check - Nyaru HP at 1:18 [FAIL, PASS] =[18447 vs 81553]\n",
            " > TL check - Nyaru TP at 1:14 [FAIL, PASS] =[37078 vs 62922]\n"
          ],
          "name": "stdout"
        },
        {
          "output_type": "execute_result",
          "data": {
            "text/plain": [
              "Text(0.5, 0, 'Nyaru total damage / 1e4')"
            ]
          },
          "metadata": {
            "tags": []
          },
          "execution_count": 31
        },
        {
          "output_type": "display_data",
          "data": {
            "image/png": "[encoded data removed]",
            "text/plain": [
              "<Figure size 432x288 with 1 Axes>"
            ]
          },
          "metadata": {
            "tags": [],
            "needs_background": "light"
          }
        }
      ]
    },
    {
      "cell_type": "code",
      "metadata": {
        "colab": {
          "base_uri": "https://localhost:8080/",
          "height": 295
        },
        "id": "s4izl6LqXOhi",
        "outputId": "4bf932c9-80e8-4cda-ab77-a2cedeaaed3c"
      },
      "source": [
        "# Optimize plots\n",
        "fig, ax = plt.subplots()\n",
        "pltKwargs = dict(histtype='stepfilled', alpha=0.3, density=True, bins=range(100,2500,10))\n",
        "histBefore115 = plt.hist(damageSumBefore115, **pltKwargs, label='Nyaru damage after 1:15 S1')\n",
        "hist115 = plt.hist(damageSum115, **pltKwargs, label='+ 1:15 UB')\n",
        "hist114 = plt.hist(damageSum114, **pltKwargs, label='+ 1:14 UB')\n",
        "histWHITE = plt.hist(damageSumWHITE, **pltKwargs, label='Damage to WHITE until 1:00')\n",
        "histWHITE_if = plt.hist(damageSumWHITE_if, **pltKwargs, label='Damage to WHITE until 1:00 (IF)')\n",
        "leg = ax.legend()\n",
        "plt.title('EX4 Nyaru total damge simulation (W-Neneka pattern)')\n",
        "plt.ylabel('Prob. Density')\n",
        "plt.xlabel('Nyaru total damage / 1e4')\n",
        "plt.savefig('pcr_ex4.png')"
      ],
      "id": "s4izl6LqXOhi",
      "execution_count": 32,
      "outputs": [
        {
          "output_type": "display_data",
          "data": {
            "image/png": "[encoded data removed]",
            "text/plain": [
              "<Figure size 432x288 with 1 Axes>"
            ]
          },
          "metadata": {
            "tags": [],
            "needs_background": "light"
          }
        }
      ]
    },
    {
      "cell_type": "code",
      "metadata": {
        "colab": {
          "base_uri": "https://localhost:8080/"
        },
        "id": "cGihuIaz5_p-",
        "outputId": "459f216c-cd77-48fe-bd62-e5e225662dd2"
      },
      "source": [
        "# Damage and buff check\n",
        "print(LunaS1(LUNA_4['attack'] + 6 *(LV_MAX +1), NYARU['defence_magic'], LUNA_4['critical'] ))\n",
        "print(nyaruUB(NYARU['attack'] + 19756, NYARU['critical']+180,0.15,enemyLv=400, lv=LV_MAX,detail=True, magic_defense=0))\n",
        "print((nunekaAttack + (10.5 + 28 + 10.5 + 2.5) *(LV_MAX+1) +1300) * 0.003)\n",
        "print(critical_rate(LUNA_4['critical'] + 30 + 70, LV_MAX))"
      ],
      "id": "cGihuIaz5_p-",
      "execution_count": 33,
      "outputs": [
        {
          "output_type": "stream",
          "text": [
            "9695\n",
            "[15403, 61611, 260310.0]\n",
            "65.979\n",
            "0.7160000000000001\n"
          ],
          "name": "stdout"
        }
      ]
    },
    {
      "cell_type": "code",
      "metadata": {
        "colab": {
          "base_uri": "https://localhost:8080/"
        },
        "id": "eqyMCcQUk8tS",
        "outputId": "f9ecc181-f781-4917-aa49-97448a7e1407"
      },
      "source": [
        "# HP absord check\n",
        "print(14808/nyaruHpAbsorbRate)\n",
        "print(14808./1249290)\n",
        "print(3367./294031)"
      ],
      "id": "eqyMCcQUk8tS",
      "execution_count": 34,
      "outputs": [
        {
          "output_type": "stream",
          "text": [
            "1248808.0\n",
            "0.011853132579305046\n",
            "0.011451173515717731\n"
          ],
          "name": "stdout"
        }
      ]
    },
    {
      "cell_type": "code",
      "metadata": {
        "colab": {
          "base_uri": "https://localhost:8080/"
        },
        "id": "JaAhKDyqPJCD",
        "outputId": "4f6001f5-a6b8-4670-c5a4-a7ddca9c9fec"
      },
      "source": [
        "# Luna attack check (if crtical to kill Nyaru)\n",
        "LunaAttack115 = round(23115 / 2.4 * 3.88)\n",
        "overHP = (LunaAttack115 - (LUNA_4['attack'] - LUNA_3['attack']) + 6 * (LV_MAX +1))/ 3.88 * 2.4 - NYARU['hp']\n",
        "print(overHP + NYARU['hp'])\n",
        "LUNA_4['attack'] - LUNA_3['attack']\n",
        "testOverHP = 23656 - NYARU['hp']\n",
        "13873 - (testOverHP * 3.88 / 2.4) "
      ],
      "id": "JaAhKDyqPJCD",
      "execution_count": 35,
      "outputs": [
        {
          "output_type": "stream",
          "text": [
            "23502.061855670105\n"
          ],
          "name": "stdout"
        },
        {
          "output_type": "execute_result",
          "data": {
            "text/plain": [
              "14194.716666666667"
            ]
          },
          "metadata": {
            "tags": []
          },
          "execution_count": 35
        }
      ]
    },
    {
      "cell_type": "markdown",
      "metadata": {
        "id": "yLb_6vS57YSr"
      },
      "source": [
        "#### Nyaru TP check\n",
        "* 1:15 Luna MUST hit **CRITICAL** at Nyaru\n",
        "* 1:11 PASS with NO critical\n",
        "* 1:00/0:58 WHITE perform All hit to Nyaru (if not, still OK at 0:57 with Luna S1)\n",
        "* 0:44 Luna MUST hit **CRITICAL** + **1 hits** from WHITE boss\n",
        "\n",
        "*ISSUE*: Nyaru hurt from WHITE at 0:44 is 1733/hit but not 1922 (calculated from data). IF SLv of Main 4 (WHITE) should be 250 not 500?\n",
        "\n",
        "**SOLVED**: Buff clear at 1:00 was cancelled as well as the self buff."
      ],
      "id": "yLb_6vS57YSr"
    },
    {
      "cell_type": "code",
      "metadata": {
        "colab": {
          "base_uri": "https://localhost:8080/"
        },
        "id": "UtqOto7LsQV6",
        "outputId": "427dbb86-1548-440e-bae1-4b8f4a6d0825"
      },
      "source": [
        "# Nyaru TP check\n",
        "# 1:15\n",
        "tpBoost = 15 + 5 *2 + NYARU['tp_boost']\n",
        "hurtNyaru = hurt_for_UB(2, tpBoost, NYARU['tp_retain'], NYARU['hp'], NYARU['defence_magic'], 0)\n",
        "print('Damage required at 1:15 - %d' % hurtNyaru)\n",
        "# 1:11\n",
        "tpBoost = 15 + 5*2 + NYARU['tp_boost']\n",
        "hurtNyaru = hurt_for_UB(1, tpBoost, NYARU['tp_retain'], NYARU['hp'], NYARU['defence_magic'], \n",
        "                        kill_tp(tpBoost) + nuneka_tp(tpBoost))\n",
        "print('Damage required at 1:11 - %d' % hurtNyaru)\n",
        "# 1:00\n",
        "tpBoost = 15 + 5 + NYARU['tp_boost']\n",
        "tpBoost108 = 15 * 2 + 5*3 + NYARU['tp_boost']\n",
        "tpBoost106 = 15 + 5*2 + NYARU['tp_boost']\n",
        "hurtNyaru = hurt_for_UB(3, tpBoost, NYARU['tp_retain'], NYARU['hp'], NYARU['defence_magic'],\n",
        "                        nuneka_tp(tpBoost108) +action_tp(tpBoost106) )\n",
        "print('Damage required at 1:00 - %d' % hurtNyaru)\n",
        "print('> Nuneka TP boost at 1:07 = %d'  % nuneka_tp(tpBoost108))\n",
        "whiteS1 = 100 + 50 * 400 + (0.1 + 0.0005 * 400) * 5000\n",
        "print('> Nyaru hurt per hit from WHITE S1 - %d' % (whiteS1/4/(1+NYARU['defence_magic']/100.)))\n",
        "print('> WHITE damage at 1:00 - %d, %d, %d, %d' % (whiteS1/4, whiteS1/2, whiteS1*3/4, whiteS1))\n",
        "# 0:44\n",
        "tpBoost = 15 + 5 + NYARU['tp_boost']\n",
        "hurtNyaru = hurt_for_UB(3, tpBoost, NYARU['tp_retain'], NYARU['hp'], NYARU['defence_magic'], 0)\n",
        "print('Damage required at 0:44 - %d' % hurtNyaru)\n",
        "whiteS1 = 100 + 50 * 400 + (0.1 + 0.0005 * 400) * (5000 +1 + 40 *500)\n",
        "print('> Nyaru hurt per hit from WHITE S1 - %d' % (whiteS1/4/(1+NYARU['defence_magic']/100.)))\n",
        "print('> WHITE damage at 0:44 - %d, %d, %d, %d' % (whiteS1/4, whiteS1/2, whiteS1*3/4, whiteS1))\n",
        "nunekaAttack053 = NUNEKA_ATTACK + (28 * 2 + 10.5 + 10.5 + 2.5) * (LV_MAX +1)  # delta from 111\n",
        "lunaAttack = LUNA_3['attack'] + (28 + 10.5 + 10.5 + 2.5) * (LV_MAX +1) + nunekaAttack053 * 0.08\n",
        "print('> Luna damage at 0:44 - %d, %d/critical' % (lunaAttack, lunaAttack * 2 * 1.1))\n",
        "hurtNyaru = hurt_for_UB(2, tpBoost, NYARU['tp_retain'], NYARU['hp'], NYARU['defence_magic'], 0)\n",
        "print('> (IF) Damage required at 0:44 - %d' % hurtNyaru)\n",
        "# 0:19\n",
        "tpBoost = 15 +5 + NYARU['tp_boost']\n",
        "hurtNyaru = hurt_for_UB(4, tpBoost, NYARU['tp_retain'], NYARU['hp'], NYARU['defence_magic'], nuneka_tp(tpBoost))\n",
        "print('Damage required at 0:19 - %d' % hurtNyaru)\n",
        "whiteS1 = 100 + 50 * 400 + (0.1 + 0.0005 * 400) * (5000 + 25 * 400 +1 + 40 *500)\n",
        "print('> Nyaru hurt per hit from WHITE S1 - %d' % (whiteS1/4/(1+NYARU['defence_magic']/100.)))\n",
        "print('> WHITE damage at 0:19 - %d, %d, %d, %d' % (whiteS1/4, whiteS1/2, whiteS1*3/4, whiteS1))\n",
        "hurtNyaru = hurt_for_UB(3, tpBoost, NYARU['tp_retain'], NYARU['hp'], NYARU['defence_magic'], nuneka_tp(tpBoost))\n",
        "print('> Damage required at 0:19 (Nyaru 3 actions ONLY) - %d' % hurtNyaru)"
      ],
      "id": "UtqOto7LsQV6",
      "execution_count": 36,
      "outputs": [
        {
          "output_type": "stream",
          "text": [
            "Damage required at 1:15 - 80082\n",
            "Damage required at 1:11 - 33023\n",
            "Damage required at 1:00 - 18417\n",
            "> Nuneka TP boost at 1:07 = 217\n",
            "> Nyaru hurt per hit from WHITE S1 - 1356\n",
            "> WHITE damage at 1:00 - 5400, 10800, 16200, 21600\n",
            "Damage required at 0:44 - 67102\n",
            "> Nyaru hurt per hit from WHITE S1 - 1733\n",
            "> WHITE damage at 0:44 - 6900, 13800, 20700, 27600\n",
            "> Luna damage at 0:44 - 29926, 65838/critical\n",
            "> (IF) Damage required at 0:44 - 84235\n",
            "Damage required at 0:19 - 23842\n",
            "> Nyaru hurt per hit from WHITE S1 - 1922\n",
            "> WHITE damage at 0:19 - 7650, 15300, 22950, 30600\n",
            "> Damage required at 0:19 (Nyaru 3 actions ONLY) - 40975\n"
          ],
          "name": "stdout"
        }
      ]
    }
  ]
}